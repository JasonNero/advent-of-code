{
 "cells": [
  {
   "cell_type": "markdown",
   "source": [
    "# Giant Squid (Bingo)"
   ],
   "metadata": {}
  },
  {
   "cell_type": "markdown",
   "source": [
    "## Part 1"
   ],
   "metadata": {}
  },
  {
   "cell_type": "markdown",
   "source": [
    "The score of the winning board can now be calculated. Start by finding the s**um of all unmarked numbers on that board**; in this case, the sum is 188. **Then, multiply that sum by the number that was just called when the board won**, 24, to get the final score, 188 * 24 = 4512.\n",
    "\n",
    "To guarantee victory against the giant squid, figure out which board will win first. What will your final score be if you choose that board?"
   ],
   "metadata": {}
  },
  {
   "cell_type": "code",
   "execution_count": 171,
   "source": [
    "test_data = \"\"\"7,4,9,5,11,17,23,2,0,14,21,24,10,16,13,6,15,25,12,22,18,20,8,19,3,26,1\n",
    "\n",
    "22 13 17 11  0\n",
    " 8  2 23  4 24\n",
    "21  9 14 16  7\n",
    " 6 10  3 18  5\n",
    " 1 12 20 15 19\n",
    "\n",
    " 3 15  0  2 22\n",
    " 9 18 13 17  5\n",
    "19  8  7 25 23\n",
    "20 11 10 24  4\n",
    "14 21 16 12  6\n",
    "\n",
    "14 21 17 24  4\n",
    "10 16 15  9 19\n",
    "18  8 23 26 20\n",
    "22 11 13  6  5\n",
    " 2  0 12  3  7\n",
    "\n",
    "\"\"\"\n",
    "\n",
    "with open(\"04_input.txt\", \"r\") as f:\n",
    "    full_data = f.read()"
   ],
   "outputs": [],
   "metadata": {}
  },
  {
   "cell_type": "code",
   "execution_count": 187,
   "source": [
    "import pprint\n",
    "\n",
    "class BingoBoard():\n",
    "    def __init__(self, board: list):\n",
    "        self.winning_number = -1\n",
    "        self.board = board\n",
    "        \n",
    "        self.mask = [\n",
    "            [False for _ in range(len(line))]\n",
    "            for line in self.board\n",
    "        ]\n",
    "        \n",
    "    def _is_finished(self) -> bool:\n",
    "        rotated_mask = [\n",
    "            [self.mask[i][j] for i in range(len(self.mask))]\n",
    "            for j in range(len(self.mask[0]))\n",
    "        ]\n",
    "                 \n",
    "        row_win = any([all(line) for line in self.mask])\n",
    "        column_win = any([all(line) for line in rotated_mask])\n",
    "        return row_win or column_win\n",
    "        \n",
    "    def check_and_report(self, number: int) -> bool:\n",
    "        for line, mask in zip(self.board, self.mask):\n",
    "            for i, entry in enumerate(line):\n",
    "                if entry == number:\n",
    "                    mask[i] = True\n",
    "                    \n",
    "        if self._is_finished():\n",
    "            self.winning_number = number\n",
    "            return True\n",
    "        else: \n",
    "            return False\n",
    "    \n",
    "    def calculate_score(self) -> int:\n",
    "        unchecked_numbers = [\n",
    "            number \n",
    "            for mask, line in zip(self.mask, self.board)\n",
    "            for checked, number in zip(mask, line)\n",
    "            if not checked\n",
    "        ]\n",
    "        unchecked_sum = sum(unchecked_numbers)\n",
    "        return unchecked_sum * self.winning_number\n",
    "\n",
    "    def dump(self) -> None:\n",
    "        pprint.pprint(self.board)\n",
    "        pprint.pprint(self.mask)\n",
    "        "
   ],
   "outputs": [],
   "metadata": {}
  },
  {
   "cell_type": "code",
   "execution_count": 192,
   "source": [
    "class BingoGame():\n",
    "    def __init__(self, data):\n",
    "        lines = data.splitlines()\n",
    "        self.sequence = [int(n) for n in lines[0].split(\",\")]\n",
    "        self.boards = []\n",
    "        \n",
    "        chunk = []\n",
    "        for i, line in enumerate(lines[2:], start=1):\n",
    "            if i % 6 == 0:\n",
    "                self.boards.append(BingoBoard(chunk))\n",
    "                chunk = []\n",
    "            else:\n",
    "                chunk.append([int(i) for i in line.split()])\n",
    "    \n",
    "    def run(self):\n",
    "        for number in self.sequence:\n",
    "            for i, board in enumerate(self.boards):\n",
    "                if board.check_and_report(number):\n",
    "                    score = board.calculate_score()\n",
    "                    board.dump()\n",
    "                    print(f\"{i} ends with {score}pts\")\n",
    "                \n"
   ],
   "outputs": [],
   "metadata": {}
  },
  {
   "cell_type": "code",
   "execution_count": 193,
   "source": [
    "BingoGame(test_data).run()"
   ],
   "outputs": [
    {
     "output_type": "stream",
     "name": "stdout",
     "text": [
      "[[14, 21, 17, 24, 4],\n",
      " [10, 16, 15, 9, 19],\n",
      " [18, 8, 23, 26, 20],\n",
      " [22, 11, 13, 6, 5],\n",
      " [2, 0, 12, 3, 7]]\n",
      "[[True, True, True, True, True],\n",
      " [False, False, False, True, False],\n",
      " [False, False, True, False, False],\n",
      " [False, True, False, False, True],\n",
      " [True, True, False, False, True]]\n",
      "Winner is board 2 with 4512pts\n"
     ]
    }
   ],
   "metadata": {}
  },
  {
   "cell_type": "code",
   "execution_count": 194,
   "source": [
    "BingoGame(full_data).run()"
   ],
   "outputs": [
    {
     "output_type": "stream",
     "name": "stdout",
     "text": [
      "[[59, 22, 70, 86, 99],\n",
      " [39, 14, 89, 75, 42],\n",
      " [12, 87, 55, 67, 28],\n",
      " [71, 26, 11, 31, 65],\n",
      " [73, 74, 58, 46, 94]]\n",
      "[[True, False, False, False, True],\n",
      " [True, True, False, False, False],\n",
      " [True, False, False, False, False],\n",
      " [True, False, False, False, False],\n",
      " [True, True, False, False, True]]\n",
      "Winner is board 16 with 33462pts\n"
     ]
    }
   ],
   "metadata": {}
  }
 ],
 "metadata": {
  "orig_nbformat": 4,
  "language_info": {
   "name": "python",
   "version": "3.9.5",
   "mimetype": "text/x-python",
   "codemirror_mode": {
    "name": "ipython",
    "version": 3
   },
   "pygments_lexer": "ipython3",
   "nbconvert_exporter": "python",
   "file_extension": ".py"
  },
  "kernelspec": {
   "name": "python3",
   "display_name": "Python 3.9.5 64-bit"
  },
  "interpreter": {
   "hash": "916dbcbb3f70747c44a77c7bcd40155683ae19c65e1c03b4aa3499c5328201f1"
  }
 },
 "nbformat": 4,
 "nbformat_minor": 2
}