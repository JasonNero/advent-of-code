{
 "cells": [
  {
   "cell_type": "markdown",
   "source": [
    "# Dive"
   ],
   "metadata": {}
  },
  {
   "cell_type": "markdown",
   "source": [
    "## Part 1\n",
    "Now, you need to figure out how to pilot this thing.\n",
    "\n",
    "It seems like the submarine can take a series of commands like forward 1, down 2, or up 3:\n",
    "\n",
    "    `forward X` increases the horizontal position by `X` units.\n",
    "    `down X` increases the depth by `X` units.\n",
    "    `up X` decreases the depth by `X` units.\n",
    "\n",
    "Note that since you're on a submarine, down and up affect your depth, and so they have the opposite result of what you might expect.\n",
    "\n",
    "The submarine seems to already have a planned course (your puzzle input). You should probably figure out where it's going. For example:\n",
    "\n",
    "```\n",
    "forward 5\n",
    "down 5\n",
    "forward 8\n",
    "up 3\n",
    "down 8\n",
    "forward 2\n",
    "```\n",
    "\n",
    "Your horizontal position and depth both start at 0. The steps above would then modify them as follows:\n",
    "\n",
    "    `forward 5` adds 5 to your horizontal position, a total of 5.\n",
    "    `down 5` adds 5 to your depth, resulting in a value of 5.\n",
    "    `forward 8` adds 8 to your horizontal position, a total of 13.\n",
    "    `up 3` decreases your depth by 3, resulting in a value of 2.\n",
    "    `down 8` adds 8 to your depth, resulting in a value of 10.\n",
    "    `forward 2` adds 2 to your horizontal position, a total of 15.\n",
    "\n",
    "After following these instructions, you would have a horizontal position of 15 and a depth of 10. (Multiplying these together produces 150.)\n",
    "\n",
    "Calculate the horizontal position and depth you would have after following the planned course. **What do you get if you multiply your final horizontal position by your final depth?**"
   ],
   "metadata": {}
  },
  {
   "cell_type": "markdown",
   "source": [
    "## Code"
   ],
   "metadata": {}
  },
  {
   "cell_type": "code",
   "execution_count": 106,
   "source": [
    "import numpy as np\n",
    "\n",
    "direction_mapping = {\n",
    "    \"forward\": np.array([1, 0]),\n",
    "    \"up\": np.array([0, 1]),\n",
    "    \"down\": np.array([0, -1]),\n",
    "}\n",
    "\n",
    "def dive(file: str) -> int:\n",
    "    position = np.array([0, 0])\n",
    "    \n",
    "    with open(file, \"r\") as f:\n",
    "        for instruction in f.readlines():\n",
    "            direction, value = instruction.split(\" \")\n",
    "            delta = direction_mapping[direction] * int(value)\n",
    "            # print(f\"{direction} {int(value)} -> {delta}\")\n",
    "            position += delta\n",
    "        \n",
    "    # invert sign of y axis for product, since we want depth not height.\n",
    "    invert = np.array([1, -1])\n",
    "    print(f\"Submarine ends up at {position} (x y)\")\n",
    "    position = position * invert\n",
    "    return np.product(position)"
   ],
   "outputs": [],
   "metadata": {}
  },
  {
   "cell_type": "code",
   "execution_count": 107,
   "source": [
    "dive(\"02_input.txt\")"
   ],
   "outputs": [
    {
     "output_type": "stream",
     "name": "stdout",
     "text": [
      "Submarine ends up at [1991 -911] (x y)\n"
     ]
    },
    {
     "output_type": "execute_result",
     "data": {
      "text/plain": [
       "1813801"
      ]
     },
     "metadata": {},
     "execution_count": 107
    }
   ],
   "metadata": {}
  },
  {
   "cell_type": "markdown",
   "source": [
    "## Part 2"
   ],
   "metadata": {}
  },
  {
   "cell_type": "markdown",
   "source": [
    "Based on your calculations, the planned course doesn't seem to make any sense. You find the submarine manual and discover that the process is actually slightly more complicated.\n",
    "\n",
    "In addition to horizontal position and depth, you'll also need to track a third value, aim, which also starts at 0. The commands also mean something entirely different than you first thought:\n",
    "\n",
    "```\n",
    "    down X increases your aim by X units.\n",
    "    up X decreases your aim by X units.\n",
    "    forward X does two things:\n",
    "        It increases your horizontal position by X units.\n",
    "        It increases your depth by your aim multiplied by X.\n",
    "```\n",
    "\n",
    "Again note that since you're on a submarine, down and up do the opposite of what you might expect: \"down\" means aiming in the positive direction.\n",
    "\n",
    "Now, the above example does something different:\n",
    "\n",
    "```\n",
    "    forward 5 adds 5 to your horizontal position, a total of 5. Because your aim is 0, your depth does not change.\n",
    "    down 5 adds 5 to your aim, resulting in a value of 5.\n",
    "    forward 8 adds 8 to your horizontal position, a total of 13. Because your aim is 5, your depth increases by 8*5=40.\n",
    "    up 3 decreases your aim by 3, resulting in a value of 2.\n",
    "    down 8 adds 8 to your aim, resulting in a value of 10.\n",
    "    forward 2 adds 2 to your horizontal position, a total of 15. Because your aim is 10, your depth increases by 2*10=20 to a total of 60.\n",
    "```\n",
    "\n",
    "After following these new instructions, you would have a horizontal position of 15 and a depth of 60. (Multiplying these produces 900.)\n",
    "\n",
    "Using this new interpretation of the commands, calculate the horizontal position and depth you would have after following the planned course. **What do you get if you multiply your final horizontal position by your final depth?**"
   ],
   "metadata": {}
  },
  {
   "cell_type": "markdown",
   "source": [
    "## Code"
   ],
   "metadata": {}
  },
  {
   "cell_type": "code",
   "execution_count": 104,
   "source": [
    "import numpy as np\n",
    "\n",
    "direction_mapping = {\n",
    "    # x, y, aim\n",
    "    \"up\":       np.array([0, 0, 1]),\n",
    "    \"down\":     np.array([0, 0, -1]),\n",
    "    \"forward\":  np.array([1, 1, 0]),\n",
    "}\n",
    "\n",
    "def complex_dive(file: str) -> int:\n",
    "    position = np.zeros(3, int)\n",
    "    print(position)\n",
    "    \n",
    "    with open(file, \"r\") as f:\n",
    "        for instruction in f.readlines():\n",
    "            direction, value = instruction.split(\" \")\n",
    "            value = int(value)\n",
    "            position[0] += direction_mapping[direction][0] * value\n",
    "            position[1] += direction_mapping[direction][1] * position[2] * value \n",
    "            position[2] += direction_mapping[direction][2] * value\n",
    "            \n",
    "    # invert sign of y axis for product, since we want depth not height.\n",
    "    print(f\"Submarine ends up at {position} (x, y, aim)\")\n",
    "    position = position[:2] # strip aim\n",
    "    invert = np.array([1, -1])\n",
    "    position = position * invert\n",
    "    return np.product(position)\n",
    "    "
   ],
   "outputs": [],
   "metadata": {}
  },
  {
   "cell_type": "code",
   "execution_count": 105,
   "source": [
    "complex_dive(\"02_input.txt\")"
   ],
   "outputs": [
    {
     "output_type": "stream",
     "name": "stdout",
     "text": [
      "[0 0 0]\n",
      "Submarine ends up at [   1991 -984716    -911] (x, y, aim)\n"
     ]
    },
    {
     "output_type": "execute_result",
     "data": {
      "text/plain": [
       "1960569556"
      ]
     },
     "metadata": {},
     "execution_count": 105
    }
   ],
   "metadata": {}
  }
 ],
 "metadata": {
  "orig_nbformat": 4,
  "language_info": {
   "name": "python",
   "version": "3.9.5",
   "mimetype": "text/x-python",
   "codemirror_mode": {
    "name": "ipython",
    "version": 3
   },
   "pygments_lexer": "ipython3",
   "nbconvert_exporter": "python",
   "file_extension": ".py"
  },
  "kernelspec": {
   "name": "python3",
   "display_name": "Python 3.9.5 64-bit"
  },
  "interpreter": {
   "hash": "916dbcbb3f70747c44a77c7bcd40155683ae19c65e1c03b4aa3499c5328201f1"
  }
 },
 "nbformat": 4,
 "nbformat_minor": 2
}