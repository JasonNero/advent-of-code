{
    "cells": [
        {
            "cell_type": "markdown",
            "source": [
                "# Hydrothermal Venture"
            ],
            "metadata": {}
        },
        {
            "cell_type": "markdown",
            "source": [
                "## Part 1"
            ],
            "metadata": {}
        },
        {
            "cell_type": "code",
            "execution_count": 7,
            "source": [
                "test_data = (\r\n",
                "\"\"\"0,9 -> 5,9\r\n",
                "8,0 -> 0,8\r\n",
                "9,4 -> 3,4\r\n",
                "2,2 -> 2,1\r\n",
                "7,0 -> 7,4\r\n",
                "6,4 -> 2,0\r\n",
                "0,9 -> 2,9\r\n",
                "3,4 -> 1,4\r\n",
                "0,0 -> 8,8\r\n",
                "5,5 -> 8,2\"\"\")\r\n",
                "test_data = test_data.splitlines()\r\n",
                "\r\n",
                "with open(\"05_input.txt\", \"r\") as f:\r\n",
                "    full_data = f.read()\r\n",
                "    full_data = full_data.splitlines()"
            ],
            "outputs": [],
            "metadata": {}
        },
        {
            "cell_type": "markdown",
            "source": [
                "### ToDos\r\n",
                "- How to use PIL (pillow) to create/display images (in combination with numpy?)\r\n",
                "    - Maybe even an Anaconda intro (to all the base pip packages)"
            ],
            "metadata": {}
        },
        {
            "cell_type": "code",
            "execution_count": 52,
            "source": [
                "from PIL import Image, ImageDraw, ImageChops\r\n",
                "\r\n",
                "def interpret_line(line):\r\n",
                "    a, _, b = line.split()\r\n",
                "    x1, y1 = (int(n) for n in a.split(\",\"))\r\n",
                "    x2, y2 = (int(n) for n in b.split(\",\"))\r\n",
                "    return ((x1, y1), (x2, y2))\r\n",
                "\r\n",
                "def calculate_overlaps(data, use_diagonals=False):\r\n",
                "    # TODO: Automatically find needed size\r\n",
                "    # TODO: We are clipping\r\n",
                "    # \"At this time, most channel operations are only implemented for 8-bit images (e.g. “L” and “RGB”).\"\r\n",
                "    sea_floor = Image.new(\"I\", [1000, 1000])\r\n",
                "\r\n",
                "    venture = Image.new(\"I\", [1000, 1000])\r\n",
                "    drawing_context = ImageDraw.Draw(venture)\r\n",
                "    for line in data:\r\n",
                "        a, b = interpret_line(line)\r\n",
                "        if use_diagonals and (a[0] == b[0] or a[1] == b[1]):\r\n",
                "                drawing_context.line((a, b), fill=1, width=1)\r\n",
                "        else:\r\n",
                "            drawing_context.line((a, b), fill=1, width=1)\r\n",
                "        sea_floor = ImageChops.add(sea_floor, venture)\r\n",
                "    \r\n",
                "    print(sea_floor.getextrema())\r\n",
                "    display(sea_floor)\r\n",
                "\r\n",
                "calculate_overlaps(full_data)"
            ],
            "outputs": [
                {
                    "output_type": "error",
                    "ename": "ValueError",
                    "evalue": "image has wrong mode",
                    "traceback": [
                        "\u001b[1;31m---------------------------------------------------------------------------\u001b[0m",
                        "\u001b[1;31mValueError\u001b[0m                                Traceback (most recent call last)",
                        "\u001b[1;32m<ipython-input-52-129fd2e57167>\u001b[0m in \u001b[0;36m<module>\u001b[1;34m\u001b[0m\n\u001b[0;32m     25\u001b[0m     \u001b[0mdisplay\u001b[0m\u001b[1;33m(\u001b[0m\u001b[0msea_floor\u001b[0m\u001b[1;33m)\u001b[0m\u001b[1;33m\u001b[0m\u001b[1;33m\u001b[0m\u001b[0m\n\u001b[0;32m     26\u001b[0m \u001b[1;33m\u001b[0m\u001b[0m\n\u001b[1;32m---> 27\u001b[1;33m \u001b[0mcalculate_overlaps\u001b[0m\u001b[1;33m(\u001b[0m\u001b[0mfull_data\u001b[0m\u001b[1;33m)\u001b[0m\u001b[1;33m\u001b[0m\u001b[1;33m\u001b[0m\u001b[0m\n\u001b[0m",
                        "\u001b[1;32m<ipython-input-52-129fd2e57167>\u001b[0m in \u001b[0;36mcalculate_overlaps\u001b[1;34m(data, use_diagonals)\u001b[0m\n\u001b[0;32m     19\u001b[0m         \u001b[1;32melse\u001b[0m\u001b[1;33m:\u001b[0m\u001b[1;33m\u001b[0m\u001b[1;33m\u001b[0m\u001b[0m\n\u001b[0;32m     20\u001b[0m             \u001b[0mdrawing_context\u001b[0m\u001b[1;33m.\u001b[0m\u001b[0mline\u001b[0m\u001b[1;33m(\u001b[0m\u001b[1;33m(\u001b[0m\u001b[0ma\u001b[0m\u001b[1;33m,\u001b[0m \u001b[0mb\u001b[0m\u001b[1;33m)\u001b[0m\u001b[1;33m,\u001b[0m \u001b[0mfill\u001b[0m\u001b[1;33m=\u001b[0m\u001b[1;36m1\u001b[0m\u001b[1;33m,\u001b[0m \u001b[0mwidth\u001b[0m\u001b[1;33m=\u001b[0m\u001b[1;36m1\u001b[0m\u001b[1;33m)\u001b[0m\u001b[1;33m\u001b[0m\u001b[1;33m\u001b[0m\u001b[0m\n\u001b[1;32m---> 21\u001b[1;33m         \u001b[0msea_floor\u001b[0m \u001b[1;33m=\u001b[0m \u001b[0mImageChops\u001b[0m\u001b[1;33m.\u001b[0m\u001b[0madd\u001b[0m\u001b[1;33m(\u001b[0m\u001b[0msea_floor\u001b[0m\u001b[1;33m,\u001b[0m \u001b[0mventure\u001b[0m\u001b[1;33m)\u001b[0m\u001b[1;33m\u001b[0m\u001b[1;33m\u001b[0m\u001b[0m\n\u001b[0m\u001b[0;32m     22\u001b[0m \u001b[1;33m\u001b[0m\u001b[0m\n\u001b[0;32m     23\u001b[0m     \u001b[1;31m# TODO: We are clipping!\u001b[0m\u001b[1;33m\u001b[0m\u001b[1;33m\u001b[0m\u001b[1;33m\u001b[0m\u001b[0m\n",
                        "\u001b[1;32mC:\\ProgramData\\Anaconda3\\lib\\site-packages\\PIL\\ImageChops.py\u001b[0m in \u001b[0;36madd\u001b[1;34m(image1, image2, scale, offset)\u001b[0m\n\u001b[0;32m    188\u001b[0m     \u001b[0mimage1\u001b[0m\u001b[1;33m.\u001b[0m\u001b[0mload\u001b[0m\u001b[1;33m(\u001b[0m\u001b[1;33m)\u001b[0m\u001b[1;33m\u001b[0m\u001b[1;33m\u001b[0m\u001b[0m\n\u001b[0;32m    189\u001b[0m     \u001b[0mimage2\u001b[0m\u001b[1;33m.\u001b[0m\u001b[0mload\u001b[0m\u001b[1;33m(\u001b[0m\u001b[1;33m)\u001b[0m\u001b[1;33m\u001b[0m\u001b[1;33m\u001b[0m\u001b[0m\n\u001b[1;32m--> 190\u001b[1;33m     \u001b[1;32mreturn\u001b[0m \u001b[0mimage1\u001b[0m\u001b[1;33m.\u001b[0m\u001b[0m_new\u001b[0m\u001b[1;33m(\u001b[0m\u001b[0mimage1\u001b[0m\u001b[1;33m.\u001b[0m\u001b[0mim\u001b[0m\u001b[1;33m.\u001b[0m\u001b[0mchop_add\u001b[0m\u001b[1;33m(\u001b[0m\u001b[0mimage2\u001b[0m\u001b[1;33m.\u001b[0m\u001b[0mim\u001b[0m\u001b[1;33m,\u001b[0m \u001b[0mscale\u001b[0m\u001b[1;33m,\u001b[0m \u001b[0moffset\u001b[0m\u001b[1;33m)\u001b[0m\u001b[1;33m)\u001b[0m\u001b[1;33m\u001b[0m\u001b[1;33m\u001b[0m\u001b[0m\n\u001b[0m\u001b[0;32m    191\u001b[0m \u001b[1;33m\u001b[0m\u001b[0m\n\u001b[0;32m    192\u001b[0m \u001b[1;33m\u001b[0m\u001b[0m\n",
                        "\u001b[1;31mValueError\u001b[0m: image has wrong mode"
                    ]
                }
            ],
            "metadata": {}
        },
        {
            "cell_type": "code",
            "execution_count": null,
            "source": [],
            "outputs": [],
            "metadata": {}
        }
    ],
    "metadata": {
        "orig_nbformat": 4,
        "language_info": {
            "name": "python",
            "version": "3.8.5",
            "mimetype": "text/x-python",
            "codemirror_mode": {
                "name": "ipython",
                "version": 3
            },
            "pygments_lexer": "ipython3",
            "nbconvert_exporter": "python",
            "file_extension": ".py"
        },
        "kernelspec": {
            "name": "python3",
            "display_name": "Python 3.8.5 64-bit ('base': conda)"
        },
        "interpreter": {
            "hash": "b3ba2566441a7c06988d0923437866b63cedc61552a5af99d1f4fb67d367b25f"
        }
    },
    "nbformat": 4,
    "nbformat_minor": 2
}