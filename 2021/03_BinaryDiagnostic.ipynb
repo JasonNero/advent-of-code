{
 "cells": [
  {
   "cell_type": "markdown",
   "source": [
    "# Binary Diagnostic"
   ],
   "metadata": {}
  },
  {
   "cell_type": "markdown",
   "source": [
    "## Part 1"
   ],
   "metadata": {}
  },
  {
   "cell_type": "markdown",
   "source": [
    "The submarine has been making some odd creaking noises, so you ask it to produce a diagnostic report just in case.\n",
    "\n",
    "The diagnostic report (your puzzle input) consists of a list of binary numbers which, when decoded properly, can tell you many useful things about the conditions of the submarine. The first parameter to check is the power consumption.\n",
    "\n",
    "You need to use the binary numbers in the diagnostic report to generate two new binary numbers (called the gamma rate and the epsilon rate). The power consumption can then be found by multiplying the gamma rate by the epsilon rate.\n",
    "\n",
    "Each bit in the gamma rate can be determined by finding the most common bit in the corresponding position of all numbers in the diagnostic report. For example, given the following diagnostic report:\n",
    "\n",
    "```\n",
    "00100\n",
    "11110\n",
    "10110\n",
    "10111\n",
    "10101\n",
    "01111\n",
    "00111\n",
    "11100\n",
    "10000\n",
    "11001\n",
    "00010\n",
    "01010\n",
    "```\n",
    "\n",
    "Considering only the first bit of each number, there are five 0 bits and seven 1 bits. Since the most common bit is 1, the first bit of the gamma rate is 1.\n",
    "\n",
    "The most common second bit of the numbers in the diagnostic report is 0, so the second bit of the gamma rate is 0.\n",
    "\n",
    "The most common value of the third, fourth, and fifth bits are 1, 1, and 0, respectively, and so the final three bits of the gamma rate are 110.\n",
    "\n",
    "So, the gamma rate is the binary number 10110, or 22 in decimal.\n",
    "\n",
    "The epsilon rate is calculated in a similar way; rather than use the most common bit, the least common bit from each position is used. So, the epsilon rate is 01001, or 9 in decimal. Multiplying the gamma rate (22) by the epsilon rate (9) produces the power consumption, 198.\n",
    "\n",
    "Use the binary numbers in your diagnostic report to calculate the gamma rate and epsilon rate, then multiply them together. What is the power consumption of the submarine? (Be sure to represent your answer in decimal, not binary.)"
   ],
   "metadata": {}
  },
  {
   "cell_type": "markdown",
   "source": [
    "## Numpy Code (Byte Packing - Scrapped)\n",
    "`(un)packbits` only works with `ubyte` which is too small for the 10 digit input data we have."
   ],
   "metadata": {}
  },
  {
   "cell_type": "code",
   "execution_count": 64,
   "source": [
    "import numpy as np\n",
    "\n",
    "# TODO: Shouldnt we use ushort instead of ubyte?\n",
    "def binary_diagnostic(file: str) -> int:\n",
    "    # Parse data.\n",
    "    with open(file, \"r\") as f:\n",
    "        bin_list = []\n",
    "        for line in f.readlines():\n",
    "            bin_list.append(np.ushort(line))\n",
    "        \n",
    "    # print(bin_list)\n",
    "    bin_array = np.array([np.unpackbits(item) for item in bin_list])\n",
    "    non_zero = np.count_nonzero(bin_array, axis=0)\n",
    "    print(non_zero)\n",
    "    most_common_bit = np.bool8(np.round(np.divide(non_zero, 1000)))\n",
    "    least_common_bit = ~most_common_bit\n",
    "    \n",
    "    epsilon_rate = np.packbits(most_common_bit)\n",
    "    gamma_rate = np.packbits(least_common_bit)\n",
    "        \n",
    "    # Return power consumption.\n",
    "    power_consumption = epsilon_rate * gamma_rate\n",
    "    return power_consumption\n",
    "\n",
    "\n",
    "binary_diagnostic(\"03_input.txt\")"
   ],
   "outputs": [
    {
     "output_type": "error",
     "ename": "TypeError",
     "evalue": "Expected an input array of unsigned byte data type",
     "traceback": [
      "\u001b[0;31m---------------------------------------------------------------------------\u001b[0m",
      "\u001b[0;31mTypeError\u001b[0m                                 Traceback (most recent call last)",
      "\u001b[0;32m/tmp/ipykernel_13554/2042124231.py\u001b[0m in \u001b[0;36m<module>\u001b[0;34m\u001b[0m\n\u001b[1;32m     24\u001b[0m \u001b[0;34m\u001b[0m\u001b[0m\n\u001b[1;32m     25\u001b[0m \u001b[0;34m\u001b[0m\u001b[0m\n\u001b[0;32m---> 26\u001b[0;31m \u001b[0mbinary_diagnostic\u001b[0m\u001b[0;34m(\u001b[0m\u001b[0;34m\"03_input.txt\"\u001b[0m\u001b[0;34m)\u001b[0m\u001b[0;34m\u001b[0m\u001b[0;34m\u001b[0m\u001b[0m\n\u001b[0m",
      "\u001b[0;32m/tmp/ipykernel_13554/2042124231.py\u001b[0m in \u001b[0;36mbinary_diagnostic\u001b[0;34m(file)\u001b[0m\n\u001b[1;32m     10\u001b[0m \u001b[0;34m\u001b[0m\u001b[0m\n\u001b[1;32m     11\u001b[0m     \u001b[0;31m# print(bin_list)\u001b[0m\u001b[0;34m\u001b[0m\u001b[0;34m\u001b[0m\u001b[0;34m\u001b[0m\u001b[0m\n\u001b[0;32m---> 12\u001b[0;31m     \u001b[0mbin_array\u001b[0m \u001b[0;34m=\u001b[0m \u001b[0mnp\u001b[0m\u001b[0;34m.\u001b[0m\u001b[0marray\u001b[0m\u001b[0;34m(\u001b[0m\u001b[0;34m[\u001b[0m\u001b[0mnp\u001b[0m\u001b[0;34m.\u001b[0m\u001b[0munpackbits\u001b[0m\u001b[0;34m(\u001b[0m\u001b[0mitem\u001b[0m\u001b[0;34m)\u001b[0m \u001b[0;32mfor\u001b[0m \u001b[0mitem\u001b[0m \u001b[0;32min\u001b[0m \u001b[0mbin_list\u001b[0m\u001b[0;34m]\u001b[0m\u001b[0;34m)\u001b[0m\u001b[0;34m\u001b[0m\u001b[0;34m\u001b[0m\u001b[0m\n\u001b[0m\u001b[1;32m     13\u001b[0m     \u001b[0mnon_zero\u001b[0m \u001b[0;34m=\u001b[0m \u001b[0mnp\u001b[0m\u001b[0;34m.\u001b[0m\u001b[0mcount_nonzero\u001b[0m\u001b[0;34m(\u001b[0m\u001b[0mbin_array\u001b[0m\u001b[0;34m,\u001b[0m \u001b[0maxis\u001b[0m\u001b[0;34m=\u001b[0m\u001b[0;36m0\u001b[0m\u001b[0;34m)\u001b[0m\u001b[0;34m\u001b[0m\u001b[0;34m\u001b[0m\u001b[0m\n\u001b[1;32m     14\u001b[0m     \u001b[0mprint\u001b[0m\u001b[0;34m(\u001b[0m\u001b[0mnon_zero\u001b[0m\u001b[0;34m)\u001b[0m\u001b[0;34m\u001b[0m\u001b[0;34m\u001b[0m\u001b[0m\n",
      "\u001b[0;32m/tmp/ipykernel_13554/2042124231.py\u001b[0m in \u001b[0;36m<listcomp>\u001b[0;34m(.0)\u001b[0m\n\u001b[1;32m     10\u001b[0m \u001b[0;34m\u001b[0m\u001b[0m\n\u001b[1;32m     11\u001b[0m     \u001b[0;31m# print(bin_list)\u001b[0m\u001b[0;34m\u001b[0m\u001b[0;34m\u001b[0m\u001b[0;34m\u001b[0m\u001b[0m\n\u001b[0;32m---> 12\u001b[0;31m     \u001b[0mbin_array\u001b[0m \u001b[0;34m=\u001b[0m \u001b[0mnp\u001b[0m\u001b[0;34m.\u001b[0m\u001b[0marray\u001b[0m\u001b[0;34m(\u001b[0m\u001b[0;34m[\u001b[0m\u001b[0mnp\u001b[0m\u001b[0;34m.\u001b[0m\u001b[0munpackbits\u001b[0m\u001b[0;34m(\u001b[0m\u001b[0mitem\u001b[0m\u001b[0;34m)\u001b[0m \u001b[0;32mfor\u001b[0m \u001b[0mitem\u001b[0m \u001b[0;32min\u001b[0m \u001b[0mbin_list\u001b[0m\u001b[0;34m]\u001b[0m\u001b[0;34m)\u001b[0m\u001b[0;34m\u001b[0m\u001b[0;34m\u001b[0m\u001b[0m\n\u001b[0m\u001b[1;32m     13\u001b[0m     \u001b[0mnon_zero\u001b[0m \u001b[0;34m=\u001b[0m \u001b[0mnp\u001b[0m\u001b[0;34m.\u001b[0m\u001b[0mcount_nonzero\u001b[0m\u001b[0;34m(\u001b[0m\u001b[0mbin_array\u001b[0m\u001b[0;34m,\u001b[0m \u001b[0maxis\u001b[0m\u001b[0;34m=\u001b[0m\u001b[0;36m0\u001b[0m\u001b[0;34m)\u001b[0m\u001b[0;34m\u001b[0m\u001b[0;34m\u001b[0m\u001b[0m\n\u001b[1;32m     14\u001b[0m     \u001b[0mprint\u001b[0m\u001b[0;34m(\u001b[0m\u001b[0mnon_zero\u001b[0m\u001b[0;34m)\u001b[0m\u001b[0;34m\u001b[0m\u001b[0;34m\u001b[0m\u001b[0m\n",
      "\u001b[0;32m<__array_function__ internals>\u001b[0m in \u001b[0;36munpackbits\u001b[0;34m(*args, **kwargs)\u001b[0m\n",
      "\u001b[0;31mTypeError\u001b[0m: Expected an input array of unsigned byte data type"
     ]
    }
   ],
   "metadata": {}
  },
  {
   "cell_type": "markdown",
   "source": [
    "## Numpy Code\n",
    "Works, but a bit wonky to look at."
   ],
   "metadata": {}
  },
  {
   "cell_type": "code",
   "execution_count": null,
   "source": [
    "import numpy as np\n",
    "\n",
    "def binary_diagnostic(file: str) -> int:\n",
    "    # Parse data.\n",
    "    with open(file, \"r\") as f:\n",
    "        data = []\n",
    "        for line in f.readlines():\n",
    "            data.append([int(c) for c in line.strip()])\n",
    "    \n",
    "    # Create column sums\n",
    "    data = np.array(data)\n",
    "    non_zero = [np.sum(data, axis=0)]\n",
    "    count = data.shape[0]\n",
    "    \n",
    "    # Divide by total row count and fix shape\n",
    "    most_common_array = np.uint8(np.round(np.divide(non_zero, count)).reshape(-1))\n",
    "    # \"Invert\" \n",
    "    least_common_array = np.array([int(not bool(i)) for i in most_common_array])\n",
    "    \n",
    "    # Convert to string, strip the `[]` and convert back to int (base 2)\n",
    "    gamma_rate = int(\n",
    "        np.array2string(most_common_array, separator=\"\")[1:-1], \n",
    "        base=2\n",
    "    )\n",
    "    \n",
    "    epsilon_rate = int(\n",
    "        np.array2string(least_common_array, separator=\"\")[1:-1], \n",
    "        base=2\n",
    "    )\n",
    "    \n",
    "    # Return power consumption.\n",
    "    power_consumption = epsilon_rate * gamma_rate\n",
    "    return power_consumption\n"
   ],
   "outputs": [],
   "metadata": {}
  },
  {
   "cell_type": "code",
   "execution_count": null,
   "source": [
    "%%timeit\n",
    "binary_diagnostic(\"03_input.txt\")"
   ],
   "outputs": [
    {
     "output_type": "stream",
     "name": "stdout",
     "text": [
      "4 ms ± 136 µs per loop (mean ± std. dev. of 7 runs, 100 loops each)\n"
     ]
    }
   ],
   "metadata": {}
  },
  {
   "cell_type": "markdown",
   "source": [
    "## String Eval Code\n",
    "Maybe the more straightforward \"string evaluation\" approach."
   ],
   "metadata": {}
  },
  {
   "cell_type": "code",
   "execution_count": null,
   "source": [
    "def binary_diagnostic(file: str) -> int:\n",
    "    # Parse data.\n",
    "    with open(file, \"r\") as f:\n",
    "        linecount = 0\n",
    "        first_line = f.readline()\n",
    "        linecount += 1\n",
    "        non_zero = [int(i) for i in first_line.strip()]\n",
    "        \n",
    "        # Create column sums\n",
    "        for line in f.readlines():\n",
    "            for i, character in enumerate(line.strip()):\n",
    "                non_zero[i] += int(character)\n",
    "        linecount += 1\n",
    "    \n",
    "    # Divide by total row count and fix shape\n",
    "    most_common_array = [round(i/1000) for i in non_zero]\n",
    "    # \"Invert\" \n",
    "    least_common_array = [0 if i else 1 for i in most_common_array]\n",
    "    \n",
    "    # Convert list to string and back to int (base 2)\n",
    "    gamma_rate = int(\"\".join([str(i) for i in most_common_array]), base=2)\n",
    "    epsilon_rate = int(\"\".join([str(i) for i in least_common_array]), base=2)\n",
    "    \n",
    "    # Return power consumption.\n",
    "    power_consumption = epsilon_rate * gamma_rate\n",
    "    return power_consumption\n"
   ],
   "outputs": [],
   "metadata": {}
  },
  {
   "cell_type": "code",
   "execution_count": null,
   "source": [
    "%%timeit\n",
    "binary_diagnostic(\"03_input.txt\")"
   ],
   "outputs": [
    {
     "output_type": "stream",
     "name": "stdout",
     "text": [
      "4.46 ms ± 657 µs per loop (mean ± std. dev. of 7 runs, 100 loops each)\n"
     ]
    }
   ],
   "metadata": {}
  },
  {
   "cell_type": "code",
   "execution_count": null,
   "source": [
    "binary_diagnostic(\"03_input.txt\")"
   ],
   "outputs": [
    {
     "output_type": "execute_result",
     "data": {
      "text/plain": [
       "1092896"
      ]
     },
     "metadata": {},
     "execution_count": 59
    }
   ],
   "metadata": {}
  },
  {
   "cell_type": "markdown",
   "source": [
    "# Part 2"
   ],
   "metadata": {}
  },
  {
   "cell_type": "markdown",
   "source": [
    "Next, you should verify the life support rating, which can be determined by multiplying the oxygen generator rating by the CO2 scrubber rating.\n",
    "\n",
    "Both the oxygen generator rating and the CO2 scrubber rating are values that can be found in your diagnostic report - finding them is the tricky part. Both values are located using a similar process that involves filtering out values until only one remains. Before searching for either rating value, start with the full list of binary numbers from your diagnostic report and consider just the first bit of those numbers. Then:\n",
    "\n",
    "```\n",
    "    Keep only numbers selected by the bit criteria for the type of rating value for which you are searching. Discard numbers which do not match the bit criteria.\n",
    "    If you only have one number left, stop; this is the rating value for which you are searching.\n",
    "    Otherwise, repeat the process, considering the next bit to the right.\n",
    "```\n",
    "\n",
    "The bit criteria depends on which type of rating value you want to find:\n",
    "\n",
    "```\n",
    "    To find oxygen generator rating, determine the most common value (0 or 1) in the current bit position, and keep only numbers with that bit in that position. If 0 and 1 are equally common, keep values with a 1 in the position being considered.\n",
    "    To find CO2 scrubber rating, determine the least common value (0 or 1) in the current bit position, and keep only numbers with that bit in that position. If 0 and 1 are equally common, keep values with a 0 in the position being considered.\n",
    "```\n",
    "\n",
    "For example, to determine the oxygen generator rating value using the same example diagnostic report from above:\n",
    "\n",
    "```\n",
    "    Start with all 12 numbers and consider only the first bit of each number. There are more 1 bits (7) than 0 bits (5), so keep only the 7 numbers with a 1 in the first position: 11110, 10110, 10111, 10101, 11100, 10000, and 11001.\n",
    "    Then, consider the second bit of the 7 remaining numbers: there are more 0 bits (4) than 1 bits (3), so keep only the 4 numbers with a 0 in the second position: 10110, 10111, 10101, and 10000.\n",
    "    In the third position, three of the four numbers have a 1, so keep those three: 10110, 10111, and 10101.\n",
    "    In the fourth position, two of the three numbers have a 1, so keep those two: 10110 and 10111.\n",
    "    In the fifth position, there are an equal number of 0 bits and 1 bits (one each). So, to find the oxygen generator rating, keep the number with a 1 in that position: 10111.\n",
    "    As there is only one number left, stop; the oxygen generator rating is 10111, or 23 in decimal.\n",
    "```\n",
    "\n",
    "Then, to determine the CO2 scrubber rating value from the same example above:\n",
    "\n",
    "```\n",
    "    Start again with all 12 numbers and consider only the first bit of each number. There are fewer 0 bits (5) than 1 bits (7), so keep only the 5 numbers with a 0 in the first position: 00100, 01111, 00111, 00010, and 01010.\n",
    "    Then, consider the second bit of the 5 remaining numbers: there are fewer 1 bits (2) than 0 bits (3), so keep only the 2 numbers with a 1 in the second position: 01111 and 01010.\n",
    "    In the third position, there are an equal number of 0 bits and 1 bits (one each). So, to find the CO2 scrubber rating, keep the number with a 0 in that position: 01010.\n",
    "    As there is only one number left, stop; the CO2 scrubber rating is 01010, or 10 in decimal.\n",
    "```\n",
    "\n",
    "Finally, to find the life support rating, multiply the oxygen generator rating (23) by the CO2 scrubber rating (10) to get 230.\n",
    "\n",
    "Use the binary numbers in your diagnostic report to **calculate the oxygen generator rating and CO2 scrubber rating, then multiply them together.** What is the life support rating of the submarine? (Be sure to represent your answer in decimal, not binary.)"
   ],
   "metadata": {}
  },
  {
   "cell_type": "code",
   "execution_count": null,
   "source": [
    "debug = False\n",
    "\n",
    "def debug_print(*msg):\n",
    "    if debug:\n",
    "        print(*msg)\n",
    "\n",
    "def recurse_and_discard(data, depth=0, mode=\"most\"):\n",
    "    if len(data) <= 1:\n",
    "        return data\n",
    "    debug_print([entry[depth] for entry in data])\n",
    "    \n",
    "    current_sum = sum(int(entry[depth]) for entry in data)\n",
    "    debug_print(current_sum, len(data) / 2)\n",
    "    \n",
    "    filter_digit = int(current_sum >= len(data) / 2)\n",
    "    if mode == \"least\":\n",
    "        filter_digit = 0 if filter_digit else 1\n",
    "        \n",
    "    debug_print(f\"keeping {filter_digit}s\")\n",
    "    data = [entry for entry in data \n",
    "            if int(entry[depth]) == filter_digit]\n",
    "    debug_print([entry[depth] for entry in data])\n",
    "    debug_print()\n",
    "    \n",
    "    return recurse_and_discard(data, depth+1, mode)"
   ],
   "outputs": [],
   "metadata": {}
  },
  {
   "cell_type": "code",
   "execution_count": null,
   "source": [
    "test = [\n",
    "    \"101000001100\",\n",
    "    \"011111100111\",\n",
    "    \"111100001110\",\n",
    "    \"110000011001\",\n",
    "    \"001001001011\",\n",
    "    \"010011101000\",\n",
    "    \"011001110011\",\n",
    "    \"010100010000\",\n",
    "    \"101110110111\",\n",
    "    \"110110111111\"\n",
    "]\n",
    "\n",
    "test2 = [\n",
    "    \"1000\",\n",
    "    \"1100\",\n",
    "    \"1110\",\n",
    "    \"1111\",\n",
    "]\n",
    "\n",
    "recurse_and_discard(test, mode=\"least\")"
   ],
   "outputs": [
    {
     "output_type": "execute_result",
     "data": {
      "text/plain": [
       "['001001001011']"
      ]
     },
     "metadata": {},
     "execution_count": 56
    }
   ],
   "metadata": {}
  },
  {
   "cell_type": "code",
   "execution_count": null,
   "source": [
    "def calculate_o2_and_co2(file: str) -> int:\n",
    "    with open(file, \"r\") as f:\n",
    "        data = [line.strip() for line in f.readlines()]\n",
    "\n",
    "    o2 = int(recurse_and_discard(data[:], mode=\"most\")[0], base=2)\n",
    "    co2 = int(recurse_and_discard(data[:], mode=\"least\")[0], base=2)\n",
    "    \n",
    "    return o2 * co2"
   ],
   "outputs": [],
   "metadata": {}
  },
  {
   "cell_type": "code",
   "execution_count": null,
   "source": [
    "calculate_o2_and_co2(\"03_input.txt\")"
   ],
   "outputs": [
    {
     "output_type": "execute_result",
     "data": {
      "text/plain": [
       "4672151"
      ]
     },
     "metadata": {},
     "execution_count": 62
    }
   ],
   "metadata": {}
  }
 ],
 "metadata": {
  "orig_nbformat": 4,
  "language_info": {
   "name": "python",
   "version": "3.9.5"
  },
  "kernelspec": {
   "name": "python3",
   "display_name": "Python 3.9.5 64-bit"
  },
  "interpreter": {
   "hash": "916dbcbb3f70747c44a77c7bcd40155683ae19c65e1c03b4aa3499c5328201f1"
  }
 },
 "nbformat": 4,
 "nbformat_minor": 2
}