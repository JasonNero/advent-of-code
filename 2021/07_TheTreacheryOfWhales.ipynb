{
 "cells": [
  {
   "cell_type": "markdown",
   "metadata": {},
   "source": [
    "# The Treachery of Whales"
   ]
  },
  {
   "cell_type": "markdown",
   "metadata": {},
   "source": [
    "## Part 1"
   ]
  },
  {
   "cell_type": "code",
   "execution_count": 2,
   "metadata": {},
   "outputs": [],
   "source": [
    "test_data = \"16,1,2,0,4,2,7,1,2,14\"\n",
    "test_data = [int(i) for i in test_data.split(\",\")]\n",
    "\n",
    "with open(\"07_input.txt\", \"r\") as f:\n",
    "    full_data = f.read()\n",
    "    full_data = [int(i) for i in full_data.splitlines()[0].split(\",\")]"
   ]
  },
  {
   "cell_type": "code",
   "execution_count": 9,
   "metadata": {},
   "outputs": [
    {
     "data": {
      "text/plain": [
       "1957"
      ]
     },
     "execution_count": 9,
     "metadata": {},
     "output_type": "execute_result"
    }
   ],
   "source": [
    "len(full_data)\n",
    "max(full_data)"
   ]
  },
  {
   "cell_type": "code",
   "execution_count": 33,
   "metadata": {},
   "outputs": [
    {
     "data": {
      "text/plain": [
       "352997"
      ]
     },
     "execution_count": 33,
     "metadata": {},
     "output_type": "execute_result"
    }
   ],
   "source": [
    "import numpy as np"
   ]
  },
  {
   "cell_type": "code",
   "execution_count": null,
   "metadata": {},
   "outputs": [],
   "source": [
    "data = full_data\n",
    "fuel_array = np.zeros((max(data)+1), dtype=np.int)\n",
    "\n",
    "for crab in data:\n",
    "    fuel = np.array([abs(crab - idx) for idx in range(max(data)+1)])\n",
    "    fuel_array += fuel\n",
    "\n",
    "min(fuel_array)"
   ]
  },
  {
   "cell_type": "markdown",
   "metadata": {},
   "source": [
    "## Part 2\n",
    "```\n",
    "        distance + 1\n",
    "fuel =  ------------   *  distance\n",
    "            2\n",
    "```"
   ]
  },
  {
   "cell_type": "code",
   "execution_count": 37,
   "metadata": {},
   "outputs": [
    {
     "data": {
      "text/plain": [
       "101571302"
      ]
     },
     "execution_count": 37,
     "metadata": {},
     "output_type": "execute_result"
    }
   ],
   "source": [
    "data = full_data\n",
    "fuel_array = np.zeros((max(data)+1), dtype=np.int)\n",
    "\n",
    "for crab in data:\n",
    "    fuel = np.array(\n",
    "        [int(((abs(crab - idx)+1) / 2) * abs(crab - idx))\n",
    "         for idx in range(max(data)+1)]\n",
    "    )\n",
    "    fuel_array += fuel\n",
    "\n",
    "min(fuel_array)"
   ]
  }
 ],
 "metadata": {
  "interpreter": {
   "hash": "18745e6fd39c6915e9603f44548e514c7ef5df83f9e1238860117aa9e116b8ca"
  },
  "kernelspec": {
   "display_name": "Python 3.7.0 64-bit",
   "name": "python3"
  },
  "language_info": {
   "codemirror_mode": {
    "name": "ipython",
    "version": 3
   },
   "file_extension": ".py",
   "mimetype": "text/x-python",
   "name": "python",
   "nbconvert_exporter": "python",
   "pygments_lexer": "ipython3",
   "version": "3.7.0"
  },
  "orig_nbformat": 4
 },
 "nbformat": 4,
 "nbformat_minor": 2
}
