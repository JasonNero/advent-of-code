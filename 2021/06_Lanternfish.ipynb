{
 "cells": [
  {
   "cell_type": "markdown",
   "metadata": {},
   "source": [
    "# Lanternfish"
   ]
  },
  {
   "cell_type": "markdown",
   "metadata": {},
   "source": [
    "## Part 1"
   ]
  },
  {
   "cell_type": "code",
   "execution_count": 5,
   "metadata": {},
   "outputs": [],
   "source": [
    "test_data = \"3,4,3,1,2\"\n",
    "\n",
    "with open(\"06_input.txt\", \"r\") as f:\n",
    "    full_data = f.read()\n",
    "    full_data = full_data.splitlines()[0]"
   ]
  },
  {
   "cell_type": "code",
   "execution_count": 17,
   "metadata": {},
   "outputs": [],
   "source": [
    "def simulate_population(initial_data, max_age=80):\n",
    "    population = [int(i) for i in initial_data.split(\",\")]\n",
    "    \n",
    "    for day in range(max_age):\n",
    "        for i in range(len(population)):\n",
    "            age = population[i]\n",
    "            if age == 0:\n",
    "                age = 6\n",
    "                population.append(8)\n",
    "            else:\n",
    "                age -= 1\n",
    "                \n",
    "            population[i] = age\n",
    "            \n",
    "    print(len(population))"
   ]
  },
  {
   "cell_type": "code",
   "execution_count": 11,
   "metadata": {},
   "outputs": [
    {
     "name": "stdout",
     "output_type": "stream",
     "text": [
      "5934\n"
     ]
    }
   ],
   "source": [
    "simulate_population(test_data)"
   ]
  },
  {
   "cell_type": "code",
   "execution_count": 12,
   "metadata": {},
   "outputs": [
    {
     "name": "stdout",
     "output_type": "stream",
     "text": [
      "374994\n"
     ]
    }
   ],
   "source": [
    "simulate_population(full_data)"
   ]
  },
  {
   "cell_type": "markdown",
   "metadata": {},
   "source": [
    "## Part 2"
   ]
  },
  {
   "cell_type": "code",
   "execution_count": 19,
   "metadata": {},
   "outputs": [
    {
     "name": "stdout",
     "output_type": "stream",
     "text": [
      "6311710\n"
     ]
    }
   ],
   "source": [
    "# Using the same approach wont do...\n",
    "simulate_population(test_data, max_age=160)"
   ]
  },
  {
   "cell_type": "markdown",
   "metadata": {},
   "source": [
    "### Idea\n",
    "Use a shifting register (from 0 to 8) of Generations.\n",
    "\n",
    "\n",
    "`test_data` (`3,4,3,1,2`) would result in this starting register\n",
    "```python\n",
    "    generations = {\n",
    "        0: 0,\n",
    "        1: 1,\n",
    "        2: 1,\n",
    "        3: 2,\n",
    "        4: 1,\n",
    "        5: 0,\n",
    "        6: 0,\n",
    "        7: 0,\n",
    "        8: 0\n",
    "    }\n",
    "```\n",
    "\n",
    "or rather a stack like this:\n",
    "```python\n",
    "    generations = [0, 1, 1, 2, 1, 0, 0, 0, 0]\n",
    "```\n",
    "\n",
    "would look like this after two days:\n",
    "```python\n",
    "    #              0  1  2  3  4  5  6  7  8\n",
    "    #                             +        +\n",
    "    generations = [1, 2, 1, 0, 0, 1, 0, 0, 1]\n",
    "```\n",
    "Note the addition in two places: 6 (reset) and 8 (spawn)"
   ]
  },
  {
   "cell_type": "code",
   "execution_count": 54,
   "metadata": {},
   "outputs": [],
   "source": [
    "class LanternFishPond():\n",
    "    def __init__(self, data):\n",
    "        #                 index:    0  1  2  3  4  5  6  7  8\n",
    "        self.population_register = [0, 0, 0, 0, 0, 0, 0, 0, 0]\n",
    "        self.age = 0\n",
    "        \n",
    "        starting_population = [int(fish_age) for fish_age in data.split(\",\")]\n",
    "        for fish_age in starting_population:\n",
    "            self.population_register[fish_age] += 1\n",
    "\n",
    "    def step(self):\n",
    "        # Effectively shifts the register by popping and appending.\n",
    "        ready_to_spawn = self.population_register.pop(0)\n",
    "        self.population_register[6] += ready_to_spawn\n",
    "        self.population_register.append(ready_to_spawn)\n",
    "        self.age += 1\n",
    "    \n",
    "    def run(self, days):\n",
    "        for _ in range(days):\n",
    "            self.step()\n",
    "        self.dump()\n",
    "             \n",
    "    def dump(self):\n",
    "        total = sum(self.population_register)\n",
    "        print(f\"Day {self.age:03d} Population Report\\n\\t\"\n",
    "              f\"Total of: {total} \\n\\t\"\n",
    "              f\"Lanternfish Register: {self.population_register}\")\n",
    "    "
   ]
  },
  {
   "cell_type": "code",
   "execution_count": 55,
   "metadata": {},
   "outputs": [
    {
     "name": "stdout",
     "output_type": "stream",
     "text": [
      "Day 256 Population Report\n",
      "\tTotal of: 26984457539 \n",
      "\tLanternfish Register: [2376852196, 2731163883, 2897294544, 3164316379, 3541830408, 3681986557, 4275812629, 1985489551, 2329711392]\n"
     ]
    }
   ],
   "source": [
    "pond = LanternFishPond(test_data)\n",
    "pond.run(256)"
   ]
  },
  {
   "cell_type": "code",
   "execution_count": 56,
   "metadata": {},
   "outputs": [
    {
     "name": "stdout",
     "output_type": "stream",
     "text": [
      "Day 256 Population Report\n",
      "\tTotal of: 1686252324092 \n",
      "\tLanternfish Register: [143815766221, 172945055617, 180932525730, 194137544632, 227352328613, 220886796013, 276976868328, 118370781035, 150834657903]\n"
     ]
    }
   ],
   "source": [
    "pond = LanternFishPond(full_data)\n",
    "pond.run(256)"
   ]
  }
 ],
 "metadata": {
  "interpreter": {
   "hash": "18745e6fd39c6915e9603f44548e514c7ef5df83f9e1238860117aa9e116b8ca"
  },
  "kernelspec": {
   "display_name": "Python 3.7.0 64-bit",
   "name": "python3"
  },
  "language_info": {
   "codemirror_mode": {
    "name": "ipython",
    "version": 3
   },
   "file_extension": ".py",
   "mimetype": "text/x-python",
   "name": "python",
   "nbconvert_exporter": "python",
   "pygments_lexer": "ipython3",
   "version": "3.7.0"
  },
  "orig_nbformat": 4
 },
 "nbformat": 4,
 "nbformat_minor": 2
}
