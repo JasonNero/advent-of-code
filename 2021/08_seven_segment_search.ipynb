{
 "cells": [
  {
   "cell_type": "markdown",
   "source": [
    "# Seven Segment Search"
   ],
   "metadata": {}
  },
  {
   "cell_type": "code",
   "execution_count": 89,
   "source": [
    "with open(\"08_seven_segment_search.txt\", \"r\") as f:\n",
    "    data = f.readlines()"
   ],
   "outputs": [],
   "metadata": {}
  },
  {
   "cell_type": "code",
   "execution_count": 90,
   "source": [
    "testdata = \"\"\"\n",
    "be cfbegad cbdgef fgaecd cgeb fdcge agebfd fecdb fabcd edb | fdgacbe cefdb cefbgd gcbe\n",
    "edbfga begcd cbg gc gcadebf fbgde acbgfd abcde gfcbed gfec | fcgedb cgb dgebacf gc\n",
    "fgaebd cg bdaec gdafb agbcfd gdcbef bgcad gfac gcb cdgabef | cg cg fdcagb cbg\n",
    "fbegcd cbd adcefb dageb afcb bc aefdc ecdab fgdeca fcdbega | efabcd cedba gadfec cb\n",
    "aecbfdg fbg gf bafeg dbefa fcge gcbea fcaegb dgceab fcbdga | gecf egdcabf bgf bfgea\n",
    "fgeab ca afcebg bdacfeg cfaedg gcfdb baec bfadeg bafgc acf | gebdcfa ecba ca fadegcb\n",
    "dbcfg fgd bdegcaf fgec aegbdf ecdfab fbedc dacgb gdcebf gf | cefg dcbef fcge gbcadfe\n",
    "bdfegc cbegaf gecbf dfcage bdacg ed bedf ced adcbefg gebcd | ed bcgafe cdgba cbgef\n",
    "egadfb cdbfeg cegd fecab cgb gbdefca cg fgcdab egfdb bfceg | gbdfcae bgc cg cgb\n",
    "gcafb gcf dcaebfg ecagb gf abcdeg gaef cafbge fdbac fegbdc | fgae cfgab fg bagce\n",
    "\"\"\".splitlines()[1:]"
   ],
   "outputs": [],
   "metadata": {}
  },
  {
   "cell_type": "code",
   "execution_count": 91,
   "source": [
    "def parse_input(input_data):\n",
    "    line_data = []\n",
    "    for line in input_data:\n",
    "        front_string, back_string = line.split(\"|\")\n",
    "        signal_patterns = [set(signal) for signal in front_string.split()]\n",
    "        output_pattern = [set(signal) for signal in back_string.split()]\n",
    "        line_data.append((signal_patterns, output_pattern))\n",
    "\n",
    "    return line_data"
   ],
   "outputs": [],
   "metadata": {}
  },
  {
   "cell_type": "code",
   "execution_count": 92,
   "source": [
    "from collections import defaultdict"
   ],
   "outputs": [],
   "metadata": {}
  },
  {
   "cell_type": "markdown",
   "source": [
    "## Part 1\n",
    "1, 7, 4 and 8 are easily identifiable by their signal length."
   ],
   "metadata": {}
  },
  {
   "cell_type": "code",
   "execution_count": 93,
   "source": [
    "def get_count_of_easily_identifiable_digits(input_data):\n",
    "    signal_length_to_digit = {\n",
    "        2: 1,\n",
    "        3: 7, \n",
    "        4: 4,\n",
    "        7: 8,\n",
    "    }\n",
    "    \n",
    "    digit_occurrences = defaultdict(int)\n",
    "    \n",
    "    for _, output_pattern in parse_input(input_data):\n",
    "        for signal_set in output_pattern:\n",
    "            segment_count = len(signal_set)\n",
    "            if segment_count in signal_length_to_digit:\n",
    "                digit = signal_length_to_digit[segment_count]\n",
    "                digit_occurrences[digit] += 1\n",
    "    \n",
    "    total_count = sum(digit_occurrences.values())\n",
    "    return total_count\n"
   ],
   "outputs": [],
   "metadata": {}
  },
  {
   "cell_type": "code",
   "execution_count": 94,
   "source": [
    "get_count_of_easily_identifiable_digits(testdata)"
   ],
   "outputs": [
    {
     "output_type": "execute_result",
     "data": {
      "text/plain": [
       "26"
      ]
     },
     "metadata": {},
     "execution_count": 94
    }
   ],
   "metadata": {}
  },
  {
   "cell_type": "code",
   "execution_count": 95,
   "source": [
    "get_count_of_easily_identifiable_digits(data)"
   ],
   "outputs": [
    {
     "output_type": "execute_result",
     "data": {
      "text/plain": [
       "330"
      ]
     },
     "metadata": {},
     "execution_count": 95
    }
   ],
   "metadata": {}
  },
  {
   "cell_type": "markdown",
   "source": [
    "## Part 2\n",
    "Identify all digits, not just the easy ones.\n",
    "\n",
    "Most wires are identifiable by their count, except a few.\n",
    "The digit `4` is our key here, it helps differentiating between those."
   ],
   "metadata": {}
  },
  {
   "cell_type": "code",
   "execution_count": 96,
   "source": [
    "def segments_to_digit(decoded_signal):\n",
    "    segment_mapping = {\n",
    "        frozenset(\"abcefg\"): 0,\n",
    "        frozenset(\"cf\"): 1,\n",
    "        frozenset(\"acdeg\"): 2, \n",
    "        frozenset(\"acdfg\"): 3,\n",
    "        frozenset(\"bcdf\"): 4,\n",
    "        frozenset(\"abdfg\"): 5,\n",
    "        frozenset(\"abdefg\"): 6,\n",
    "        frozenset(\"acf\"): 7,\n",
    "        frozenset(\"abcdefg\"): 8, \n",
    "        frozenset(\"abcdfg\"): 9\n",
    "    }\n",
    "    \n",
    "    return segment_mapping[frozenset(decoded_signal)]"
   ],
   "outputs": [],
   "metadata": {}
  },
  {
   "cell_type": "code",
   "execution_count": 97,
   "source": [
    "def decode_signal(mapping, signal):\n",
    "    return \"\".join([mapping[char] for char in signal])"
   ],
   "outputs": [],
   "metadata": {}
  },
  {
   "cell_type": "code",
   "execution_count": 98,
   "source": [
    "def get_sum_of_output_digits(input_data):\n",
    "    all_output_digits = []\n",
    "    \n",
    "    # We already know those because they only occur so much.\n",
    "    fixes_occurrence_map = {\n",
    "        6: \"b\",\n",
    "        4: \"e\",\n",
    "        9: \"f\", \n",
    "        # 7: \"dg\",  # Not unique! \n",
    "        # 8: \"ac\",  # Not unique!\n",
    "    }\n",
    "    \n",
    "    for input_pattern, output_pattern in parse_input(input_data):\n",
    "        decode_map = {}\n",
    "        wirecount = defaultdict(int)\n",
    "        four_signal = \"\"\n",
    "        \n",
    "        # Count the wires and look for a signal with length four\n",
    "        # which just so happens to be unique and map to the digit four.\n",
    "        for signal in input_pattern:\n",
    "            for wire in signal:\n",
    "                wirecount[wire] += 1\n",
    "            if len(signal) == 4:\n",
    "                four_signal = signal\n",
    "        \n",
    "        for wire, count in wirecount.items():\n",
    "            # Map the fixed segments\n",
    "            if count in fixes_occurrence_map:\n",
    "                decode_map[wire] = fixes_occurrence_map[count]\n",
    "            \n",
    "            # Differentiate wire \"d\" and \"g\" which both occur 7 times.\n",
    "            # One of which is used in the digit four, the other not.\n",
    "            elif count == 7:\n",
    "                if wire in four_signal:\n",
    "                    decode_map[wire] = \"d\"\n",
    "                else:\n",
    "                    decode_map[wire] = \"g\"\n",
    "            \n",
    "            # Differentiate wire \"c\" and \"a\" which both occur 8 times.\n",
    "            # One of which is used in the digit four, the other not.\n",
    "            elif count == 8:\n",
    "                if wire in four_signal:\n",
    "                    decode_map[wire] = \"c\"\n",
    "                else:\n",
    "                    decode_map[wire] = \"a\"\n",
    "        \n",
    "        # Build the output digit from the now ready wire mapping\n",
    "        output_digit = \"\"\n",
    "        for signal in output_pattern:\n",
    "            decoded_signal = decode_signal(decode_map, signal)\n",
    "            digit = segments_to_digit(decoded_signal)\n",
    "            output_digit += str(digit)\n",
    "\n",
    "        all_output_digits.append(int(output_digit))\n",
    "       \n",
    "    return sum(all_output_digits)\n",
    "        "
   ],
   "outputs": [],
   "metadata": {}
  },
  {
   "cell_type": "code",
   "execution_count": 99,
   "source": [
    "get_sum_of_output_digits(testdata)"
   ],
   "outputs": [
    {
     "output_type": "execute_result",
     "data": {
      "text/plain": [
       "61229"
      ]
     },
     "metadata": {},
     "execution_count": 99
    }
   ],
   "metadata": {}
  },
  {
   "cell_type": "code",
   "execution_count": 100,
   "source": [
    "get_sum_of_output_digits(data)"
   ],
   "outputs": [
    {
     "output_type": "execute_result",
     "data": {
      "text/plain": [
       "1010472"
      ]
     },
     "metadata": {},
     "execution_count": 100
    }
   ],
   "metadata": {}
  }
 ],
 "metadata": {
  "orig_nbformat": 4,
  "language_info": {
   "name": "python",
   "version": "3.9.7",
   "mimetype": "text/x-python",
   "codemirror_mode": {
    "name": "ipython",
    "version": 3
   },
   "pygments_lexer": "ipython3",
   "nbconvert_exporter": "python",
   "file_extension": ".py"
  },
  "kernelspec": {
   "name": "python3",
   "display_name": "Python 3.9.7 64-bit"
  },
  "interpreter": {
   "hash": "916dbcbb3f70747c44a77c7bcd40155683ae19c65e1c03b4aa3499c5328201f1"
  }
 },
 "nbformat": 4,
 "nbformat_minor": 2
}