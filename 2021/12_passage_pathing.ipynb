{
 "cells": [
  {
   "cell_type": "markdown",
   "source": [
    "# Day 12 - Passage Pathing"
   ],
   "metadata": {}
  },
  {
   "cell_type": "markdown",
   "source": [
    "## Part 1\n",
    "How many paths through this cave system are there **that visit small caves at most once?**"
   ],
   "metadata": {}
  },
  {
   "cell_type": "code",
   "execution_count": 167,
   "source": [
    "from collections import defaultdict\n",
    "import pprint"
   ],
   "outputs": [],
   "metadata": {}
  },
  {
   "cell_type": "code",
   "execution_count": 168,
   "source": [
    "def parse(file):\n",
    "    with open(file, \"r\") as f:\n",
    "        lines = f.readlines()\n",
    "    \n",
    "    edges = defaultdict(list)\n",
    "    \n",
    "    for line in lines:\n",
    "        a, b = line.strip().split(\"-\")\n",
    "        edges[a].append(b)\n",
    "        edges[b].append(a)\n",
    "        \n",
    "    return dict(edges)"
   ],
   "outputs": [],
   "metadata": {}
  },
  {
   "cell_type": "code",
   "execution_count": 169,
   "source": [
    "def find_path(graph: dict, start: str, end: str, path=[]) -> list[str]:\n",
    "    path = path + [start]\n",
    "    if start == end:\n",
    "        # Successful path\n",
    "        return path\n",
    "    \n",
    "    if start not in graph:\n",
    "        # Invalid starting point\n",
    "        return None\n",
    "    \n",
    "    for other in graph[start]:\n",
    "        if other in path and other.islower():\n",
    "            # Ignore duplicate lowercase caves\n",
    "            continue\n",
    "        \n",
    "        other_path = find_path(graph, other, end, path)\n",
    "        if other_path:\n",
    "            # Return first successful path\n",
    "            return other_path\n",
    "    \n",
    "    # Dead end\n",
    "    return None "
   ],
   "outputs": [],
   "metadata": {}
  },
  {
   "cell_type": "code",
   "execution_count": 170,
   "source": [
    "def find_paths(graph: dict, start: str, end: str, path=[]) -> list[list[str]]:\n",
    "    path = path + [start]\n",
    "    \n",
    "    if start == end:\n",
    "        # Successful path\n",
    "        return [path]\n",
    "    \n",
    "    if start not in graph:\n",
    "        # Invalid starting point\n",
    "        return None\n",
    "    \n",
    "    paths = []\n",
    "    for other in graph[start]:\n",
    "        if other in path and other.islower():\n",
    "            # Ignore duplicate lowercase caves\n",
    "            continue\n",
    "        \n",
    "        other_paths = find_paths(graph, other, end, path)\n",
    "        if other_paths:\n",
    "            # Successful path\n",
    "            paths.extend(other_paths)\n",
    "    \n",
    "    return paths"
   ],
   "outputs": [],
   "metadata": {}
  },
  {
   "cell_type": "code",
   "execution_count": 171,
   "source": [
    "data = parse(\"12_input.in\")\n",
    "paths = find_paths(data, \"start\", \"end\")\n",
    "print(len(paths))\n",
    "# pprint.pprint(paths)"
   ],
   "outputs": [
    {
     "output_type": "stream",
     "name": "stdout",
     "text": [
      "4707\n"
     ]
    }
   ],
   "metadata": {}
  },
  {
   "cell_type": "code",
   "execution_count": 172,
   "source": [
    "minimal_data = parse(\"12_minimal.in\")\n",
    "paths = find_paths(minimal_data, \"start\", \"end\")\n",
    "print(len(paths))"
   ],
   "outputs": [
    {
     "output_type": "stream",
     "name": "stdout",
     "text": [
      "10\n"
     ]
    }
   ],
   "metadata": {}
  },
  {
   "cell_type": "code",
   "execution_count": 173,
   "source": [
    "def find_paths_part2(graph: dict, start: str, end: str, path=[]) -> list[list[str]]:\n",
    "    path = path + [start]\n",
    "    \n",
    "    if start == end:\n",
    "        # Successful path\n",
    "        return [path]\n",
    "    \n",
    "    if start not in graph:\n",
    "        # Invalid starting point\n",
    "        return None\n",
    "    \n",
    "    paths = []\n",
    "    for other in graph[start]:\n",
    "        if other == \"start\":\n",
    "            # We start at start.. cant visit it twice\n",
    "            continue\n",
    "        \n",
    "        if other in path and other.islower():           \n",
    "            visits_made = {item: path.count(item) \n",
    "                           for item in set(path)\n",
    "                           if item.islower() \n",
    "                           and item not in [\"start\", \"end\"]}\n",
    "            if max(visits_made.values()) == 2:\n",
    "                # We already visited a small cave twice.\n",
    "                continue\n",
    "        \n",
    "        other_paths = find_paths_part2(graph, other, end, path)\n",
    "        if other_paths:\n",
    "            # Successful path\n",
    "            paths.extend(other_paths)\n",
    "    \n",
    "    return paths"
   ],
   "outputs": [],
   "metadata": {}
  },
  {
   "cell_type": "code",
   "execution_count": 174,
   "source": [
    "minimal_data = parse(\"12_minimal.in\")\n",
    "paths = find_paths_part2(minimal_data, \"start\", \"end\")\n",
    "print(len(paths))"
   ],
   "outputs": [
    {
     "output_type": "stream",
     "name": "stdout",
     "text": [
      "36\n"
     ]
    }
   ],
   "metadata": {}
  },
  {
   "cell_type": "code",
   "execution_count": 175,
   "source": [
    "data = parse(\"12_input.in\")\n",
    "paths = find_paths_part2(data, \"start\", \"end\")\n",
    "print(len(paths))"
   ],
   "outputs": [
    {
     "output_type": "stream",
     "name": "stdout",
     "text": [
      "130493\n"
     ]
    }
   ],
   "metadata": {}
  }
 ],
 "metadata": {
  "orig_nbformat": 4,
  "language_info": {
   "name": "python",
   "version": "3.9.7",
   "mimetype": "text/x-python",
   "codemirror_mode": {
    "name": "ipython",
    "version": 3
   },
   "pygments_lexer": "ipython3",
   "nbconvert_exporter": "python",
   "file_extension": ".py"
  },
  "kernelspec": {
   "name": "python3",
   "display_name": "Python 3.9.7 64-bit"
  },
  "interpreter": {
   "hash": "916dbcbb3f70747c44a77c7bcd40155683ae19c65e1c03b4aa3499c5328201f1"
  }
 },
 "nbformat": 4,
 "nbformat_minor": 2
}