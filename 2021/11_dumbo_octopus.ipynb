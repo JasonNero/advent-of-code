{
 "cells": [
  {
   "cell_type": "markdown",
   "source": [
    "# Day 11 - Dumbo Octopus\n",
    "1. The energy level of all increases by one\n",
    "2. Cells with an energy level greater than 9 flash, increasing the level of all adjacent (also diagonal) cells by one. Cells cannot blink twice\n",
    "3. All blinked cells are reset to 0\n",
    "4. "
   ],
   "metadata": {}
  },
  {
   "cell_type": "code",
   "execution_count": 1,
   "source": [
    "import numpy as np\n",
    "\n",
    "def parse_input(lines):\n",
    "    return np.array(\n",
    "        [[int(i) for i in line.strip()]\n",
    "            for line in lines]\n",
    "    )"
   ],
   "outputs": [],
   "metadata": {}
  },
  {
   "cell_type": "code",
   "execution_count": 2,
   "source": [
    "with open(\"11_input.in\", \"r\") as f:\n",
    "    lines = f.readlines()\n",
    "\n",
    "data = parse_input(lines)"
   ],
   "outputs": [],
   "metadata": {}
  },
  {
   "cell_type": "code",
   "execution_count": 3,
   "source": [
    "def unsafe_and_broken_numpy_safe_increment(matrix, position):\n",
    "    \"\"\"So apparently, I managed to increment in bounds items by passing\n",
    "    out-of-bounds indices. Took me way too long to find this.\n",
    "    \"\"\"\n",
    "    x, y = position\n",
    "    try:\n",
    "        matrix[x, y] += 1\n",
    "    except IndexError:\n",
    "        pass\n",
    "\n",
    "def safe_increment(matrix, position):\n",
    "    x, y = position\n",
    "    shape = matrix.shape\n",
    "    if x in range(shape[0]) and y in range(shape[1]):\n",
    "        matrix[x, y] += 1\n"
   ],
   "outputs": [],
   "metadata": {}
  },
  {
   "cell_type": "code",
   "execution_count": 13,
   "source": [
    "def run_simulation(initial_state, steps=100):\n",
    "    state = np.copy(initial_state)\n",
    "    \n",
    "    flash_count = 0\n",
    "    \n",
    "    # print(state)\n",
    "\n",
    "    for step in range(1, steps+1):\n",
    "        # print(f\"---------------- {step:03d} ----------------\")\n",
    "        state += 1\n",
    "        triggered = np.zeros(shape=state.shape, dtype=np.bool8)\n",
    "\n",
    "        all_flashes_processed = False\n",
    "        while not all_flashes_processed:\n",
    "            xs, ys = np.where(state > 9)\n",
    "            positions_to_trigger = list(zip(xs, ys))\n",
    "            \n",
    "            txs, tys = np.where(triggered == True)\n",
    "            positions_triggered = list(zip(txs, tys))\n",
    "    \n",
    "            # Break loop once no new positions are found.\n",
    "            if set(positions_to_trigger).issubset(positions_triggered):\n",
    "                all_flashes_processed = True\n",
    "                break\n",
    "    \n",
    "            for x, y in positions_to_trigger:\n",
    "                if triggered[x, y]:\n",
    "                    # Ignore already triggered cells.\n",
    "                    continue\n",
    "                \n",
    "                safe_increment(state, [x-1, y-1])\n",
    "                safe_increment(state, [x  , y-1])\n",
    "                safe_increment(state, [x+1, y-1])\n",
    "                \n",
    "                safe_increment(state, [x-1, y  ])\n",
    "                safe_increment(state, [x+1, y  ])\n",
    "                \n",
    "                safe_increment(state, [x-1, y+1])\n",
    "                safe_increment(state, [x  , y+1])\n",
    "                safe_increment(state, [x+1, y+1])\n",
    "                \n",
    "                triggered[x, y] = True\n",
    "                flash_count += 1\n",
    "                \n",
    "        txs, tys = np.where(triggered == True)\n",
    "        for x, y in zip(txs, tys):\n",
    "            state[x, y] = 0\n",
    "            \n",
    "        if np.alltrue(triggered):\n",
    "            print(f\"Huston, we are synchronized! (Step {step})\")\n",
    "            break\n",
    "            \n",
    "        # print(state)\n",
    "            \n",
    "    return flash_count\n",
    "        "
   ],
   "outputs": [],
   "metadata": {}
  },
  {
   "cell_type": "code",
   "execution_count": 14,
   "source": [
    "with open(\"11_test.in\", \"r\") as f:\n",
    "    lines = f.readlines()\n",
    "\n",
    "test_data = parse_input(lines)"
   ],
   "outputs": [],
   "metadata": {}
  },
  {
   "cell_type": "code",
   "execution_count": 9,
   "source": [
    "run_simulation(test_data, steps=100)"
   ],
   "outputs": [
    {
     "output_type": "execute_result",
     "data": {
      "text/plain": [
       "1656"
      ]
     },
     "metadata": {},
     "execution_count": 9
    }
   ],
   "metadata": {}
  },
  {
   "cell_type": "code",
   "execution_count": 15,
   "source": [
    "run_simulation(data, steps=300)"
   ],
   "outputs": [
    {
     "output_type": "stream",
     "name": "stdout",
     "text": [
      "Huston, we are synchronized! (Step 227)\n"
     ]
    },
    {
     "output_type": "execute_result",
     "data": {
      "text/plain": [
       "3560"
      ]
     },
     "metadata": {},
     "execution_count": 15
    }
   ],
   "metadata": {}
  },
  {
   "cell_type": "code",
   "execution_count": null,
   "source": [],
   "outputs": [],
   "metadata": {}
  }
 ],
 "metadata": {
  "orig_nbformat": 4,
  "language_info": {
   "name": "python",
   "version": "3.9.7",
   "mimetype": "text/x-python",
   "codemirror_mode": {
    "name": "ipython",
    "version": 3
   },
   "pygments_lexer": "ipython3",
   "nbconvert_exporter": "python",
   "file_extension": ".py"
  },
  "kernelspec": {
   "name": "python3",
   "display_name": "Python 3.9.7 64-bit"
  },
  "interpreter": {
   "hash": "916dbcbb3f70747c44a77c7bcd40155683ae19c65e1c03b4aa3499c5328201f1"
  }
 },
 "nbformat": 4,
 "nbformat_minor": 2
}