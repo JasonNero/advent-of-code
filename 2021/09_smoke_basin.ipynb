{
 "cells": [
  {
   "cell_type": "markdown",
   "source": [
    "# Day 09 - Smoke Basin"
   ],
   "metadata": {}
  },
  {
   "cell_type": "markdown",
   "source": [
    "## Part 1\n",
    "Find low points by checking all adjacent numbers"
   ],
   "metadata": {}
  },
  {
   "cell_type": "code",
   "execution_count": 208,
   "source": [
    "import numpy as np\n",
    "import functools\n",
    "# import pandas as pd"
   ],
   "outputs": [],
   "metadata": {}
  },
  {
   "cell_type": "code",
   "execution_count": 209,
   "source": [
    "with open(\"09_input.txt\", \"r\") as f:\n",
    "    full_data = f.readlines()\n",
    "\n",
    "test_data = \"\"\"\n",
    "2199943210\n",
    "3987894921\n",
    "9856789892\n",
    "8767896789\n",
    "9899965678\n",
    "\"\"\".splitlines()[1:]"
   ],
   "outputs": [],
   "metadata": {}
  },
  {
   "cell_type": "code",
   "execution_count": 210,
   "source": [
    "def parse_input(input_data):\n",
    "    raw_data = [[int(i) for i in line.strip()]\n",
    "            for line in input_data]  \n",
    "    return np.asarray(raw_data)  "
   ],
   "outputs": [],
   "metadata": {}
  },
  {
   "cell_type": "code",
   "execution_count": 211,
   "source": [
    "def calculate_basin_risk(input_data):\n",
    "    data = parse_input(input_data)\n",
    "    risk_map = np.zeros(shape=data.shape, dtype=np.int8)\n",
    "    padded_data = np.pad(data, 1, constant_values=10)\n",
    "    \n",
    "    for row in range(1, data.shape[0]+1):\n",
    "        for column in range(1, data.shape[1]+1):\n",
    "            core = padded_data[row, column]\n",
    "            kernel = padded_data[row-1:row+2, column-1:column+2]\n",
    "            is_minima = (\n",
    "                core < kernel[0, 1] and\n",
    "                core < kernel[1, 0] and\n",
    "                core < kernel[1, 2] and\n",
    "                core < kernel[2, 1]\n",
    "            )\n",
    "            if is_minima:\n",
    "                risk_map[row-1, column-1] = core +1\n",
    "    return np.sum(risk_map)"
   ],
   "outputs": [],
   "metadata": {}
  },
  {
   "cell_type": "code",
   "execution_count": 212,
   "source": [
    "calculate_basin_risk(test_data)"
   ],
   "outputs": [
    {
     "output_type": "execute_result",
     "data": {
      "text/plain": [
       "15"
      ]
     },
     "metadata": {},
     "execution_count": 212
    }
   ],
   "metadata": {}
  },
  {
   "cell_type": "code",
   "execution_count": 213,
   "source": [
    "calculate_basin_risk(full_data)"
   ],
   "outputs": [
    {
     "output_type": "execute_result",
     "data": {
      "text/plain": [
       "425"
      ]
     },
     "metadata": {},
     "execution_count": 213
    }
   ],
   "metadata": {}
  },
  {
   "cell_type": "markdown",
   "source": [
    "## Part 2\n",
    "Get the three biggest basins."
   ],
   "metadata": {}
  },
  {
   "cell_type": "markdown",
   "source": [
    "### Visualizing the Basin walls and low-points"
   ],
   "metadata": {}
  },
  {
   "cell_type": "code",
   "execution_count": 214,
   "source": [
    "from PIL import Image, ImageDraw, ImageChops\n",
    "\n",
    "def visualize_basin(input_data):\n",
    "    data = parse_input(input_data)\n",
    "    risk_map = np.zeros(shape=data.shape, dtype=np.int8)\n",
    "    padded_data = np.pad(data, 1, constant_values=10)\n",
    "    \n",
    "    im = Image.fromarray(np.uint8(padded_data) * 25)\n",
    "    # display(im.resize((1010, 1010), resample=Image.BOX))\n",
    "\n",
    "\n",
    "    for row in range(1, data.shape[0]+1):\n",
    "        for column in range(1, data.shape[1]+1):\n",
    "            core = padded_data[row, column]\n",
    "            kernel = padded_data[row-1:row+2, column-1:column+2]\n",
    "            is_minima = (\n",
    "                core < kernel[0, 1] and\n",
    "                core < kernel[1, 0] and\n",
    "                core < kernel[1, 2] and\n",
    "                core < kernel[2, 1]\n",
    "            )\n",
    "            if is_minima:\n",
    "                risk_map[row-1, column-1] = core +1\n",
    "\n",
    "    only_max_data = np.array([[(item==9)*9 for item in line]\n",
    "                              for line in data])\n",
    "    \n",
    "    # reduced_data = np.copyto(only_max_data, risk_map)\n",
    "    im1 = Image.fromarray(\n",
    "        np.array(\n",
    "            [[[0,i*25,0] for i in line]\n",
    "            for line in only_max_data],\n",
    "            dtype=np.uint8\n",
    "        ), \n",
    "        mode=\"RGB\"\n",
    "    )\n",
    "    \n",
    "    im2 = Image.fromarray(\n",
    "        np.array(\n",
    "            [[[255,0,0] if i else [0,0,0] for i in line]\n",
    "            for line in risk_map],\n",
    "            dtype=np.uint8\n",
    "        ), \n",
    "        mode=\"RGB\"\n",
    "    )\n",
    "    \n",
    "    im3 = ImageChops.add(im1, im2)\n",
    "    \n",
    "    display(im3.resize((1010, 1010), resample=Image.BOX))\n",
    "    \n",
    "\n",
    "\n",
    "visualize_basin(full_data)"
   ],
   "outputs": [
    {
     "output_type": "display_data",
     "data": {
      "image/png": "[encoded data removed]",
      "text/plain": [
       "<PIL.Image.Image image mode=RGB size=1010x1010 at 0x7F4ADDEBACD0>"
      ]
     },
     "metadata": {}
    }
   ],
   "metadata": {}
  },
  {
   "cell_type": "markdown",
   "source": [
    "### The actual riddle\n",
    "1. Get Basin Positions\n",
    "2. For each basin\n",
    "   1. get adjacent pixels\n",
    "   2. add them to size count if not 9\n",
    "3. Sort basins by size and take the 3 largest\n"
   ],
   "metadata": {}
  },
  {
   "cell_type": "code",
   "execution_count": 215,
   "source": [
    "def get_basin_positions(padded_data):\n",
    "    padded_basin_positions = []\n",
    "    \n",
    "    # Check the ranges again!\n",
    "    for row in range(1, padded_data.shape[0]-1):\n",
    "        for column in range(1, padded_data.shape[1]-1):\n",
    "            core = padded_data[row, column]\n",
    "            kernel = padded_data[row-1:row+2, column-1:column+2]\n",
    "            is_minima = (\n",
    "                core < kernel[0, 1] and\n",
    "                core < kernel[1, 0] and\n",
    "                core < kernel[1, 2] and\n",
    "                core < kernel[2, 1]\n",
    "            )\n",
    "            if is_minima:\n",
    "                padded_basin_positions.append((row, column))\n",
    "    \n",
    "    return padded_basin_positions"
   ],
   "outputs": [],
   "metadata": {}
  },
  {
   "cell_type": "code",
   "execution_count": 216,
   "source": [
    "def visit_neighbours(data, position, visited):\n",
    "    if position in visited:\n",
    "        return 0\n",
    "    \n",
    "    count = 0\n",
    "    x, y = position\n",
    "    value = data[x, y]\n",
    "    visited.add(position)\n",
    "    \n",
    "    if value < 9:\n",
    "        # print(f\"Visiting point {x} {y} with value {value}\")\n",
    "        count += 1\n",
    "        count += visit_neighbours(data, (x, y-1), visited)\n",
    "        count += visit_neighbours(data, (x-1, y), visited)\n",
    "        count += visit_neighbours(data, (x+1, y), visited)\n",
    "        count += visit_neighbours(data, (x, y+1), visited)\n",
    "    \n",
    "    return count"
   ],
   "outputs": [],
   "metadata": {}
  },
  {
   "cell_type": "code",
   "execution_count": 219,
   "source": [
    "def explore_basins(input_data):\n",
    "    data = parse_input(input_data)\n",
    "    padded_data = np.pad(data, 1, constant_values=10)\n",
    "    \n",
    "    basin_points = get_basin_positions(padded_data)\n",
    "    basin_sizes = []\n",
    "    \n",
    "    for point in basin_points:\n",
    "        size = visit_neighbours(padded_data, point, set())\n",
    "        basin_sizes.append(size)\n",
    "        \n",
    "    basin_sizes.sort(reverse=True)\n",
    "    result = functools.reduce(lambda a,b: a*b, basin_sizes[:3])\n",
    "    return result"
   ],
   "outputs": [],
   "metadata": {}
  },
  {
   "cell_type": "code",
   "execution_count": 221,
   "source": [
    "explore_basins(test_data)"
   ],
   "outputs": [
    {
     "output_type": "execute_result",
     "data": {
      "text/plain": [
       "1134"
      ]
     },
     "metadata": {},
     "execution_count": 221
    }
   ],
   "metadata": {}
  },
  {
   "cell_type": "code",
   "execution_count": 222,
   "source": [
    "explore_basins(full_data)"
   ],
   "outputs": [
    {
     "output_type": "execute_result",
     "data": {
      "text/plain": [
       "1135260"
      ]
     },
     "metadata": {},
     "execution_count": 222
    }
   ],
   "metadata": {}
  },
  {
   "cell_type": "code",
   "execution_count": null,
   "source": [],
   "outputs": [],
   "metadata": {}
  }
 ],
 "metadata": {
  "orig_nbformat": 4,
  "language_info": {
   "name": "python",
   "version": "3.9.7",
   "mimetype": "text/x-python",
   "codemirror_mode": {
    "name": "ipython",
    "version": 3
   },
   "pygments_lexer": "ipython3",
   "nbconvert_exporter": "python",
   "file_extension": ".py"
  },
  "kernelspec": {
   "name": "python3",
   "display_name": "Python 3.9.7 64-bit"
  },
  "interpreter": {
   "hash": "916dbcbb3f70747c44a77c7bcd40155683ae19c65e1c03b4aa3499c5328201f1"
  }
 },
 "nbformat": 4,
 "nbformat_minor": 2
}