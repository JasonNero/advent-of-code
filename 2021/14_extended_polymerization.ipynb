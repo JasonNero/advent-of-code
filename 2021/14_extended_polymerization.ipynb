{
 "cells": [
  {
   "cell_type": "markdown",
   "source": [
    "# Day 14 - Extended Polymerization"
   ],
   "metadata": {}
  },
  {
   "cell_type": "markdown",
   "source": [
    "## Part 1\n",
    "Apply **10 steps of pair insertion** [...] What do you get if you take the quantity of the **most common element** and subtract the quantity of the **least common element**?"
   ],
   "metadata": {}
  },
  {
   "cell_type": "code",
   "execution_count": 27,
   "source": [
    "Polymer = list[str]\n",
    "Rules = dict[str, str]\n",
    "\n",
    "def parse(file) -> tuple[Polymer, Rules]:\n",
    "    with open(file, \"r\") as f:\n",
    "        lines = f.readlines()\n",
    "    \n",
    "    polymer = Polymer(element for element in lines[0].strip())\n",
    "    \n",
    "    rules = Rules()\n",
    "    for line in lines[2:]:\n",
    "        line = line.strip().replace(\" \", \"\")\n",
    "        if not line:\n",
    "            continue\n",
    "        \n",
    "        sequence, insertion = line.split(\"->\")\n",
    "        rules[sequence] = insertion\n",
    "    \n",
    "    return polymer, rules"
   ],
   "outputs": [],
   "metadata": {}
  },
  {
   "cell_type": "code",
   "execution_count": 28,
   "source": [
    "test_data, test_rules = parse(\"14_test.in\")\n",
    "data, rules = parse(\"14_input.in\")"
   ],
   "outputs": [],
   "metadata": {}
  },
  {
   "cell_type": "code",
   "execution_count": 29,
   "source": [
    "def pair_insertion(polymer: Polymer, rules: Rules, steps=10): \n",
    "    print(f\"Template: {''.join(polymer):>16}\")\n",
    "    polymer = polymer.copy()\n",
    "    for i in range(1, steps+1):\n",
    "        new_polymer = polymer[0:1]  \n",
    "        previous = polymer.pop(0)\n",
    "        \n",
    "        while polymer:\n",
    "            current = polymer.pop(0)\n",
    "            sequence = previous + current\n",
    "            if sequence in rules:\n",
    "                insertion = rules[sequence]\n",
    "                new_polymer.append(insertion)\n",
    "            new_polymer.append(current)\n",
    "            previous = current\n",
    "            \n",
    "        # print(f\"After Step {i:03d}:       {''.join(new_polymer)}\")\n",
    "        polymer = new_polymer\n",
    "\n",
    "    return polymer\n",
    "        "
   ],
   "outputs": [],
   "metadata": {}
  },
  {
   "cell_type": "code",
   "execution_count": 30,
   "source": [
    "pair_insertion(test_data, test_rules, steps=3)"
   ],
   "outputs": [
    {
     "output_type": "stream",
     "name": "stdout",
     "text": [
      "Template:             NNCB\n"
     ]
    },
    {
     "output_type": "execute_result",
     "data": {
      "text/plain": [
       "['N',\n",
       " 'B',\n",
       " 'B',\n",
       " 'B',\n",
       " 'C',\n",
       " 'N',\n",
       " 'C',\n",
       " 'C',\n",
       " 'N',\n",
       " 'B',\n",
       " 'B',\n",
       " 'N',\n",
       " 'B',\n",
       " 'N',\n",
       " 'B',\n",
       " 'B',\n",
       " 'C',\n",
       " 'H',\n",
       " 'B',\n",
       " 'H',\n",
       " 'H',\n",
       " 'B',\n",
       " 'C',\n",
       " 'H',\n",
       " 'B']"
      ]
     },
     "metadata": {},
     "execution_count": 30
    }
   ],
   "metadata": {}
  },
  {
   "cell_type": "code",
   "execution_count": 31,
   "source": [
    "def calculate_part1_score(polymer):\n",
    "    elements = set(polymer)\n",
    "    counts = {element: polymer.count(element)\n",
    "              for element in elements}\n",
    "    maximum = max(counts, key=lambda k: counts[k])\n",
    "    minimum = min(counts, key=lambda k: counts[k])\n",
    "    \n",
    "    print(f\"Max Element: {maximum} {counts[maximum]}\")\n",
    "    print(f\"Min Element: {minimum} {counts[minimum]}\")\n",
    "    print(f\"Result: {counts[maximum] - counts[minimum]}\")\n",
    "    "
   ],
   "outputs": [],
   "metadata": {}
  },
  {
   "cell_type": "code",
   "execution_count": 32,
   "source": [
    "result = pair_insertion(test_data, test_rules, steps=10)\n",
    "calculate_part1_score(result)"
   ],
   "outputs": [
    {
     "output_type": "stream",
     "name": "stdout",
     "text": [
      "Template:             NNCB\n",
      "Max Element: B 1749\n",
      "Min Element: H 161\n",
      "Result: 1588\n"
     ]
    }
   ],
   "metadata": {}
  },
  {
   "cell_type": "code",
   "execution_count": 33,
   "source": [
    "result = pair_insertion(data, rules, steps=10)\n",
    "calculate_part1_score(result)"
   ],
   "outputs": [
    {
     "output_type": "stream",
     "name": "stdout",
     "text": [
      "Template: HBCHSNFFVOBNOFHFOBNO\n",
      "Max Element: H 3978\n",
      "Min Element: O 570\n",
      "Result: 3408\n"
     ]
    }
   ],
   "metadata": {}
  },
  {
   "cell_type": "markdown",
   "source": [
    "## Part 2 - The same, but more and smart\n",
    "Kinda like Day 06 Lanternfish"
   ],
   "metadata": {}
  },
  {
   "cell_type": "code",
   "execution_count": 34,
   "source": [
    "result = pair_insertion(test_data, test_rules, steps=15)\n",
    "calculate_part1_score(result)"
   ],
   "outputs": [
    {
     "output_type": "stream",
     "name": "stdout",
     "text": [
      "Template:             NNCB\n",
      "Max Element: B 60184\n",
      "Min Element: H 3292\n",
      "Result: 56892\n"
     ]
    }
   ],
   "metadata": {}
  },
  {
   "cell_type": "code",
   "execution_count": 35,
   "source": [
    "result = pair_insertion(test_data, test_rules, steps=16)\n",
    "calculate_part1_score(result)"
   ],
   "outputs": [
    {
     "output_type": "stream",
     "name": "stdout",
     "text": [
      "Template:             NNCB\n",
      "Max Element: B 121971\n",
      "Min Element: H 4951\n",
      "Result: 117020\n"
     ]
    }
   ],
   "metadata": {}
  },
  {
   "cell_type": "code",
   "execution_count": 36,
   "source": [
    "# Runtime: ~10s\n",
    "# result = pair_insertion(test_data, test_rules, steps=17)\n",
    "# calculate_part1_score(result)"
   ],
   "outputs": [],
   "metadata": {}
  },
  {
   "cell_type": "code",
   "execution_count": 37,
   "source": [
    "# Runtime: ~40s\n",
    "# result = pair_insertion(test_data, test_rules, steps=18)\n",
    "# calculate_part1_score(result)"
   ],
   "outputs": [],
   "metadata": {}
  },
  {
   "cell_type": "markdown",
   "source": [
    "Idea\n",
    "----\n",
    "Use a register of adjacent elements.\n",
    "From there, half the amount since we count each element twice (except for the start and end element)."
   ],
   "metadata": {}
  },
  {
   "cell_type": "code",
   "execution_count": 49,
   "source": [
    "from collections import defaultdict\n",
    "import pprint\n",
    "\n",
    "def smart_pair_insertion(polymer, rules, steps=10):\n",
    "    start = polymer[0]\n",
    "    end = polymer[-1]\n",
    "    \n",
    "    # Parse Polymer.\n",
    "    adjacent_elements = defaultdict(int)\n",
    "    for i in range(len(polymer) -1):\n",
    "        sequence = \"\".join(polymer[i:i+2])\n",
    "        adjacent_elements[sequence] += 1\n",
    "    \n",
    "    # Simulate pair insertion.\n",
    "    for step in range(steps):\n",
    "        new_adjacent_elements = defaultdict(int)\n",
    "        for sequence, value in adjacent_elements.items():\n",
    "            if sequence not in rules:\n",
    "                # Keep \"inert\" sequences\n",
    "                new_adjacent_elements[sequence] += value\n",
    "                continue\n",
    "            \n",
    "            # Insert according to rules\n",
    "            insert = rules[sequence]\n",
    "            new_adjacent_elements[sequence[0] + insert] += value\n",
    "            new_adjacent_elements[insert + sequence[1]] += value\n",
    "            \n",
    "        adjacent_elements = new_adjacent_elements\n",
    "    pprint.pprint(dict(adjacent_elements))\n",
    "    \n",
    "    # Calculate occurrences.\n",
    "    occurrences = defaultdict(int)\n",
    "    for key, value in adjacent_elements.items():\n",
    "        e1, e2 = key\n",
    "        occurrences[e1] += value\n",
    "        occurrences[e2] += value\n",
    "    \n",
    "    occurrences[start] -= 1\n",
    "    occurrences[end] -= 1\n",
    "\n",
    "    occurrences = {key: int(value/2) for key, value in occurrences.items()}\n",
    "\n",
    "    occurrences[start] += 1\n",
    "    occurrences[end] += 1\n",
    "    \n",
    "    pprint.pprint(occurrences)\n",
    "    \n",
    "    # Calculate score.\n",
    "    score = max(occurrences.values()) - min(occurrences.values())\n",
    "    print(f\"Polymer Score: {score}\")\n",
    "        "
   ],
   "outputs": [],
   "metadata": {}
  },
  {
   "cell_type": "code",
   "execution_count": 50,
   "source": [
    "smart_pair_insertion(test_data, test_rules, steps=40)"
   ],
   "outputs": [
    {
     "output_type": "stream",
     "name": "stdout",
     "text": [
      "{'BB': 1094624367533,\n",
      " 'BC': 2903343622,\n",
      " 'BH': 1490759980,\n",
      " 'BN': 1093021098466,\n",
      " 'CB': 1554005966,\n",
      " 'CC': 1451671811,\n",
      " 'CH': 1050598772,\n",
      " 'CN': 2541358752,\n",
      " 'HB': 1388425825,\n",
      " 'HC': 1152932927,\n",
      " 'HH': 823172187,\n",
      " 'HN': 485345134,\n",
      " 'NB': 1094472770278,\n",
      " 'NC': 1089686941,\n",
      " 'NH': 485345134}\n",
      "{'B': 2192039569602, 'C': 6597635301, 'H': 3849876073, 'N': 1096047802353}\n",
      "Polymer Score: 2188189693529\n"
     ]
    }
   ],
   "metadata": {}
  },
  {
   "cell_type": "code",
   "execution_count": 51,
   "source": [
    "smart_pair_insertion(data, rules, steps=40)"
   ],
   "outputs": [
    {
     "output_type": "stream",
     "name": "stdout",
     "text": [
      "{'BB': 252039032349,\n",
      " 'BC': 90880725358,\n",
      " 'BH': 485722628631,\n",
      " 'BK': 11362878492,\n",
      " 'BN': 5682173332,\n",
      " 'BO': 161443022690,\n",
      " 'BP': 638768762454,\n",
      " 'BS': 2215327848,\n",
      " 'BV': 80731554266,\n",
      " 'CF': 78980591623,\n",
      " 'CH': 180150206467,\n",
      " 'CN': 360205890666,\n",
      " 'CP': 196734740492,\n",
      " 'FB': 196687815500,\n",
      " 'FC': 340761739370,\n",
      " 'FF': 157980009113,\n",
      " 'FH': 654461986969,\n",
      " 'FK': 524391232760,\n",
      " 'FN': 523516774575,\n",
      " 'FS': 315991099959,\n",
      " 'FV': 340234529329,\n",
      " 'HB': 749934532670,\n",
      " 'HC': 181751237498,\n",
      " 'HF': 549267587088,\n",
      " 'HH': 443800261626,\n",
      " 'HK': 262165060722,\n",
      " 'HN': 392498128810,\n",
      " 'HO': 316135611349,\n",
      " 'HP': 782712705394,\n",
      " 'HV': 612067546434,\n",
      " 'KB': 307457248868,\n",
      " 'KC': 22723645313,\n",
      " 'KH': 610920035370,\n",
      " 'KP': 307509035465,\n",
      " 'KV': 360820615920,\n",
      " 'NB': 1107985134,\n",
      " 'NC': 134510397622,\n",
      " 'NF': 243206757746,\n",
      " 'NH': 327222437055,\n",
      " 'NK': 169288384808,\n",
      " 'NN': 71314948461,\n",
      " 'NP': 134147574441,\n",
      " 'NS': 316043230321,\n",
      " 'NV': 388915669231,\n",
      " 'OB': 2215327848,\n",
      " 'OF': 275172703368,\n",
      " 'OH': 137637374905,\n",
      " 'OK': 1034059386,\n",
      " 'ON': 7900968222,\n",
      " 'OP': 137599141809,\n",
      " 'OS': 4429719110,\n",
      " 'PB': 15497096932,\n",
      " 'PC': 45443684087,\n",
      " 'PF': 354189413856,\n",
      " 'PH': 939284660532,\n",
      " 'PK': 22723645313,\n",
      " 'PN': 424638500753,\n",
      " 'PO': 4429719110,\n",
      " 'PP': 177105551728,\n",
      " 'PS': 8857712948,\n",
      " 'PV': 777863372419,\n",
      " 'SB': 8266927597,\n",
      " 'SF': 291732841041,\n",
      " 'SK': 2067554482,\n",
      " 'SO': 1034059386,\n",
      " 'SP': 4134218440,\n",
      " 'SV': 340301489240,\n",
      " 'VB': 195640138522,\n",
      " 'VF': 1103495283740,\n",
      " 'VH': 511133080035,\n",
      " 'VK': 616397764973,\n",
      " 'VO': 82946882114,\n",
      " 'VP': 391321627455,\n",
      " 'VV': 721763048804}\n",
      "{'B': 1728846105420,\n",
      " 'C': 816071429248,\n",
      " 'F': 3054025187575,\n",
      " 'H': 4290332671591,\n",
      " 'K': 1609430580936,\n",
      " 'N': 1785757384819,\n",
      " 'O': 565989294649,\n",
      " 'P': 2770033357678,\n",
      " 'S': 647537090186,\n",
      " 'V': 3622697825643}\n",
      "Polymer Score: 3724343376942\n"
     ]
    }
   ],
   "metadata": {}
  }
 ],
 "metadata": {
  "orig_nbformat": 4,
  "language_info": {
   "name": "python",
   "version": "3.9.7",
   "mimetype": "text/x-python",
   "codemirror_mode": {
    "name": "ipython",
    "version": 3
   },
   "pygments_lexer": "ipython3",
   "nbconvert_exporter": "python",
   "file_extension": ".py"
  },
  "kernelspec": {
   "name": "python3",
   "display_name": "Python 3.9.7 64-bit"
  },
  "interpreter": {
   "hash": "916dbcbb3f70747c44a77c7bcd40155683ae19c65e1c03b4aa3499c5328201f1"
  }
 },
 "nbformat": 4,
 "nbformat_minor": 2
}