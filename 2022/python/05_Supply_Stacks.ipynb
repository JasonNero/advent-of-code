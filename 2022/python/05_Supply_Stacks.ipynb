{
 "cells": [
  {
   "cell_type": "markdown",
   "metadata": {},
   "source": [
    "# Part 1"
   ]
  },
  {
   "cell_type": "code",
   "execution_count": 26,
   "metadata": {},
   "outputs": [],
   "source": [
    "from collections import deque\n",
    "\n",
    "with open(\"../05.in\") as f:\n",
    "    data = f.readlines()\n",
    "\n",
    "supply = [line.strip(\"\\n\")[1::4] for line in data[:8]]\n",
    "supply = list(\n",
    "    deque(filter(None, [supply[i][j].strip() for i in reversed(range(len(supply)))]))\n",
    "    for j in range(len(supply[0]))\n",
    ")"
   ]
  },
  {
   "cell_type": "code",
   "execution_count": 27,
   "metadata": {},
   "outputs": [
    {
     "data": {
      "text/plain": [
       "[[2, 4, 2], [6, 9, 7], [4, 7, 2], [2, 4, 1], [2, 6, 7], [1, 3, 8]]"
      ]
     },
     "execution_count": 27,
     "metadata": {},
     "output_type": "execute_result"
    }
   ],
   "source": [
    "import re\n",
    "\n",
    "pattern = re.compile(r\"move (\\d+) from (\\d+) to (\\d+)\")\n",
    "\n",
    "instructions = [\n",
    "    list(map(int, pattern.match(line).groups()))\n",
    "    for line in data[10:]\n",
    "]\n",
    "\n",
    "instructions[:6]"
   ]
  },
  {
   "cell_type": "code",
   "execution_count": 28,
   "metadata": {},
   "outputs": [
    {
     "data": {
      "text/plain": [
       "'FSZWBPTBG'"
      ]
     },
     "execution_count": 28,
     "metadata": {},
     "output_type": "execute_result"
    }
   ],
   "source": [
    "for (count, idx_a, idx_b) in instructions:\n",
    "    items = [supply[idx_a-1].pop() for _ in range(count)]\n",
    "    supply[idx_b-1].extend(reversed(items))\n",
    "\n",
    "result = [supply[i].pop() for i in range(len(supply))]\n",
    "\"\".join(result)"
   ]
  },
  {
   "cell_type": "markdown",
   "metadata": {},
   "source": [
    "# Part 2"
   ]
  },
  {
   "cell_type": "code",
   "execution_count": 29,
   "metadata": {},
   "outputs": [],
   "source": [
    "from collections import deque\n",
    "\n",
    "with open(\"../05.in\") as f:\n",
    "    data = f.readlines()\n",
    "\n",
    "supply = [line.strip(\"\\n\")[1::4] for line in data[:8]]\n",
    "supply = list(\n",
    "    deque(filter(None, [supply[i][j].strip() for i in reversed(range(len(supply)))]))\n",
    "    for j in range(len(supply[0]))\n",
    ")"
   ]
  },
  {
   "cell_type": "code",
   "execution_count": 30,
   "metadata": {},
   "outputs": [
    {
     "data": {
      "text/plain": [
       "[[2, 4, 2], [6, 9, 7], [4, 7, 2], [2, 4, 1], [2, 6, 7], [1, 3, 8]]"
      ]
     },
     "execution_count": 30,
     "metadata": {},
     "output_type": "execute_result"
    }
   ],
   "source": [
    "import re\n",
    "\n",
    "pattern = re.compile(r\"move (\\d+) from (\\d+) to (\\d+)\")\n",
    "\n",
    "instructions = [\n",
    "    list(map(int, pattern.match(line).groups()))\n",
    "    for line in data[10:]\n",
    "]\n",
    "\n",
    "instructions[:6]"
   ]
  },
  {
   "cell_type": "code",
   "execution_count": 31,
   "metadata": {},
   "outputs": [
    {
     "data": {
      "text/plain": [
       "'FSZWBPTBG'"
      ]
     },
     "execution_count": 31,
     "metadata": {},
     "output_type": "execute_result"
    }
   ],
   "source": [
    "for (count, idx_a, idx_b) in instructions:\n",
    "    items = [supply[idx_a-1].pop() for _ in range(count)]\n",
    "    supply[idx_b-1].extend(reversed(items))\n",
    "\n",
    "result = [supply[i].pop() for i in range(len(supply))]\n",
    "\"\".join(result)"
   ]
  }
 ],
 "metadata": {
  "kernelspec": {
   "display_name": "Python 3.8.2 64-bit",
   "language": "python",
   "name": "python3"
  },
  "language_info": {
   "codemirror_mode": {
    "name": "ipython",
    "version": 3
   },
   "file_extension": ".py",
   "mimetype": "text/x-python",
   "name": "python",
   "nbconvert_exporter": "python",
   "pygments_lexer": "ipython3",
   "version": "3.8.2"
  },
  "orig_nbformat": 4,
  "vscode": {
   "interpreter": {
    "hash": "31f2aee4e71d21fbe5cf8b01ff0e069b9275f58929596ceb00d14d90e3e16cd6"
   }
  }
 },
 "nbformat": 4,
 "nbformat_minor": 2
}
