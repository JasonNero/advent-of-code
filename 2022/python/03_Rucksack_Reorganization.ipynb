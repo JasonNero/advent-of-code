{
 "cells": [
  {
   "cell_type": "markdown",
   "metadata": {},
   "source": [
    "# Part 1"
   ]
  },
  {
   "cell_type": "code",
   "execution_count": 22,
   "metadata": {},
   "outputs": [],
   "source": [
    "intersections = []\n",
    "for line in open(\"../03.in\"):\n",
    "    line = line.strip()\n",
    "    part_a = line[:len(line)//2]\n",
    "    part_b = line[len(line)//2:]\n",
    "    intersections.append(*(set(part_a) & set(part_b)))\n",
    "\n"
   ]
  },
  {
   "cell_type": "code",
   "execution_count": 23,
   "metadata": {},
   "outputs": [],
   "source": [
    "scores = \"abcdefghijklmnopqrstuvwxyz\"\n",
    "scores += scores.upper()"
   ]
  },
  {
   "cell_type": "code",
   "execution_count": 24,
   "metadata": {},
   "outputs": [
    {
     "data": {
      "text/plain": [
       "7766"
      ]
     },
     "execution_count": 24,
     "metadata": {},
     "output_type": "execute_result"
    }
   ],
   "source": [
    "total_score = sum((scores.index(item)+1 for item in intersections))\n",
    "total_score"
   ]
  },
  {
   "cell_type": "markdown",
   "metadata": {},
   "source": [
    "# Part 2"
   ]
  },
  {
   "cell_type": "code",
   "execution_count": 42,
   "metadata": {},
   "outputs": [
    {
     "name": "stdout",
     "output_type": "stream",
     "text": [
      "2415\n"
     ]
    }
   ],
   "source": [
    "with open(\"../03.in\") as f:\n",
    "    data = f.readlines()\n",
    "\n",
    "total_score = 0\n",
    "for i in range(0, len(data), 3):\n",
    "    group = data[i:i+3]\n",
    "    badge = (set(group[0].strip()) & set(group[1].strip())) & set(group[2].strip())\n",
    "    total_score += scores.index(*badge)+1\n",
    "\n",
    "print(total_score)"
   ]
  }
 ],
 "metadata": {
  "kernelspec": {
   "display_name": "Python 3.10.6 ('base')",
   "language": "python",
   "name": "python3"
  },
  "language_info": {
   "codemirror_mode": {
    "name": "ipython",
    "version": 3
   },
   "file_extension": ".py",
   "mimetype": "text/x-python",
   "name": "python",
   "nbconvert_exporter": "python",
   "pygments_lexer": "ipython3",
   "version": "3.10.6"
  },
  "orig_nbformat": 4,
  "vscode": {
   "interpreter": {
    "hash": "ee0222cc48c36569c6121a73ccfdbcaff1c77d1c53ec537aeda1c905850ccc17"
   }
  }
 },
 "nbformat": 4,
 "nbformat_minor": 2
}
