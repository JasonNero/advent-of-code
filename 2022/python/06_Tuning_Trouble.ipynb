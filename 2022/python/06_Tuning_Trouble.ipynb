{
 "cells": [
  {
   "cell_type": "markdown",
   "metadata": {},
   "source": [
    "# Part 1"
   ]
  },
  {
   "cell_type": "code",
   "execution_count": 9,
   "metadata": {},
   "outputs": [],
   "source": [
    "with open(\"../06.in\") as f:\n",
    "    data = f.readlines()[0]"
   ]
  },
  {
   "cell_type": "code",
   "execution_count": 5,
   "metadata": {},
   "outputs": [
    {
     "data": {
      "text/plain": [
       "('rvnv', 'zvhz')"
      ]
     },
     "execution_count": 5,
     "metadata": {},
     "output_type": "execute_result"
    }
   ],
   "source": [
    "data[:4], data[4:8]"
   ]
  },
  {
   "cell_type": "code",
   "execution_count": 10,
   "metadata": {},
   "outputs": [
    {
     "name": "stdout",
     "output_type": "stream",
     "text": [
      "1343\n"
     ]
    }
   ],
   "source": [
    "last_items = []\n",
    "for i, item in enumerate(data):\n",
    "    if len(last_items) < 4:\n",
    "        last_items.append(item)\n",
    "        continue\n",
    "\n",
    "    if len(set(last_items)) == 4:\n",
    "        print(i)\n",
    "        break\n",
    "    \n",
    "    last_items.append(item)\n",
    "    last_items.pop(0)"
   ]
  },
  {
   "cell_type": "markdown",
   "metadata": {},
   "source": [
    "# Part 2"
   ]
  },
  {
   "cell_type": "code",
   "execution_count": 11,
   "metadata": {},
   "outputs": [
    {
     "name": "stdout",
     "output_type": "stream",
     "text": [
      "2193\n"
     ]
    }
   ],
   "source": [
    "last_items = []\n",
    "for i, item in enumerate(data):\n",
    "    if len(last_items) < 14:\n",
    "        last_items.append(item)\n",
    "        continue\n",
    "\n",
    "    if len(set(last_items)) == 14:\n",
    "        print(i)\n",
    "        break\n",
    "    \n",
    "    last_items.append(item)\n",
    "    last_items.pop(0)"
   ]
  }
 ],
 "metadata": {
  "kernelspec": {
   "display_name": "Python 3.8.2 64-bit",
   "language": "python",
   "name": "python3"
  },
  "language_info": {
   "codemirror_mode": {
    "name": "ipython",
    "version": 3
   },
   "file_extension": ".py",
   "mimetype": "text/x-python",
   "name": "python",
   "nbconvert_exporter": "python",
   "pygments_lexer": "ipython3",
   "version": "3.8.2"
  },
  "orig_nbformat": 4,
  "vscode": {
   "interpreter": {
    "hash": "31f2aee4e71d21fbe5cf8b01ff0e069b9275f58929596ceb00d14d90e3e16cd6"
   }
  }
 },
 "nbformat": 4,
 "nbformat_minor": 2
}
