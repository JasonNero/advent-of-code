{
 "cells": [
  {
   "cell_type": "markdown",
   "metadata": {},
   "source": [
    "# Part 1"
   ]
  },
  {
   "cell_type": "code",
   "execution_count": null,
   "metadata": {},
   "outputs": [],
   "source": [
    "test_data = \"\"\"$ cd /\n",
    "$ ls\n",
    "dir a\n",
    "14848514 b.txt\n",
    "8504156 c.dat\n",
    "dir d\n",
    "$ cd a\n",
    "$ ls\n",
    "dir e\n",
    "29116 f\n",
    "2557 g\n",
    "62596 h.lst\n",
    "$ cd e\n",
    "$ ls\n",
    "584 i\n",
    "$ cd ..\n",
    "$ cd ..\n",
    "$ cd d\n",
    "$ ls\n",
    "4060174 j\n",
    "8033020 d.log\n",
    "5626152 d.ext\n",
    "7214296 k\"\"\".splitlines()\n",
    "test_data = [line.strip() for line in test_data]\n",
    "test_data[:4]"
   ]
  },
  {
   "cell_type": "code",
   "execution_count": null,
   "metadata": {},
   "outputs": [],
   "source": [
    "with open(\"../07.in\") as f:\n",
    "    data = f.readlines()\n",
    "    data = [line.strip() for line in data]\n",
    "data[:4]"
   ]
  },
  {
   "cell_type": "code",
   "execution_count": null,
   "metadata": {},
   "outputs": [],
   "source": [
    "from typing import Any\n",
    "\n",
    "class Directory():\n",
    "    def __init__(self, parent: Any, name: str) -> None:\n",
    "        self.parent = parent\n",
    "        self.name = name\n",
    "        self.subdirs = []\n",
    "        self.files: set[tuple[str, int]] = set()\n",
    "    \n",
    "    def get_size(self) -> int:\n",
    "        file_size = sum((f[1] for f in self.files))\n",
    "        folder_size = sum(d.get_size() for d in self.subdirs)\n",
    "        return file_size + folder_size\n",
    "    \n",
    "    def get_full_name(self):\n",
    "        if self.name == \"/\" or not self.parent:\n",
    "            return self.name\n",
    "        else:\n",
    "            return self.parent.get_full_name() + \"/\" + self.name\n",
    "\n",
    "    def aggrogate_sizes(self):\n",
    "        result = {self.get_full_name(): self.get_size()}\n",
    "        for subdir in self.subdirs:\n",
    "            result.update(subdir.aggrogate_sizes())\n",
    "        return result\n",
    "\n",
    "    def cd(self, target: str):\n",
    "        if target == \"..\":\n",
    "            return self.parent\n",
    "        \n",
    "        for subdir in self.subdirs:\n",
    "            if subdir.name == target:\n",
    "                return subdir\n",
    "        else:\n",
    "            subdir = Directory(self, target)\n",
    "            self.subdirs.append(subdir)\n",
    "            return subdir\n",
    "\n",
    "    def print(self, depth: int=0):\n",
    "        print((depth-1)*\"\\t\", self.name, self.get_size())\n",
    "        for file in self.files:\n",
    "            print(depth*\"\\t\", file[0], file[1])\n",
    "        for dir in self.subdirs:\n",
    "            dir.print(depth+1)"
   ]
  },
  {
   "cell_type": "code",
   "execution_count": null,
   "metadata": {},
   "outputs": [],
   "source": [
    "import re \n",
    "\n",
    "cmd_pattern = re.compile(r\"\\$ (\\w+) ?(\\D*)?\")\n",
    "file_pattern = re.compile(r\"(\\d*) (\\w+(\\.?\\w+)*)\")\n",
    "\n",
    "root = Directory(None, \"invisible root\")\n",
    "\n",
    "current = root\n",
    "for line in data:\n",
    "    match = cmd_pattern.match(line)\n",
    "    if match:\n",
    "        if match.group(1) == \"cd\":\n",
    "            target = match.group(2)\n",
    "            current = current.cd(target)\n",
    "            continue\n",
    "        else:\n",
    "            # ls is the only other command,\n",
    "            # but we dont have to handle it soooo\n",
    "            continue\n",
    "    \n",
    "    match = file_pattern.match(line)\n",
    "    if match: \n",
    "        size = int(match.group(1))\n",
    "        name = match.group(2)\n",
    "        current.files.add((name, size))\n",
    "    else:\n",
    "        # This should be a line starting with \"dir\"\n",
    "        # which we will just ignore.\n",
    "        pass\n",
    "\n",
    "root.print()"
   ]
  },
  {
   "cell_type": "code",
   "execution_count": null,
   "metadata": {},
   "outputs": [],
   "source": [
    "result = root.aggrogate_sizes()\n",
    "filtered = list(filter(lambda x: x <= 100_000, result.values()))\n",
    "sum(filtered)"
   ]
  },
  {
   "attachments": {},
   "cell_type": "markdown",
   "metadata": {},
   "source": [
    "# Part 2\n"
   ]
  },
  {
   "cell_type": "code",
   "execution_count": null,
   "metadata": {},
   "outputs": [],
   "source": [
    "total_disk_size = 70_000_000\n",
    "update_size = 30_000_000\n",
    "used_disk_size = root.get_size()\n",
    "to_free = update_size - (total_disk_size - used_disk_size)\n",
    "print(f\"Need to delete {to_free} from disk\")"
   ]
  },
  {
   "cell_type": "code",
   "execution_count": null,
   "metadata": {},
   "outputs": [],
   "source": [
    "result = root.aggrogate_sizes()\n",
    "filtered = list(filter(lambda x: x >= to_free, result.values()))\n",
    "sorted(filtered)[0]"
   ]
  }
 ],
 "metadata": {
  "kernelspec": {
   "display_name": "Python 3.8.2 64-bit",
   "language": "python",
   "name": "python3"
  },
  "language_info": {
   "codemirror_mode": {
    "name": "ipython",
    "version": 3
   },
   "file_extension": ".py",
   "mimetype": "text/x-python",
   "name": "python",
   "nbconvert_exporter": "python",
   "pygments_lexer": "ipython3",
   "version": "3.8.2"
  },
  "orig_nbformat": 4,
  "vscode": {
   "interpreter": {
    "hash": "31f2aee4e71d21fbe5cf8b01ff0e069b9275f58929596ceb00d14d90e3e16cd6"
   }
  }
 },
 "nbformat": 4,
 "nbformat_minor": 2
}
