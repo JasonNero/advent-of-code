{
 "cells": [
  {
   "cell_type": "markdown",
   "metadata": {},
   "source": [
    "# Part 1"
   ]
  },
  {
   "cell_type": "code",
   "execution_count": 1,
   "metadata": {},
   "outputs": [
    {
     "data": {
      "text/plain": [
       "[[0, 1], [1, 0], [1, 0], [2, 1], [1, 0], [0, 2]]"
      ]
     },
     "execution_count": 1,
     "metadata": {},
     "output_type": "execute_result"
    }
   ],
   "source": [
    "abcxzy = \"ABCXYZ\"\n",
    "\n",
    "data = [\n",
    "    [\n",
    "        # Normalize the choice index of rock, paper, scissors.\n",
    "        abcxzy.index(element) % 3\n",
    "        for element in line.strip().split(\" \")\n",
    "    ]\n",
    "    for line in open(\"../02.in\")\n",
    "]\n",
    "data[:6]"
   ]
  },
  {
   "cell_type": "code",
   "execution_count": 2,
   "metadata": {},
   "outputs": [
    {
     "data": {
      "text/plain": [
       "9651"
      ]
     },
     "execution_count": 2,
     "metadata": {},
     "output_type": "execute_result"
    }
   ],
   "source": [
    "results = map(\n",
    "    # 3 if \"draw\" elif 6 if \"won\" else 0.\n",
    "    lambda x: 3 if x[0] == x[1] else (6 if (x[0] + 1) % 3 == x[1] else 0), \n",
    "    data\n",
    ")\n",
    "\n",
    "result_score = sum(results)\n",
    "choice_score = sum(map(lambda x: x[1]+1, data))\n",
    "\n",
    "result_score + choice_score"
   ]
  },
  {
   "cell_type": "markdown",
   "metadata": {},
   "source": [
    "# Part 2"
   ]
  },
  {
   "cell_type": "code",
   "execution_count": 3,
   "metadata": {},
   "outputs": [
    {
     "data": {
      "text/plain": [
       "[[0, 3], [1, 0], [1, 0], [2, 3], [1, 0], [0, 6]]"
      ]
     },
     "execution_count": 3,
     "metadata": {},
     "output_type": "execute_result"
    }
   ],
   "source": [
    "values = {\n",
    "    \"A\": 0,\n",
    "    \"B\": 1,\n",
    "    \"C\": 2,\n",
    "    \"X\": 0,\n",
    "    \"Y\": 3,\n",
    "    \"Z\": 6\n",
    "}\n",
    "\n",
    "data = [\n",
    "    [\n",
    "        values[element]\n",
    "        for element in line.strip().split(\" \")\n",
    "    ]\n",
    "    for line in open(\"../02.in\")\n",
    "]\n",
    "data[:6]"
   ]
  },
  {
   "cell_type": "code",
   "execution_count": 4,
   "metadata": {},
   "outputs": [
    {
     "data": {
      "text/plain": [
       "10560"
      ]
     },
     "execution_count": 4,
     "metadata": {},
     "output_type": "execute_result"
    }
   ],
   "source": [
    "result_score = sum(map(lambda x: x[1], data))\n",
    "choices = [\n",
    "    x[0] if x[1] == 3 else \n",
    "    ((x[0]+1) % 3 if x[1] == 6 else (x[0]+2) % 3)\n",
    "    for x in data\n",
    "]\n",
    "choice_score = sum(map(lambda x: x+1, choices))\n",
    "\n",
    "result_score + choice_score"
   ]
  }
 ],
 "metadata": {
  "kernelspec": {
   "display_name": "Python 3.10.6 ('base')",
   "language": "python",
   "name": "python3"
  },
  "language_info": {
   "codemirror_mode": {
    "name": "ipython",
    "version": 3
   },
   "file_extension": ".py",
   "mimetype": "text/x-python",
   "name": "python",
   "nbconvert_exporter": "python",
   "pygments_lexer": "ipython3",
   "version": "3.10.6"
  },
  "orig_nbformat": 4,
  "vscode": {
   "interpreter": {
    "hash": "ee0222cc48c36569c6121a73ccfdbcaff1c77d1c53ec537aeda1c905850ccc17"
   }
  }
 },
 "nbformat": 4,
 "nbformat_minor": 2
}
