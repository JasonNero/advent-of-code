{
 "cells": [
  {
   "cell_type": "markdown",
   "metadata": {},
   "source": [
    "# Part 1"
   ]
  },
  {
   "cell_type": "code",
   "execution_count": 13,
   "metadata": {},
   "outputs": [],
   "source": [
    "with open(\"../04.in\") as f:\n",
    "    data = f.readlines()"
   ]
  },
  {
   "cell_type": "code",
   "execution_count": 18,
   "metadata": {},
   "outputs": [
    {
     "name": "stdout",
     "output_type": "stream",
     "text": [
      "3.72 ms ± 1.26 ms per loop (mean ± std. dev. of 7 runs, 100 loops each)\n"
     ]
    }
   ],
   "source": [
    "redundant_count = 0\n",
    "\n",
    "for line in data:\n",
    "    line = line.strip()\n",
    "    range_a, range_b = line.split(\",\")\n",
    "    a_min, a_max = map(int, range_a.split(\"-\"))\n",
    "    b_min, b_max = map(int, range_b.split(\"-\"))\n",
    "    if (a_min <= b_min <= b_max <= a_max \n",
    "            or b_min <= a_min <= a_max <= b_max):\n",
    "        redundant_count += 1\n",
    "        \n",
    "redundant_count"
   ]
  },
  {
   "cell_type": "code",
   "execution_count": 23,
   "metadata": {},
   "outputs": [
    {
     "data": {
      "text/plain": [
       "494"
      ]
     },
     "execution_count": 23,
     "metadata": {},
     "output_type": "execute_result"
    }
   ],
   "source": [
    "redundant_count"
   ]
  },
  {
   "cell_type": "markdown",
   "metadata": {},
   "source": [
    "# Part 2"
   ]
  },
  {
   "cell_type": "code",
   "execution_count": 17,
   "metadata": {},
   "outputs": [
    {
     "name": "stdout",
     "output_type": "stream",
     "text": [
      "6.98 ms ± 179 µs per loop (mean ± std. dev. of 7 runs, 100 loops each)\n"
     ]
    }
   ],
   "source": [
    "%%timeit\n",
    "overlap_count = 0\n",
    "\n",
    "for line in data:\n",
    "    line = line.strip()\n",
    "    range_a, range_b = line.split(\",\")\n",
    "    a_min, a_max = map(int, range_a.split(\"-\"))\n",
    "    b_min, b_max = map(int, range_b.split(\"-\"))\n",
    "    if set(range(a_min, a_max+1)) & set(range(b_min, b_max+1)):\n",
    "        overlap_count += 1\n",
    "\n",
    "overlap_count"
   ]
  },
  {
   "cell_type": "markdown",
   "metadata": {},
   "source": [
    "ever so slightly optimized:"
   ]
  },
  {
   "cell_type": "code",
   "execution_count": 22,
   "metadata": {},
   "outputs": [
    {
     "name": "stdout",
     "output_type": "stream",
     "text": [
      "5.77 ms ± 995 µs per loop (mean ± std. dev. of 7 runs, 100 loops each)\n"
     ]
    }
   ],
   "source": [
    "%%timeit\n",
    "overlap_count = 0\n",
    "\n",
    "for line in data:\n",
    "    line = line.strip()\n",
    "    range_a, range_b = line.split(\",\")\n",
    "    a_min, a_max = map(int, range_a.split(\"-\"))\n",
    "    b_min, b_max = map(int, range_b.split(\"-\"))\n",
    "    if any((b_min <= a <= b_max for a in range(a_min, a_max+1))):\n",
    "        overlap_count += 1\n",
    "\n",
    "overlap_count"
   ]
  },
  {
   "cell_type": "code",
   "execution_count": 24,
   "metadata": {},
   "outputs": [
    {
     "data": {
      "text/plain": [
       "833"
      ]
     },
     "execution_count": 24,
     "metadata": {},
     "output_type": "execute_result"
    }
   ],
   "source": [
    "overlap_count"
   ]
  }
 ],
 "metadata": {
  "kernelspec": {
   "display_name": "Python 3.8.2 64-bit",
   "language": "python",
   "name": "python3"
  },
  "language_info": {
   "codemirror_mode": {
    "name": "ipython",
    "version": 3
   },
   "file_extension": ".py",
   "mimetype": "text/x-python",
   "name": "python",
   "nbconvert_exporter": "python",
   "pygments_lexer": "ipython3",
   "version": "3.8.2"
  },
  "orig_nbformat": 4,
  "vscode": {
   "interpreter": {
    "hash": "31f2aee4e71d21fbe5cf8b01ff0e069b9275f58929596ceb00d14d90e3e16cd6"
   }
  }
 },
 "nbformat": 4,
 "nbformat_minor": 2
}
