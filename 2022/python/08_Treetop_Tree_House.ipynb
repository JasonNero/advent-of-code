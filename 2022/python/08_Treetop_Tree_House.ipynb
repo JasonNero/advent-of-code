{
 "cells": [
  {
   "cell_type": "code",
   "execution_count": 30,
   "metadata": {},
   "outputs": [],
   "source": [
    "import numpy as np"
   ]
  },
  {
   "cell_type": "code",
   "execution_count": 31,
   "metadata": {},
   "outputs": [
    {
     "data": {
      "text/plain": [
       "[[3, 0, 3, 7, 3],\n",
       " [2, 5, 5, 1, 2],\n",
       " [6, 5, 3, 3, 2],\n",
       " [3, 3, 5, 4, 9],\n",
       " [3, 5, 3, 9, 0]]"
      ]
     },
     "execution_count": 31,
     "metadata": {},
     "output_type": "execute_result"
    }
   ],
   "source": [
    "test_data = \"\"\"30373\n",
    "25512\n",
    "65332\n",
    "33549\n",
    "35390\n",
    "\"\"\"\n",
    "\n",
    "data = [\n",
    "    [int(i) for i in line]\n",
    "    for line in test_data.splitlines()\n",
    "]\n",
    "data"
   ]
  },
  {
   "cell_type": "code",
   "execution_count": 32,
   "metadata": {},
   "outputs": [],
   "source": [
    "with open(\"../08.in\") as f:\n",
    "    data = [\n",
    "        [int(i) for i in line.strip()]\n",
    "        for line in f.readlines()\n",
    "    ]"
   ]
  },
  {
   "cell_type": "code",
   "execution_count": 33,
   "metadata": {},
   "outputs": [
    {
     "name": "stdout",
     "output_type": "stream",
     "text": [
      "1695 287040\n"
     ]
    }
   ],
   "source": [
    "import numpy as np\n",
    "\n",
    "grid = np.array(data, int)\n",
    "part1 = np.zeros_like(grid)\n",
    "part2 = np.ones_like(grid)\n",
    "\n",
    "# Repeat 4 times, each time rotating the whole grid by 90 degrees.\n",
    "for _ in range(4):\n",
    "    # ndindex yields all x,y coordinates for the given shape.\n",
    "    for x, y in np.ndindex(grid.shape):\n",
    "        # Boolean array where trees smaller than the current reference are True.\n",
    "        # Only considering y+ direction.\n",
    "        lower = [tree < grid[x, y] for tree in grid[x, y+1:]]\n",
    "        # Logical and for each direction.\n",
    "        part1[x, y] |= all(lower)\n",
    "        # Yields the index(+1) of the next blocking tree (equally high or larger).\n",
    "        viewing_distance = next(\n",
    "            (i for i, t in enumerate(lower, start=1) if not t),\n",
    "            len(lower)  # default value in case the generator is exhausted (max distance).\n",
    "        )\n",
    "        # Multiply the viewing distance for each direction.\n",
    "        part2[x, y] *= viewing_distance\n",
    "\n",
    "    grid = np.rot90(grid)\n",
    "    part1 = np.rot90(part1)\n",
    "    part2 = np.rot90(part2)\n",
    "\n",
    "print(part1.sum(), part2.max())"
   ]
  }
 ],
 "metadata": {
  "kernelspec": {
   "display_name": "base",
   "language": "python",
   "name": "python3"
  },
  "language_info": {
   "codemirror_mode": {
    "name": "ipython",
    "version": 3
   },
   "file_extension": ".py",
   "mimetype": "text/x-python",
   "name": "python",
   "nbconvert_exporter": "python",
   "pygments_lexer": "ipython3",
   "version": "3.10.6"
  },
  "orig_nbformat": 4,
  "vscode": {
   "interpreter": {
    "hash": "ee0222cc48c36569c6121a73ccfdbcaff1c77d1c53ec537aeda1c905850ccc17"
   }
  }
 },
 "nbformat": 4,
 "nbformat_minor": 2
}
