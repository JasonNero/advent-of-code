{
 "cells": [
  {
   "cell_type": "code",
   "execution_count": 23,
   "metadata": {},
   "outputs": [],
   "source": [
    "import numpy as np\n",
    "from pathlib import Path\n"
   ]
  },
  {
   "cell_type": "code",
   "execution_count": 2,
   "metadata": {},
   "outputs": [],
   "source": [
    "with Path(\"../06.in\").open() as file:\n",
    "    data = file.read().splitlines()\n"
   ]
  },
  {
   "cell_type": "code",
   "execution_count": 56,
   "metadata": {},
   "outputs": [],
   "source": [
    "testdata = \"\"\"\\\n",
    "Time:      7  15   30\n",
    "Distance:  9  40  200\n",
    "\"\"\".splitlines()\n"
   ]
  },
  {
   "cell_type": "markdown",
   "metadata": {},
   "source": [
    "# Part I - Three Short Races"
   ]
  },
  {
   "cell_type": "code",
   "execution_count": 80,
   "metadata": {},
   "outputs": [],
   "source": [
    "times = np.array([int(x) for x in data[0].split()[1:]])\n",
    "records  = np.array([int(x) for x in data[1].split()[1:]])\n"
   ]
  },
  {
   "cell_type": "code",
   "execution_count": 81,
   "metadata": {},
   "outputs": [
    {
     "name": "stdout",
     "output_type": "stream",
     "text": [
      "Race 41 ms - record 244 mm\n",
      "26 winning combinations\n",
      "Race 66 ms - record 1047 mm\n",
      "13 winning combinations\n",
      "Race 72 ms - record 1228 mm\n",
      "17 winning combinations\n",
      "Race 66 ms - record 1040 mm\n",
      "13 winning combinations\n",
      "Total score: 74698\n"
     ]
    }
   ],
   "source": [
    "# 0.0s\n",
    "\n",
    "total_winning_combinations = []\n",
    "for time, record in zip(times, records):\n",
    "    print(f\"Race {time:>2} ms - record {record:>3} mm\")\n",
    "    combinations = np.array(list(zip(range(0, time+1), range(time, -1, -1))))\n",
    "    num_winning = np.sum(np.prod(combinations, axis=1) > record)\n",
    "    total_winning_combinations.append(num_winning)\n",
    "    print(f\"{num_winning} winning combinations\")\n",
    "\n",
    "score = np.prod(total_winning_combinations)\n",
    "print(f\"Total score: {score}\")\n"
   ]
  },
  {
   "cell_type": "markdown",
   "metadata": {},
   "source": [
    "# Part II - One Big Race"
   ]
  },
  {
   "cell_type": "code",
   "execution_count": 91,
   "metadata": {},
   "outputs": [
    {
     "data": {
      "text/plain": [
       "(41667266, 244104712281040)"
      ]
     },
     "execution_count": 91,
     "metadata": {},
     "output_type": "execute_result"
    }
   ],
   "source": [
    "time = int(\"\".join(data[0].split()[1:]))\n",
    "record = int(\"\".join(data[1].split()[1:]))\n",
    "time, record\n"
   ]
  },
  {
   "cell_type": "code",
   "execution_count": 60,
   "metadata": {},
   "outputs": [
    {
     "name": "stdout",
     "output_type": "stream",
     "text": [
      "Race 41667266 ms - record 244104712281040 mm\n",
      "27563421 winning combinations\n"
     ]
    }
   ],
   "source": [
    "# 14.0s\n",
    "\n",
    "print(f\"Race {time:>2} ms - record {record:>3} mm\")\n",
    "combinations = np.array(list(zip(range(0, time+1), reversed(range(0, time+1)))))\n",
    "num_winning = np.sum(np.prod(combinations, axis=1) > record)\n",
    "total_winning_combinations.append(num_winning)\n",
    "print(f\"{num_winning} winning combinations\")\n"
   ]
  },
  {
   "cell_type": "code",
   "execution_count": 93,
   "metadata": {},
   "outputs": [
    {
     "name": "stdout",
     "output_type": "stream",
     "text": [
      "Race 41667266 ms - record 244104712281040 mm\n",
      "27563421 winning combinations\n"
     ]
    }
   ],
   "source": [
    "# 9.1s - using symmetry of the combinations\n",
    "\n",
    "print(f\"Race {time:>2} ms - record {record:>3} mm\")\n",
    "a = range(0, ((time+1)//2)+1)\n",
    "b = range(time, ((time+1)//2)-1, -1)\n",
    "combinations = np.array(list(zip(a, b)))\n",
    "num_winning = np.sum(np.prod(combinations, axis=1) > record)\n",
    "if time % 2 == 1:\n",
    "    num_winning *= 2\n",
    "else:\n",
    "    num_winning = num_winning * 2 - 1\n",
    "print(f\"{num_winning} winning combinations\")\n"
   ]
  }
 ],
 "metadata": {
  "kernelspec": {
   "display_name": "mlbook",
   "language": "python",
   "name": "python3"
  },
  "language_info": {
   "codemirror_mode": {
    "name": "ipython",
    "version": 3
   },
   "file_extension": ".py",
   "mimetype": "text/x-python",
   "name": "python",
   "nbconvert_exporter": "python",
   "pygments_lexer": "ipython3",
   "version": "3.9.13"
  }
 },
 "nbformat": 4,
 "nbformat_minor": 2
}
