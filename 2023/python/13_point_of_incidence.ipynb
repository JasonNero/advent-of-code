{
 "cells": [
  {
   "cell_type": "code",
   "execution_count": 1,
   "metadata": {},
   "outputs": [],
   "source": [
    "import numpy as np\n",
    "from pathlib import Path\n",
    "import matplotlib.pyplot as plt\n"
   ]
  },
  {
   "cell_type": "code",
   "execution_count": 59,
   "metadata": {},
   "outputs": [],
   "source": [
    "with Path(\"../13.in\").open() as f:\n",
    "    data = f.read().split(\"\\n\\n\")\n",
    "    data = [d.split(\"\\n\") for d in data]\n"
   ]
  },
  {
   "cell_type": "code",
   "execution_count": 64,
   "metadata": {},
   "outputs": [
    {
     "data": {
      "text/plain": [
       "[['#.##..##.',\n",
       "  '..#.##.#.',\n",
       "  '##......#',\n",
       "  '##......#',\n",
       "  '..#.##.#.',\n",
       "  '..##..##.',\n",
       "  '#.#.##.#.'],\n",
       " ['#...##..#',\n",
       "  '#....#..#',\n",
       "  '..##..###',\n",
       "  '#####.##.',\n",
       "  '#####.##.',\n",
       "  '..##..###',\n",
       "  '#....#..#']]"
      ]
     },
     "execution_count": 64,
     "metadata": {},
     "output_type": "execute_result"
    }
   ],
   "source": [
    "# \".\" = ash\n",
    "# \"#\" = rocks\n",
    "\n",
    "testdata = \"\"\"\\\n",
    "#.##..##.\n",
    "..#.##.#.\n",
    "##......#\n",
    "##......#\n",
    "..#.##.#.\n",
    "..##..##.\n",
    "#.#.##.#.\n",
    "\n",
    "#...##..#\n",
    "#....#..#\n",
    "..##..###\n",
    "#####.##.\n",
    "#####.##.\n",
    "..##..###\n",
    "#....#..#\"\"\".split(\"\\n\\n\")\n",
    "testdata = [d.split(\"\\n\") for d in testdata]\n",
    "testdata"
   ]
  },
  {
   "cell_type": "markdown",
   "metadata": {},
   "source": [
    "## Part I - Find the reflection axis"
   ]
  },
  {
   "cell_type": "code",
   "execution_count": 137,
   "metadata": {},
   "outputs": [
    {
     "data": {
      "text/plain": [
       "array([[0, 0, 1, 1, 0],\n",
       "       [0, 0, 1, 1, 0],\n",
       "       [0, 0, 1, 1, 0],\n",
       "       [0, 0, 1, 1, 0],\n",
       "       [1, 1, 1, 1, 1],\n",
       "       [1, 1, 1, 1, 1]])"
      ]
     },
     "execution_count": 137,
     "metadata": {},
     "output_type": "execute_result"
    }
   ],
   "source": [
    "np.array([\n",
    "    [0, 0, 0, 0, 1, 1],\n",
    "    [0, 0, 0, 0, 1, 1],\n",
    "    [1, 1, 1, 1, 1, 1],\n",
    "    [1, 1, 1, 1, 1, 1],\n",
    "    [0, 0, 0, 0, 1, 1]\n",
    "]).T"
   ]
  },
  {
   "cell_type": "code",
   "execution_count": 170,
   "metadata": {},
   "outputs": [],
   "source": [
    "def axis_to_points(axis, val):\n",
    "    if axis == \"y\":\n",
    "        cols_left_of_line = val + 1\n",
    "        return cols_left_of_line * 100\n",
    "    elif axis == \"x\":\n",
    "        rows_above_line = val + 1\n",
    "        return rows_above_line\n",
    "\n",
    "\n",
    "def find_mirror_axis(pattern):\n",
    "    pattern = np.array([list(row) for row in pattern if row])\n",
    "    # print(pattern)\n",
    "\n",
    "    for pat, axis in zip([pattern, pattern.T], [\"y\", \"x\"]):\n",
    "        for pos in range(0, pat.shape[0]-1):\n",
    "            matches = pat[pos, :] == pat[pos+1, :]\n",
    "\n",
    "            if not all(matches):\n",
    "                continue\n",
    "\n",
    "            # print(f\"Possible match between {axis}={pos} and {axis}={pos+1}\")\n",
    "            pos_a, pos_b = pos-1, pos+2\n",
    "            while pos_a >= 0 and pos_b < pat.shape[0]:\n",
    "                # print(f\"Checking {axis} {pos_a}<->{pos_b}\")\n",
    "                matches = pat[pos_a, :] == pat[pos_b, :]\n",
    "                if not all(matches):\n",
    "                    # print(f\"Match broken at {pos_a}<->{pos_b} -> {matches}\")\n",
    "                    break\n",
    "                pos_a -= 1\n",
    "                pos_b += 1\n",
    "            else:\n",
    "                # All possible reflections checked\n",
    "                return axis, pos\n",
    "\n",
    "    print(\"No match found! -> 0 pts\")\n",
    "    return 0\n",
    "\n",
    "\n",
    "def solve1(data):\n",
    "    points = 0\n",
    "    for pattern in data:\n",
    "        axis, pos = find_mirror_axis(pattern)\n",
    "        score = axis_to_points(axis, pos)\n",
    "        # print(f\"Match found between {axis}={pos} and {axis}={pos+1} -> {score} pts\")  # 1-indexed\n",
    "        points += score\n",
    "    return points\n",
    "\n",
    "assert (a := solve1(testdata)) == 405, a"
   ]
  },
  {
   "cell_type": "code",
   "execution_count": 171,
   "metadata": {},
   "outputs": [
    {
     "data": {
      "text/plain": [
       "35232"
      ]
     },
     "execution_count": 171,
     "metadata": {},
     "output_type": "execute_result"
    }
   ],
   "source": [
    "solve1(data)"
   ]
  },
  {
   "cell_type": "markdown",
   "metadata": {},
   "source": [
    "## Part II - Smudged mirror\n",
    "\n",
    "- every mirror has **exactly one smudge**.\n",
    "\n",
    "- Locate and fix the smudge that causes a **different reflection line** to be valid."
   ]
  },
  {
   "cell_type": "code",
   "execution_count": 177,
   "metadata": {},
   "outputs": [
    {
     "name": "stdout",
     "output_type": "stream",
     "text": [
      "Match found between y=2 and y=3 -> 300 pts\n",
      "Match found between y=0 and y=1 -> 100 pts\n"
     ]
    }
   ],
   "source": [
    "def find_off_by_ones(pattern):\n",
    "    candidates = []\n",
    "\n",
    "    for pat, axis in zip([pattern, pattern.T], [\"y\", \"x\"]):\n",
    "        for pos in range(0, pat.shape[0]-1):\n",
    "            matches = pat[pos, :] == pat[pos+1, :]\n",
    "\n",
    "            if np.count_nonzero(~matches) == 1:\n",
    "                for offset in [0, 1]:\n",
    "                    if axis == \"y\":\n",
    "                        y = pos + offset\n",
    "                        x = np.where(~matches)[0][0]\n",
    "                    else:\n",
    "                        x = pos + offset\n",
    "                        y = np.where(~matches)[0][0]\n",
    "                    candidates.append((y, x))\n",
    "\n",
    "            if not all(matches):\n",
    "                continue\n",
    "\n",
    "            # print(f\"Possible match between {axis}={pos} and {axis}={pos+1}\")\n",
    "            pos_a, pos_b = pos-1, pos+2\n",
    "            while pos_a >= 0 and pos_b < pat.shape[0]:\n",
    "                # print(f\"Checking {axis} {pos_a}<->{pos_b}\")\n",
    "                matches = pat[pos_a, :] == pat[pos_b, :]\n",
    "\n",
    "                if np.count_nonzero(~matches) == 1:\n",
    "                    for p in [pos_a, pos_b]:\n",
    "                        if axis == \"y\":\n",
    "                            y = p\n",
    "                            x = np.where(~matches)[0][0]\n",
    "                        else:\n",
    "                            x = p\n",
    "                            y = np.where(~matches)[0][0]\n",
    "                        candidates.append((y, x))\n",
    "\n",
    "                if not all(matches):\n",
    "                    # print(f\"Match broken at {pos_a}<->{pos_b} -> {matches}\")\n",
    "                    break\n",
    "                pos_a -= 1\n",
    "                pos_b += 1\n",
    "\n",
    "    return candidates\n",
    "\n",
    "\n",
    "def find_smudged_mirror_axis(base_pattern):\n",
    "    previous_solution = find_mirror_axis(base_pattern)\n",
    "\n",
    "    base_pattern = np.array([list(row) for row in base_pattern if row])\n",
    "\n",
    "    flip = {\"#\": \".\", \".\": \"#\"}\n",
    "\n",
    "    candidates = find_off_by_ones(base_pattern)\n",
    "    # print(candidates)\n",
    "\n",
    "    for cand in candidates:\n",
    "        pattern = base_pattern.copy()\n",
    "        pattern[cand] = flip[pattern[cand]]\n",
    "\n",
    "        for pat, axis in zip([pattern, pattern.T], [\"y\", \"x\"]):\n",
    "            for pos in range(0, pat.shape[0]-1):\n",
    "                matches = pat[pos, :] == pat[pos+1, :]\n",
    "\n",
    "                if not all(matches):\n",
    "                    continue\n",
    "\n",
    "                # print(f\"Possible match between {axis}={pos} and {axis}={pos+1}\")\n",
    "                pos_a, pos_b = pos-1, pos+2\n",
    "                while pos_a >= 0 and pos_b < pat.shape[0]:\n",
    "                    # print(f\"Checking {axis} {pos_a}<->{pos_b}\")\n",
    "                    matches = pat[pos_a, :] == pat[pos_b, :]\n",
    "                    if not all(matches):\n",
    "                        # print(f\"Match broken at {pos_a}<->{pos_b} -> {matches}\")\n",
    "                        break\n",
    "                    pos_a -= 1\n",
    "                    pos_b += 1\n",
    "                else:\n",
    "                    # All possible reflections checked\n",
    "                    if (axis, pos) != previous_solution:\n",
    "                        # This solution is new\n",
    "                        return axis, pos\n",
    "\n",
    "    print(\"No match found! -> 0 pts\")\n",
    "    return 0\n",
    "\n",
    "\n",
    "def solve2(data):\n",
    "    points = 0\n",
    "    for pattern in data:\n",
    "\n",
    "        axis, pos = find_smudged_mirror_axis(pattern)\n",
    "        score = axis_to_points(axis, pos)\n",
    "        print(f\"Match found between {axis}={pos} and {axis}={pos+1} -> {score} pts\")  # 1-indexed\n",
    "        points += score\n",
    "    return points\n",
    "\n",
    "assert (a := solve2(testdata)) == 400, a"
   ]
  },
  {
   "cell_type": "code",
   "execution_count": 178,
   "metadata": {},
   "outputs": [
    {
     "name": "stdout",
     "output_type": "stream",
     "text": [
      "Match found between y=10 and y=11 -> 1100 pts\n",
      "Match found between y=2 and y=3 -> 300 pts\n",
      "Match found between y=1 and y=2 -> 200 pts\n",
      "Match found between y=9 and y=10 -> 1000 pts\n",
      "Match found between y=1 and y=2 -> 200 pts\n",
      "Match found between y=11 and y=12 -> 1200 pts\n",
      "Match found between x=0 and x=1 -> 1 pts\n",
      "Match found between y=5 and y=6 -> 600 pts\n",
      "Match found between y=9 and y=10 -> 1000 pts\n",
      "Match found between y=2 and y=3 -> 300 pts\n",
      "Match found between y=0 and y=1 -> 100 pts\n",
      "Match found between y=2 and y=3 -> 300 pts\n",
      "Match found between x=10 and x=11 -> 11 pts\n",
      "Match found between y=4 and y=5 -> 500 pts\n",
      "Match found between y=3 and y=4 -> 400 pts\n",
      "Match found between x=4 and x=5 -> 5 pts\n",
      "Match found between x=13 and x=14 -> 14 pts\n",
      "Match found between x=10 and x=11 -> 11 pts\n",
      "Match found between x=0 and x=1 -> 1 pts\n",
      "Match found between x=6 and x=7 -> 7 pts\n",
      "Match found between y=12 and y=13 -> 1300 pts\n",
      "Match found between y=6 and y=7 -> 700 pts\n",
      "Match found between y=3 and y=4 -> 400 pts\n",
      "Match found between y=7 and y=8 -> 800 pts\n",
      "Match found between x=8 and x=9 -> 9 pts\n",
      "Match found between x=0 and x=1 -> 1 pts\n",
      "Match found between x=3 and x=4 -> 4 pts\n",
      "Match found between y=9 and y=10 -> 1000 pts\n",
      "Match found between x=6 and x=7 -> 7 pts\n",
      "Match found between x=12 and x=13 -> 13 pts\n",
      "Match found between x=6 and x=7 -> 7 pts\n",
      "Match found between y=5 and y=6 -> 600 pts\n",
      "Match found between y=5 and y=6 -> 600 pts\n",
      "Match found between y=0 and y=1 -> 100 pts\n",
      "Match found between x=6 and x=7 -> 7 pts\n",
      "Match found between y=0 and y=1 -> 100 pts\n",
      "Match found between y=1 and y=2 -> 200 pts\n",
      "Match found between y=6 and y=7 -> 700 pts\n",
      "Match found between y=2 and y=3 -> 300 pts\n",
      "Match found between x=0 and x=1 -> 1 pts\n",
      "Match found between y=0 and y=1 -> 100 pts\n",
      "Match found between x=12 and x=13 -> 13 pts\n",
      "Match found between x=9 and x=10 -> 10 pts\n",
      "Match found between y=1 and y=2 -> 200 pts\n",
      "Match found between x=15 and x=16 -> 16 pts\n",
      "Match found between x=5 and x=6 -> 6 pts\n",
      "Match found between x=4 and x=5 -> 5 pts\n",
      "Match found between y=3 and y=4 -> 400 pts\n",
      "Match found between y=1 and y=2 -> 200 pts\n",
      "Match found between y=3 and y=4 -> 400 pts\n",
      "Match found between x=0 and x=1 -> 1 pts\n",
      "Match found between x=6 and x=7 -> 7 pts\n",
      "Match found between x=7 and x=8 -> 8 pts\n",
      "Match found between y=2 and y=3 -> 300 pts\n",
      "Match found between y=13 and y=14 -> 1400 pts\n",
      "Match found between y=4 and y=5 -> 500 pts\n",
      "Match found between y=5 and y=6 -> 600 pts\n",
      "Match found between y=0 and y=1 -> 100 pts\n",
      "Match found between y=6 and y=7 -> 700 pts\n",
      "Match found between x=9 and x=10 -> 10 pts\n",
      "Match found between y=9 and y=10 -> 1000 pts\n",
      "Match found between y=11 and y=12 -> 1200 pts\n",
      "Match found between y=6 and y=7 -> 700 pts\n",
      "Match found between x=12 and x=13 -> 13 pts\n",
      "Match found between x=3 and x=4 -> 4 pts\n",
      "Match found between y=11 and y=12 -> 1200 pts\n",
      "Match found between x=8 and x=9 -> 9 pts\n",
      "Match found between y=3 and y=4 -> 400 pts\n",
      "Match found between x=1 and x=2 -> 2 pts\n",
      "Match found between x=1 and x=2 -> 2 pts\n",
      "Match found between y=0 and y=1 -> 100 pts\n",
      "Match found between y=3 and y=4 -> 400 pts\n",
      "Match found between x=3 and x=4 -> 4 pts\n",
      "Match found between y=10 and y=11 -> 1100 pts\n",
      "Match found between x=5 and x=6 -> 6 pts\n",
      "Match found between y=6 and y=7 -> 700 pts\n",
      "Match found between y=7 and y=8 -> 800 pts\n",
      "Match found between y=4 and y=5 -> 500 pts\n",
      "Match found between y=14 and y=15 -> 1500 pts\n",
      "Match found between y=10 and y=11 -> 1100 pts\n",
      "Match found between y=2 and y=3 -> 300 pts\n",
      "Match found between y=2 and y=3 -> 300 pts\n",
      "Match found between y=11 and y=12 -> 1200 pts\n",
      "Match found between x=7 and x=8 -> 8 pts\n",
      "Match found between y=8 and y=9 -> 900 pts\n",
      "Match found between x=3 and x=4 -> 4 pts\n",
      "Match found between x=13 and x=14 -> 14 pts\n",
      "Match found between x=10 and x=11 -> 11 pts\n",
      "Match found between x=9 and x=10 -> 10 pts\n",
      "Match found between x=1 and x=2 -> 2 pts\n",
      "Match found between y=13 and y=14 -> 1400 pts\n",
      "Match found between y=4 and y=5 -> 500 pts\n",
      "Match found between y=15 and y=16 -> 1600 pts\n",
      "Match found between x=3 and x=4 -> 4 pts\n",
      "Match found between x=4 and x=5 -> 5 pts\n",
      "Match found between y=3 and y=4 -> 400 pts\n",
      "Match found between y=13 and y=14 -> 1400 pts\n",
      "Match found between x=5 and x=6 -> 6 pts\n",
      "Match found between y=0 and y=1 -> 100 pts\n",
      "Match found between x=2 and x=3 -> 3 pts\n"
     ]
    },
    {
     "data": {
      "text/plain": [
       "37982"
      ]
     },
     "execution_count": 178,
     "metadata": {},
     "output_type": "execute_result"
    }
   ],
   "source": [
    "solve2(data)"
   ]
  }
 ],
 "metadata": {
  "kernelspec": {
   "display_name": "mlbook",
   "language": "python",
   "name": "python3"
  },
  "language_info": {
   "codemirror_mode": {
    "name": "ipython",
    "version": 3
   },
   "file_extension": ".py",
   "mimetype": "text/x-python",
   "name": "python",
   "nbconvert_exporter": "python",
   "pygments_lexer": "ipython3",
   "version": "3.9.13"
  }
 },
 "nbformat": 4,
 "nbformat_minor": 2
}
