{
 "cells": [
  {
   "cell_type": "code",
   "execution_count": 2,
   "metadata": {},
   "outputs": [],
   "source": [
    "import numpy as np\n",
    "from pathlib import Path\n",
    "import re\n",
    "import itertools\n"
   ]
  },
  {
   "cell_type": "code",
   "execution_count": 3,
   "metadata": {},
   "outputs": [],
   "source": [
    "with Path(\"../05.in\").open() as f:\n",
    "    data = f.read().splitlines()\n"
   ]
  },
  {
   "cell_type": "code",
   "execution_count": 4,
   "metadata": {},
   "outputs": [],
   "source": [
    "testdata = \"\"\"\\\n",
    "seeds: 79 14 55 13\n",
    "\n",
    "seed-to-soil map:\n",
    "50 98 2\n",
    "52 50 48\n",
    "\n",
    "soil-to-fertilizer map:\n",
    "0 15 37\n",
    "37 52 2\n",
    "39 0 15\n",
    "\n",
    "fertilizer-to-water map:\n",
    "49 53 8\n",
    "0 11 42\n",
    "42 0 7\n",
    "57 7 4\n",
    "\n",
    "water-to-light map:\n",
    "88 18 7\n",
    "18 25 70\n",
    "\n",
    "light-to-temperature map:\n",
    "45 77 23\n",
    "81 45 19\n",
    "68 64 13\n",
    "\n",
    "temperature-to-humidity map:\n",
    "0 69 1\n",
    "1 0 69\n",
    "\n",
    "humidity-to-location map:\n",
    "60 56 37\n",
    "56 93 4\n",
    "\"\"\".splitlines()\n"
   ]
  },
  {
   "cell_type": "code",
   "execution_count": 5,
   "metadata": {},
   "outputs": [
    {
     "data": {
      "text/plain": [
       "True"
      ]
     },
     "execution_count": 5,
     "metadata": {},
     "output_type": "execute_result"
    }
   ],
   "source": [
    "class RangeDict(dict):\n",
    "    \"\"\"A dictionary that returns the value of the closest smaller key if the key is missing.\"\"\"\n",
    "\n",
    "    def __getitem__(self, key):\n",
    "        if key in self:\n",
    "            source, dest, range = key, *super().__getitem__(key)\n",
    "        else:\n",
    "            source, dest, range = self.__missing__(key)\n",
    "\n",
    "        if source + range < key:\n",
    "            # If the key is not in the range, it is a 1:1 mapping\n",
    "            return key\n",
    "        else:\n",
    "            diff = key - source\n",
    "            return dest + diff\n",
    "\n",
    "    def __missing__(self, key):\n",
    "        # Get the closest smaller key instead\n",
    "        difference = sorted([key - k for k in self.keys() if key-k >= 0])\n",
    "        if len(difference) == 0:\n",
    "            # Needed in case the key is smaller than the smallest key\n",
    "            return (key, key, 1)\n",
    "        new_key = key - difference[0]\n",
    "        return new_key, *super().__getitem__(new_key)\n",
    "\n",
    "\n",
    "# initialize with {source: (dest, range)}\n",
    "# infer with any source key\n",
    "# returns 1:1 mapping if key is not in range\n",
    "# otherwise returns the result of the mapping\n",
    "RangeDict({98: (50, 2), 50: (52, 48)})[79] == 81\n"
   ]
  },
  {
   "cell_type": "markdown",
   "metadata": {},
   "source": [
    "### Mapping Definition\n",
    "\n",
    "\n",
    "| Destination | Source | Length/Range |\n",
    "| ----------- | ------ | ------------ |\n",
    "| 50          | 98     | 2            |\n",
    "| 52          | 50     | 48           |\n",
    "\n",
    "**Any source numbers that aren't mapped correspond to the same destination number.**\n"
   ]
  },
  {
   "cell_type": "code",
   "execution_count": 6,
   "metadata": {},
   "outputs": [],
   "source": [
    "seeds: list = []\n",
    "\n",
    "seed_to_soil:               dict[int, tuple[int, int]] = RangeDict()\n",
    "soil_to_fertilizer:         dict[int, tuple[int, int]] = RangeDict()\n",
    "fertilizer_to_water:        dict[int, tuple[int, int]] = RangeDict()\n",
    "water_to_light:             dict[int, tuple[int, int]] = RangeDict()\n",
    "light_to_temperature:       dict[int, tuple[int, int]] = RangeDict()\n",
    "temperature_to_humidity:    dict[int, tuple[int, int]] = RangeDict()\n",
    "humidity_to_location:       dict[int, tuple[int, int]] = RangeDict()\n"
   ]
  },
  {
   "cell_type": "code",
   "execution_count": 7,
   "metadata": {},
   "outputs": [],
   "source": [
    "section_map = {\n",
    "    \"seed-to-soil map\": seed_to_soil,\n",
    "    \"soil-to-fertilizer map\": soil_to_fertilizer,\n",
    "    \"fertilizer-to-water map\": fertilizer_to_water,\n",
    "    \"water-to-light map\": water_to_light,\n",
    "    \"light-to-temperature map\": light_to_temperature,\n",
    "    \"temperature-to-humidity map\": temperature_to_humidity,\n",
    "    \"humidity-to-location map\": humidity_to_location,\n",
    "}\n"
   ]
  },
  {
   "cell_type": "code",
   "execution_count": 8,
   "metadata": {},
   "outputs": [],
   "source": [
    "seeds = [int(x) for x in re.findall(r\"\\d+\", data[0])]\n"
   ]
  },
  {
   "cell_type": "code",
   "execution_count": 9,
   "metadata": {},
   "outputs": [],
   "source": [
    "current_section = None\n",
    "for line in data[1:]:\n",
    "    if \":\" in line:\n",
    "        current_section = section_map[line.split(\":\")[0]]\n",
    "        continue\n",
    "    if len(line) == 0:\n",
    "        continue\n",
    "\n",
    "    dest, source, length = [int(x) for x in line.split()]\n",
    "    current_section[source] = tuple([dest, length])\n"
   ]
  },
  {
   "cell_type": "code",
   "execution_count": 10,
   "metadata": {},
   "outputs": [],
   "source": [
    "def seeds_to_locations(seeds: list) -> list:\n",
    "    locations = []\n",
    "\n",
    "    for seed in seeds:\n",
    "        soil = seed_to_soil[seed]\n",
    "        fertilizer = soil_to_fertilizer[soil]\n",
    "        water = fertilizer_to_water[fertilizer]\n",
    "        light = water_to_light[water]\n",
    "        temperature = light_to_temperature[light]\n",
    "        humidity = temperature_to_humidity[temperature]\n",
    "        location = humidity_to_location[humidity]\n",
    "        locations.append(location)\n",
    "        # print(f\"Seed {seed} grows in location {location}\")\n",
    "        # print(f\"({seed}->{soil}->{fertilizer}->{water}->{light}->{temperature}->{humidity}->{location})\\n\")\n",
    "\n",
    "    return locations\n",
    "\n"
   ]
  },
  {
   "cell_type": "markdown",
   "metadata": {},
   "source": [
    "## Part I"
   ]
  },
  {
   "cell_type": "code",
   "execution_count": 11,
   "metadata": {},
   "outputs": [
    {
     "name": "stdout",
     "output_type": "stream",
     "text": [
      "\n",
      "Minimum location is 51580674\n"
     ]
    }
   ],
   "source": [
    "locations = seeds_to_locations(seeds)\n",
    "min_location = min(locations)\n",
    "print(f\"\\nMinimum location is {min_location}\")\n"
   ]
  },
  {
   "cell_type": "markdown",
   "metadata": {},
   "source": [
    "## Part II"
   ]
  },
  {
   "cell_type": "code",
   "execution_count": 12,
   "metadata": {},
   "outputs": [],
   "source": [
    "\n",
    "seed_ranges = list(zip(seeds[::2], seeds[1::2]))\n"
   ]
  },
  {
   "cell_type": "code",
   "execution_count": 13,
   "metadata": {},
   "outputs": [
    {
     "name": "stdout",
     "output_type": "stream",
     "text": [
      "Naively (forward), we would need to check 1,680,883,088 seeds\n",
      "Naively (backward), we would need to check 4,294,967,296 locations\n",
      "Lowest known location is 433,589,209\n"
     ]
    }
   ],
   "source": [
    "\n",
    "number_of_checks = sum([x[1] for x in seed_ranges])\n",
    "max_location = max([start+range for start, range in humidity_to_location.values()])\n",
    "min_known_location = min(locations[::2])\n",
    "\n",
    "print(f\"Naively (forward), we would need to check {number_of_checks:,} seeds\")\n",
    "print(f\"Naively (backward), we would need to check {max_location:,} locations\")\n",
    "print(f\"Lowest known location is {min_known_location:,}\")\n"
   ]
  },
  {
   "cell_type": "code",
   "execution_count": 14,
   "metadata": {},
   "outputs": [],
   "source": [
    "location_to_humidity    = RangeDict({dest: (source, length) for (source, (dest, length)) in humidity_to_location.items()})\n",
    "humidity_to_temperature = RangeDict({dest: (source, length) for (source, (dest, length)) in temperature_to_humidity.items()})\n",
    "temperature_to_light    = RangeDict({dest: (source, length) for (source, (dest, length)) in light_to_temperature.items()})\n",
    "light_to_water          = RangeDict({dest: (source, length) for (source, (dest, length)) in water_to_light.items()})\n",
    "water_to_fertilizer     = RangeDict({dest: (source, length) for (source, (dest, length)) in fertilizer_to_water.items()})\n",
    "fertilizer_to_soil      = RangeDict({dest: (source, length) for (source, (dest, length)) in soil_to_fertilizer.items()})\n",
    "soil_to_seed            = RangeDict({dest: (source, length) for (source, (dest, length)) in seed_to_soil.items()})\n"
   ]
  },
  {
   "cell_type": "code",
   "execution_count": 15,
   "metadata": {},
   "outputs": [],
   "source": [
    "def location_to_seed(location: int) -> int:\n",
    "    humidity = location_to_humidity[location]\n",
    "    temperature = humidity_to_temperature[humidity]\n",
    "    light = temperature_to_light[temperature]\n",
    "    water = light_to_water[light]\n",
    "    fertilizer = water_to_fertilizer[water]\n",
    "    soil = fertilizer_to_soil[fertilizer]\n",
    "    seed = soil_to_seed[soil]\n",
    "    return seed\n"
   ]
  },
  {
   "cell_type": "code",
   "execution_count": 34,
   "metadata": {},
   "outputs": [],
   "source": [
    "def in_range(x):\n",
    "    return any([x in range(start, start+length) for (start, length) in seed_ranges])\n",
    "\n",
    "\n",
    "def get_seed_locations(locations: list) -> tuple[int, int, int]:\n",
    "    print(f\"Checking locations starting at {locations[0]}\")\n",
    "    for location in locations:\n",
    "        # if location % 100_000 == 0:\n",
    "            # print(f\"Checking location {location}\")\n",
    "        humidity = location_to_humidity[location]\n",
    "        temperature = humidity_to_temperature[humidity]\n",
    "        light = temperature_to_light[temperature]\n",
    "        water = light_to_water[light]\n",
    "        fertilizer = water_to_fertilizer[water]\n",
    "        soil = fertilizer_to_soil[fertilizer]\n",
    "        seed = soil_to_seed[soil]\n",
    "\n",
    "        if in_range(seed):\n",
    "            print(f\"Seed {seed} grows in location {location}\")\n",
    "            return locations[0], seed, location\n",
    "\n",
    "# takes too long - stopped at around 52.000.000 (~20min)\n",
    "# with roughly 1.21% locations checked (although we only need the first match)\n",
    "# get_seed_locations(range(min_known_location))\n"
   ]
  },
  {
   "cell_type": "code",
   "execution_count": 35,
   "metadata": {},
   "outputs": [],
   "source": [
    "from concurrent.futures import ProcessPoolExecutor, as_completed\n",
    "\n",
    "\n",
    "def get_seed_locations_multiproc(max_location, num_worker=16) -> list:\n",
    "\n",
    "    stepsize = max_location // num_worker\n",
    "    starting_indices = [stepsize * i for i in range(num_worker)]\n",
    "    ranges = [range(start, start+stepsize) for start in starting_indices]\n",
    "\n",
    "    with ProcessPoolExecutor(max_workers=num_worker) as executor:\n",
    "        futures = [executor.submit(get_seed_locations, r) for r in ranges]\n",
    "\n",
    "        for future in as_completed(futures):\n",
    "            result = future.result()\n",
    "            if result is not None:\n",
    "                start, seed, loc = result\n",
    "                if np.min(starting_indices) == start:\n",
    "                    # Current is the lowest match, abort the rest.\n",
    "                    executor.shutdown(wait=False)\n",
    "                    # Today I learned:\n",
    "                    #   - shutdown(wait=False) does not kill the running processes\n",
    "                    #   - cancel() does not kill the running processes either\n",
    "                    #   - in fact there is no easy way to kill the running processes,\n",
    "                    #     only to cancel them before they start.\n",
    "                    return start, seed, loc\n",
    "                else:\n",
    "                    starting_indices.remove(start)\n"
   ]
  },
  {
   "cell_type": "code",
   "execution_count": 36,
   "metadata": {},
   "outputs": [],
   "source": [
    "min_known_locations = [\n",
    "    min_known_location,  # This is an already known minimum\n",
    "    100_267_484,  # This one was found by luck (more or less) and reduced the search space immensely\n",
    "]\n"
   ]
  },
  {
   "cell_type": "code",
   "execution_count": 37,
   "metadata": {},
   "outputs": [
    {
     "name": "stdout",
     "output_type": "stream",
     "text": [
      "Checking locations starting at 0Checking locations starting at 25066868Checking locations starting at 37600302Checking locations starting at 31333585Checking locations starting at 18800151Checking locations starting at 12533434Checking locations starting at 50133736Checking locations starting at 6266717Checking locations starting at 56400453Checking locations starting at 43867019Checking locations starting at 62667170\n",
      "Checking locations starting at 68933887Checking locations starting at 75200604\n",
      "\n",
      "\n",
      "Checking locations starting at 94000755Checking locations starting at 87734038Checking locations starting at 81467321\n",
      "\n",
      "\n",
      "\n",
      "\n",
      "\n",
      "\n",
      "\n",
      "\n",
      "\n",
      "\n",
      "\n"
     ]
    },
    {
     "name": "stdout",
     "output_type": "stream",
     "text": [
      "Seed 1055427336 grows in location 99751240\n"
     ]
    }
   ],
   "source": [
    "get_seed_locations_multiproc(min_known_locations[-1], num_worker=16)\n"
   ]
  },
  {
   "cell_type": "code",
   "execution_count": 38,
   "metadata": {},
   "outputs": [
    {
     "data": {
      "text/plain": [
       "99751240"
      ]
     },
     "execution_count": 38,
     "metadata": {},
     "output_type": "execute_result"
    }
   ],
   "source": [
    "99_751_240\n"
   ]
  }
 ],
 "metadata": {
  "kernelspec": {
   "display_name": "mlbook",
   "language": "python",
   "name": "python3"
  },
  "language_info": {
   "codemirror_mode": {
    "name": "ipython",
    "version": 3
   },
   "file_extension": ".py",
   "mimetype": "text/x-python",
   "name": "python",
   "nbconvert_exporter": "python",
   "pygments_lexer": "ipython3",
   "version": "3.9.13"
  }
 },
 "nbformat": 4,
 "nbformat_minor": 2
}
