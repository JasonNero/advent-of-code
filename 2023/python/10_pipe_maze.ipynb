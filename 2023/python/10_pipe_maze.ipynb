{
 "cells": [
  {
   "cell_type": "code",
   "execution_count": 1,
   "metadata": {},
   "outputs": [],
   "source": [
    "import numpy as np\n",
    "from pathlib import Path\n",
    "from matplotlib import pyplot as plt\n"
   ]
  },
  {
   "cell_type": "code",
   "execution_count": 6,
   "metadata": {},
   "outputs": [],
   "source": [
    "with Path(\"../10.in\").open() as f:\n",
    "    data = f.read().splitlines()\n",
    "\n",
    "data = np.array([list(line) for line in data])\n"
   ]
  },
  {
   "cell_type": "code",
   "execution_count": 75,
   "metadata": {},
   "outputs": [],
   "source": [
    "testdata = \"\"\"\\\n",
    ".....\n",
    ".S-7.\n",
    ".|.|.\n",
    ".L-J.\n",
    ".....\"\"\".splitlines()\n",
    "\n",
    "testdata = np.array([list(line) for line in testdata])\n"
   ]
  },
  {
   "cell_type": "code",
   "execution_count": 76,
   "metadata": {},
   "outputs": [],
   "source": [
    "testdata2 = \"\"\"\\\n",
    "7-F7-\n",
    ".FJ|7\n",
    "SJLL7\n",
    "|F--J\n",
    "LJ.LJ\"\"\".splitlines()\n",
    "\n",
    "testdata2 = np.array([list(line) for line in testdata2])\n"
   ]
  },
  {
   "cell_type": "markdown",
   "metadata": {},
   "source": [
    "The pipes are arranged in a two-dimensional grid of tiles:\n",
    "\n",
    "- `|` is a vertical pipe connecting north and south.\n",
    "- `-` is a horizontal pipe connecting east and west.\n",
    "- `L` is a 90-degree bend connecting north and east.\n",
    "- `J` is a 90-degree bend connecting north and west.\n",
    "- `7` is a 90-degree bend connecting south and west.\n",
    "- `F` is a 90-degree bend connecting south and east.\n",
    "- `.` is ground; there is no pipe in this tile.\n",
    "- `S` is the starting position of the animal"
   ]
  },
  {
   "cell_type": "markdown",
   "metadata": {},
   "source": [
    "## Part I"
   ]
  },
  {
   "cell_type": "code",
   "execution_count": 77,
   "metadata": {},
   "outputs": [],
   "source": [
    "def evaluate_start(data):\n",
    "    start_pos = np.argwhere(data == \"S\")[0]\n",
    "    next_pos = []\n",
    "\n",
    "    north = data[start_pos[0]-1, start_pos[1]]\n",
    "    east = data[start_pos[0], start_pos[1]+1]\n",
    "    south = data[start_pos[0]+1, start_pos[1]]\n",
    "    west = data[start_pos[0], start_pos[1]-1]\n",
    "\n",
    "    if north in [\"|\", \"7\", \"F\"]:\n",
    "        next_pos.append(start_pos + np.array([-1, 0]))\n",
    "    if east in [\"-\", \"7\", \"J\"]:\n",
    "        next_pos.append(start_pos + np.array([0, 1]))\n",
    "    if south in [\"|\", \"L\", \"J\"]:\n",
    "        next_pos.append(start_pos + np.array([1, 0]))\n",
    "    if west in [\"-\", \"L\", \"F\"]:\n",
    "        next_pos.append(start_pos + np.array([0, -1]))\n",
    "\n",
    "    return start_pos, np.array(next_pos)\n"
   ]
  },
  {
   "cell_type": "code",
   "execution_count": 79,
   "metadata": {},
   "outputs": [],
   "source": [
    "pipes = {\n",
    "    \"|\": [[-1, 0], [1, 0]],\n",
    "    \"-\": [[0, -1], [0, 1]],\n",
    "    \"L\": [[-1, 0], [0, 1]],\n",
    "    \"J\": [[-1, 0], [0, -1]],\n",
    "    \"7\": [[0, -1], [1, 0]],\n",
    "    \"F\": [[0, 1], [1, 0]],\n",
    "}\n"
   ]
  },
  {
   "cell_type": "code",
   "execution_count": 88,
   "metadata": {},
   "outputs": [],
   "source": [
    "def step(data, pos, previous_pos):\n",
    "    pipe = str(data[pos[0], pos[1]])\n",
    "    # print(f\"Pipe Type: {pipe} at {pos}\")\n",
    "    directions = pipes.get(pipe)\n",
    "    direction = [d for d in directions if not np.array_equal(d, previous_pos - pos)][0]\n",
    "    new_pos = pos + direction\n",
    "    return new_pos\n"
   ]
  },
  {
   "cell_type": "code",
   "execution_count": 103,
   "metadata": {},
   "outputs": [
    {
     "name": "stdout",
     "output_type": "stream",
     "text": [
      "Start Pos: [38 55]\n",
      "Start Options: [[37 55]\n",
      " [39 55]]\n"
     ]
    },
    {
     "name": "stdout",
     "output_type": "stream",
     "text": [
      "Found Start after 14172 steps.\n",
      "Furthest Distance: 7086.0\n"
     ]
    }
   ],
   "source": [
    "start_pos, start_options = evaluate_start(data)\n",
    "print(f\"Start Pos: {start_pos}\\nStart Options: {start_options}\")\n",
    "\n",
    "previous_pos = start_pos\n",
    "current_pos = start_options[0]\n",
    "\n",
    "path = [start_pos, current_pos]\n",
    "\n",
    "steps = 1\n",
    "while True:\n",
    "    new_pos = step(data, current_pos, previous_pos)\n",
    "    path.append(new_pos)\n",
    "    steps += 1\n",
    "    if np.array_equal(new_pos, start_pos):\n",
    "        print(f\"Found Start after {steps} steps.\")\n",
    "        print(f\"Furthest Distance: {steps/2}\")\n",
    "        break\n",
    "    previous_pos = current_pos\n",
    "    current_pos = new_pos\n"
   ]
  },
  {
   "cell_type": "markdown",
   "metadata": {},
   "source": [
    "## Part II"
   ]
  },
  {
   "cell_type": "code",
   "execution_count": 141,
   "metadata": {},
   "outputs": [],
   "source": [
    "testdata3 = \"\"\"\\\n",
    "..........\n",
    ".S------7.\n",
    ".|F----7|.\n",
    ".||OOOO||.\n",
    ".||OOOO||.\n",
    ".|L-7F-J|.\n",
    ".|II||II|.\n",
    ".L--JL--J.\n",
    "..........\"\"\".splitlines()\n",
    "testdata3 = np.array([list(line) for line in testdata3])\n"
   ]
  },
  {
   "cell_type": "code",
   "execution_count": 142,
   "metadata": {},
   "outputs": [
    {
     "name": "stdout",
     "output_type": "stream",
     "text": [
      "Start Pos: [1 1]\n",
      "Start Options: [[1 2]\n",
      " [2 1]]\n",
      "Found Start after 44 steps.\n",
      "Furthest Distance: 22.0\n"
     ]
    }
   ],
   "source": [
    "start_pos, start_options = evaluate_start(testdata3)\n",
    "print(f\"Start Pos: {start_pos}\\nStart Options: {start_options}\")\n",
    "\n",
    "previous_pos = start_pos\n",
    "current_pos = start_options[0]\n",
    "\n",
    "path = [start_pos, current_pos]\n",
    "\n",
    "steps = 1\n",
    "while True:\n",
    "    new_pos = step(testdata3, current_pos, previous_pos)\n",
    "    path.append(new_pos)\n",
    "    steps += 1\n",
    "    if np.array_equal(new_pos, start_pos):\n",
    "        print(f\"Found Start after {steps} steps.\")\n",
    "        print(f\"Furthest Distance: {steps/2}\")\n",
    "        break\n",
    "    previous_pos = current_pos\n",
    "    current_pos = new_pos\n"
   ]
  },
  {
   "cell_type": "code",
   "execution_count": 143,
   "metadata": {},
   "outputs": [
    {
     "data": {
      "text/plain": [
       "<matplotlib.image.AxesImage at 0x140e29bd0>"
      ]
     },
     "execution_count": 143,
     "metadata": {},
     "output_type": "execute_result"
    },
    {
     "data": {
      "image/png": "[encoded data removed]",
      "text/plain": [
       "<Figure size 800x800 with 1 Axes>"
      ]
     },
     "metadata": {},
     "output_type": "display_data"
    }
   ],
   "source": [
    "img = np.zeros((*testdata3.shape, 3), dtype=float)\n",
    "\n",
    "for i in range(1, len(path)):\n",
    "    prev, pos = path[i-1:i+1]\n",
    "    direction = pos - prev\n",
    "    img[pos[0], pos[1]] = [*direction, -1]\n",
    "\n",
    "plt.figure(figsize=(8, 8))\n",
    "plt.axis(\"off\")\n",
    "plt.imshow(img/2 + 0.5)\n"
   ]
  },
  {
   "cell_type": "code",
   "execution_count": 155,
   "metadata": {},
   "outputs": [
    {
     "name": "stdout",
     "output_type": "stream",
     "text": [
      "[-1  0]\n",
      "[[0 1]\n",
      " [0 1]\n",
      " [0 0]]\n",
      "[[ 0 -1]\n",
      " [ 0 -1]\n",
      " [ 0  0]]\n"
     ]
    },
    {
     "data": {
      "image/png": "[encoded data removed]",
      "text/plain": [
       "<Figure size 800x800 with 2 Axes>"
      ]
     },
     "metadata": {},
     "output_type": "display_data"
    }
   ],
   "source": [
    "\n",
    "# 0 = nothing\n",
    "# 1 = on path\n",
    "# 2 = to the right of path\n",
    "# 3 = to the left of path\n",
    "\n",
    "img = np.zeros(testdata3.shape, dtype=float)\n",
    "\n",
    "for i in range(0, len(path)-1):\n",
    "    pos, next_pos = path[i:i+2]\n",
    "\n",
    "    if i == 8:\n",
    "        break\n",
    "\n",
    "    img[pos[0], pos[1]] = 1\n",
    "\n",
    "    direction = pos - next_pos\n",
    "    right_of_dir = direction @ np.array([[0, -1], [1, 0]])\n",
    "\n",
    "    # right_of_dir = np.array([direction[1], -direction[0]])\n",
    "\n",
    "\n",
    "\n",
    "    if direction[0] != 0 and direction[1] != 0:\n",
    "        inside_directions = [right_of_dir]\n",
    "        outside_directions = [-right_of_dir]\n",
    "    else:\n",
    "        inside_directions = np.array([\n",
    "            right_of_dir,\n",
    "            [0, right_of_dir[1]],\n",
    "            [right_of_dir[0], 0]\n",
    "        ])\n",
    "        outside_directions = np.array([-d for d in inside_directions])\n",
    "\n",
    "    if i == 7:\n",
    "        print(direction)\n",
    "        print(inside_directions)\n",
    "        print(outside_directions)\n",
    "\n",
    "    for dirs, mark in [[inside_directions, 2], [outside_directions, 3]]:\n",
    "        for dir in dirs:\n",
    "            j = 1\n",
    "            while True:\n",
    "                new_pos = pos + j * dir\n",
    "                if new_pos[0] < 0 or new_pos[0] >= testdata3.shape[0] or new_pos[1] < 0 or new_pos[1] >= testdata3.shape[1]:\n",
    "                    break\n",
    "                elif img[new_pos[0], new_pos[1]] == 1:\n",
    "                    break\n",
    "                else:\n",
    "                    img[new_pos[0], new_pos[1]] = mark\n",
    "                j += 1\n",
    "\n",
    "\n",
    "    if i == 7:\n",
    "        plt.figure(figsize=(8, 8))\n",
    "        plt.title(f\"Step {i}\")\n",
    "        plt.axis(\"off\")\n",
    "        im = plt.imshow(img)\n",
    "        plt.colorbar(im)\n",
    "        plt.show()\n"
   ]
  },
  {
   "cell_type": "code",
   "execution_count": null,
   "metadata": {},
   "outputs": [],
   "source": []
  }
 ],
 "metadata": {
  "kernelspec": {
   "display_name": "base",
   "language": "python",
   "name": "python3"
  },
  "language_info": {
   "codemirror_mode": {
    "name": "ipython",
    "version": 3
   },
   "file_extension": ".py",
   "mimetype": "text/x-python",
   "name": "python",
   "nbconvert_exporter": "python",
   "pygments_lexer": "ipython3",
   "version": "3.10.6"
  }
 },
 "nbformat": 4,
 "nbformat_minor": 2
}
