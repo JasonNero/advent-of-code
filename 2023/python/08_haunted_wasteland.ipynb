{
 "cells": [
  {
   "cell_type": "code",
   "execution_count": 1,
   "metadata": {},
   "outputs": [],
   "source": [
    "import itertools\n",
    "from collections import defaultdict\n",
    "from pathlib import Path\n",
    "\n",
    "import numpy as np\n"
   ]
  },
  {
   "cell_type": "code",
   "execution_count": 2,
   "metadata": {},
   "outputs": [],
   "source": [
    "with Path(\"../08.in\").open() as f:\n",
    "    data = f.read().splitlines()\n"
   ]
  },
  {
   "cell_type": "code",
   "execution_count": 3,
   "metadata": {},
   "outputs": [],
   "source": [
    "testdata = \"\"\"\\\n",
    "RL\n",
    "\n",
    "AAA = (BBB, CCC)\n",
    "BBB = (DDD, EEE)\n",
    "CCC = (ZZZ, GGG)\n",
    "DDD = (DDD, DDD)\n",
    "EEE = (EEE, EEE)\n",
    "GGG = (GGG, GGG)\n",
    "ZZZ = (ZZZ, ZZZ)\"\"\".splitlines()\n"
   ]
  },
  {
   "cell_type": "markdown",
   "metadata": {},
   "source": [
    "## Part I"
   ]
  },
  {
   "cell_type": "code",
   "execution_count": 4,
   "metadata": {},
   "outputs": [],
   "source": [
    "def parse(data):\n",
    "    instructions = [int(char == \"R\") for char in data[0]]\n",
    "\n",
    "    mapping = {}\n",
    "    for line in data[2:]:\n",
    "        pos = line[0:3]\n",
    "        left = line[7:10]\n",
    "        right = line[12:15]\n",
    "        mapping[pos] = (left, right)\n",
    "\n",
    "    return instructions, mapping\n"
   ]
  },
  {
   "cell_type": "code",
   "execution_count": 5,
   "metadata": {},
   "outputs": [],
   "source": [
    "def solve1(instructions, mapping, start=\"AAA\", target=\"ZZZ\"):\n",
    "    pos = start\n",
    "    for step, direction in enumerate(itertools.cycle(instructions), start=1):\n",
    "        pos = mapping[pos][direction]\n",
    "        if pos == target:\n",
    "            break\n",
    "    return step\n"
   ]
  },
  {
   "cell_type": "code",
   "execution_count": 6,
   "metadata": {},
   "outputs": [
    {
     "name": "stdout",
     "output_type": "stream",
     "text": [
      "Part 1: 17141\n"
     ]
    }
   ],
   "source": [
    "instructions, mapping = parse(data)\n",
    "steps = solve1(instructions, mapping)\n",
    "\n",
    "print(f\"Part 1: {steps}\")\n"
   ]
  },
  {
   "cell_type": "markdown",
   "metadata": {},
   "source": [
    "# Part II\n",
    "\n",
    "- Setup\n",
    "  - Nodes ending on `A` are now starting nodes\n",
    "  - Process all at the same time\n",
    "  - End is reached when all (not just some) of them end on a `Z` node\n",
    "- Observations\n",
    "  - Apparently it is 1:1 mapping between source and target nodes\n",
    "  - It also seems to be cyclic\n",
    "  - Hence we just need the 1st hit and calculate the LCM of all starting nodes\n",
    "    - LCM = Least Common Multiple (see `np.lcm` or `math.lcm`)"
   ]
  },
  {
   "cell_type": "code",
   "execution_count": 7,
   "metadata": {},
   "outputs": [],
   "source": [
    "testdata2 = \"\"\"\\\n",
    "LR\n",
    "\n",
    "11A = (11B, XXX)\n",
    "11B = (XXX, 11Z)\n",
    "11Z = (11B, XXX)\n",
    "22A = (22B, XXX)\n",
    "22B = (22C, 22C)\n",
    "22C = (22Z, 22Z)\n",
    "22Z = (22B, 22B)\n",
    "XXX = (XXX, XXX)\"\"\".splitlines()\n"
   ]
  },
  {
   "cell_type": "code",
   "execution_count": 8,
   "metadata": {},
   "outputs": [],
   "source": [
    "def solve2(instructions, mapping, max_steps=100_000):\n",
    "    start_nodes = [node for node in mapping.keys() if node[-1] == \"A\"]\n",
    "    node_to_steps: dict[list] = defaultdict(list)\n",
    "\n",
    "    for node in start_nodes:\n",
    "        current_node = node\n",
    "        for step, direction in enumerate(itertools.cycle(instructions), start=1):\n",
    "            current_node = mapping[current_node][direction]\n",
    "            if current_node[-1] == \"Z\":\n",
    "                node_to_steps[node].append(step)\n",
    "            if step > max_steps:\n",
    "                break\n",
    "    node_to_steps = dict(node_to_steps)\n",
    "\n",
    "    for node, steps in node_to_steps.items():\n",
    "        distances = [steps[i+1] - steps[i] for i in range(len(steps)-1)]\n",
    "        is_cyclic = len(set(distances)) == 1\n",
    "        assert is_cyclic\n",
    "        print(f\"{node} -> {steps}\")\n",
    "\n",
    "    min_steps = [steps[0] for steps in node_to_steps.values()]\n",
    "    solution = np.lcm.reduce(min_steps)\n",
    "\n",
    "    return solution\n"
   ]
  },
  {
   "cell_type": "code",
   "execution_count": 9,
   "metadata": {},
   "outputs": [
    {
     "name": "stdout",
     "output_type": "stream",
     "text": [
      "11A -> [2, 4, 6, 8, 10]\n",
      "22A -> [3, 6, 9]\n"
     ]
    },
    {
     "data": {
      "text/plain": [
       "6"
      ]
     },
     "execution_count": 9,
     "metadata": {},
     "output_type": "execute_result"
    }
   ],
   "source": [
    "instructions, mapping = parse(testdata2)\n",
    "solve2(instructions, mapping, max_steps=10)\n"
   ]
  },
  {
   "cell_type": "code",
   "execution_count": 10,
   "metadata": {},
   "outputs": [
    {
     "name": "stdout",
     "output_type": "stream",
     "text": [
      "AAA -> [17141, 34282, 51423, 68564, 85705]\n",
      "XQA -> [16579, 33158, 49737, 66316, 82895, 99474]\n",
      "SKA -> [18827, 37654, 56481, 75308, 94135]\n",
      "NQA -> [12083, 24166, 36249, 48332, 60415, 72498, 84581, 96664]\n",
      "LJA -> [13207, 26414, 39621, 52828, 66035, 79242, 92449]\n",
      "NVA -> [22199, 44398, 66597, 88796]\n"
     ]
    },
    {
     "data": {
      "text/plain": [
       "10818234074807"
      ]
     },
     "execution_count": 10,
     "metadata": {},
     "output_type": "execute_result"
    }
   ],
   "source": [
    "instructions, mapping = parse(data)\n",
    "solve2(instructions, mapping, max_steps=100_000)\n"
   ]
  },
  {
   "cell_type": "markdown",
   "metadata": {},
   "source": [
    "I wonder how long the naive version would have taken to run :D\n",
    "\n",
    "$10.818.234.074.807$ iterations are no fun I suppose"
   ]
  }
 ],
 "metadata": {
  "kernelspec": {
   "display_name": "mlbook",
   "language": "python",
   "name": "python3"
  },
  "language_info": {
   "codemirror_mode": {
    "name": "ipython",
    "version": 3
   },
   "file_extension": ".py",
   "mimetype": "text/x-python",
   "name": "python",
   "nbconvert_exporter": "python",
   "pygments_lexer": "ipython3",
   "version": "3.9.13"
  }
 },
 "nbformat": 4,
 "nbformat_minor": 2
}
