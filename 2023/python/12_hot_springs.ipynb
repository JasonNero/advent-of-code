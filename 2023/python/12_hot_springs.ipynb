{
 "cells": [
  {
   "cell_type": "code",
   "execution_count": 1,
   "metadata": {},
   "outputs": [],
   "source": [
    "import numpy as np\n",
    "from pathlib import Path\n",
    "import re\n"
   ]
  },
  {
   "cell_type": "code",
   "execution_count": 2,
   "metadata": {},
   "outputs": [],
   "source": [
    "with Path(\"../12.in\").open() as file:\n",
    "    data = file.read().splitlines()\n"
   ]
  },
  {
   "cell_type": "code",
   "execution_count": 3,
   "metadata": {},
   "outputs": [],
   "source": [
    "testdata = \"\"\"\\\n",
    "???.### 1,1,3\n",
    ".??..??...?##. 1,1,3\n",
    "?#?#?#?#?#?#?#? 1,3,1,6\n",
    "????.#...#... 4,1,1\n",
    "????.######..#####. 1,6,5\n",
    "?###???????? 3,2,1\n",
    "\"\"\".splitlines()\n"
   ]
  },
  {
   "cell_type": "code",
   "execution_count": 4,
   "metadata": {},
   "outputs": [],
   "source": [
    "arrangement_test = \"\"\"\\\n",
    "?###???????? 3,2,1\"\"\"\n",
    "arrangement_result = \"\"\"\\\n",
    ".###.##.#...\n",
    ".###.##..#..\n",
    ".###.##...#.\n",
    ".###.##....#\n",
    ".###..##.#..\n",
    ".###..##..#.\n",
    ".###..##...#\n",
    ".###...##.#.\n",
    ".###...##..#\n",
    ".###....##.#\"\"\".splitlines()\n"
   ]
  },
  {
   "cell_type": "code",
   "execution_count": 5,
   "metadata": {},
   "outputs": [
    {
     "data": {
      "text/plain": [
       "[3, 2, 1]"
      ]
     },
     "execution_count": 5,
     "metadata": {},
     "output_type": "execute_result"
    }
   ],
   "source": [
    "# %%timeit\n",
    "\n",
    "list(filter(bool, map(len, arrangement_result[0].split(\".\"))))\n"
   ]
  },
  {
   "cell_type": "code",
   "execution_count": 6,
   "metadata": {},
   "outputs": [
    {
     "data": {
      "text/plain": [
       "[3, 2, 1]"
      ]
     },
     "execution_count": 6,
     "metadata": {},
     "output_type": "execute_result"
    }
   ],
   "source": [
    "# %%timeit\n",
    "\n",
    "list(map(len, re.findall(r\"(?:#)+\", arrangement_result[0])))\n"
   ]
  },
  {
   "cell_type": "code",
   "execution_count": 7,
   "metadata": {},
   "outputs": [],
   "source": [
    "# test_re = re.compile(r\"(?:#)+\")\n",
    "\n",
    "# %timeit list(map(len, test_re.findall(arrangement_result[0])))\n"
   ]
  },
  {
   "cell_type": "markdown",
   "metadata": {},
   "source": [
    "## Part I\n",
    "\n",
    "- **Input**:\n",
    "  - Springs (e.g. `#.#.###`)\n",
    "    - `.` are operational springs\n",
    "    - `#` are broken springs\n",
    "    - `?` are springs of unknown status\n",
    "  - \"Checksum\" (e.g. `1,1,3`)\n",
    "    - Contiguous Groups of damaged springs\n",
    "- **Question**:\n",
    "  - How many different arrangements produce the same checksum?\n",
    "- **Approach**:\n",
    "  - Write a function that checks if an arrangement is valid\n",
    "  - Calculate how many unknown springs need to be broken to pass the checksum\n",
    "  - Split off parts of the row that are already valid, including the bordering springs\n",
    "    - **`?###?`**`??????? `**`3`**`,2,1\"\"\"`\n",
    "  - Build all combinations with the total count\n",
    "    - Iterate each position and try all combinations of broken springs \n"
   ]
  },
  {
   "cell_type": "code",
   "execution_count": 8,
   "metadata": {},
   "outputs": [
    {
     "data": {
      "text/plain": [
       "(['???.###',\n",
       "  '.??..??...?##.',\n",
       "  '?#?#?#?#?#?#?#?',\n",
       "  '????.#...#...',\n",
       "  '????.######..#####.',\n",
       "  '?###????????'],\n",
       " [[1, 1, 3], [1, 1, 3], [1, 3, 1, 6], [4, 1, 1], [1, 6, 5], [3, 2, 1]])"
      ]
     },
     "execution_count": 8,
     "metadata": {},
     "output_type": "execute_result"
    }
   ],
   "source": [
    "def parse(lines):\n",
    "    rows = [line.split(\" \")[0] for line in lines]\n",
    "    hints = [list(map(int, line.split(\" \")[1].split(\",\"))) for line in lines]\n",
    "    return rows, hints\n",
    "\n",
    "parse(testdata)\n"
   ]
  },
  {
   "cell_type": "code",
   "execution_count": 9,
   "metadata": {},
   "outputs": [
    {
     "name": "stdout",
     "output_type": "stream",
     "text": [
      "True\n",
      "True\n",
      "True\n",
      "True\n",
      "True\n",
      "True\n",
      "True\n",
      "True\n",
      "True\n",
      "True\n"
     ]
    }
   ],
   "source": [
    "def is_valid_arrangement(springs, hints):\n",
    "    found_hints = list(filter(bool, map(len, springs.split(\".\"))))\n",
    "    return found_hints == hints\n",
    "\n",
    "for line in arrangement_result:\n",
    "    print(is_valid_arrangement(line, [3, 2, 1]))\n"
   ]
  },
  {
   "cell_type": "code",
   "execution_count": 10,
   "metadata": {},
   "outputs": [],
   "source": [
    "def generate_all_arrangements(springs, hints):\n",
    "    arrangements = [springs[0]] if springs[0] in \".#\" else [\".\", \"#\"]\n",
    "    for char in springs[1:]:\n",
    "        if char in \".#\":\n",
    "            for i in range(len(arrangements)):\n",
    "                arrangements[i] += char\n",
    "        else:\n",
    "            count = len(arrangements)\n",
    "            for i in range(count):\n",
    "                arrangements.append(arrangements[i] + \"#\")\n",
    "                arrangements[i] += \".\"\n",
    "\n",
    "    # print(arrangements)\n",
    "    return list(filter(lambda arr: is_valid_arrangement(arr, hints), arrangements))\n"
   ]
  },
  {
   "cell_type": "code",
   "execution_count": 11,
   "metadata": {},
   "outputs": [],
   "source": [
    "%load_ext line_profiler\n"
   ]
  },
  {
   "cell_type": "code",
   "execution_count": 12,
   "metadata": {},
   "outputs": [
    {
     "name": "stdout",
     "output_type": "stream",
     "text": [
      "Part 1: 21\n"
     ]
    }
   ],
   "source": [
    "\n",
    "def solve(rows, checks):\n",
    "    num_valid_arrs = 0\n",
    "    for springs, groups in zip(rows, checks):\n",
    "        valid_arrs = generate_all_arrangements(springs, groups)\n",
    "        # print(f\"{len(valid_arrs):>3} valid arrangements for {springs:<30} {groups}\")\n",
    "        num_valid_arrs += len(valid_arrs)\n",
    "\n",
    "    print(f\"Part 1: {num_valid_arrs}\")\n",
    "\n",
    "solve(*parse(testdata))\n"
   ]
  },
  {
   "cell_type": "markdown",
   "metadata": {},
   "source": [
    "## Part II\n",
    "\n",
    "- Each input is \"folded\" and needs to be multiplied 5 times\n",
    "  - `.# 1` becomes `.#?.#?.#?.#?.# 1,1,1,1,1`\n",
    "  - `?` separate each multiplication"
   ]
  },
  {
   "cell_type": "code",
   "execution_count": 13,
   "metadata": {},
   "outputs": [
    {
     "data": {
      "text/plain": [
       "(('???.###????.###????.###????.###????.###',\n",
       "  '.??..??...?##.?.??..??...?##.?.??..??...?##.?.??..??...?##.?.??..??...?##.',\n",
       "  '?#?#?#?#?#?#?#???#?#?#?#?#?#?#???#?#?#?#?#?#?#???#?#?#?#?#?#?#???#?#?#?#?#?#?#?',\n",
       "  '????.#...#...?????.#...#...?????.#...#...?????.#...#...?????.#...#...',\n",
       "  '????.######..#####.?????.######..#####.?????.######..#####.?????.######..#####.?????.######..#####.',\n",
       "  '?###??????????###??????????###??????????###??????????###????????'),\n",
       " ((1, 1, 3, 1, 1, 3, 1, 1, 3, 1, 1, 3, 1, 1, 3),\n",
       "  (1, 1, 3, 1, 1, 3, 1, 1, 3, 1, 1, 3, 1, 1, 3),\n",
       "  (1, 3, 1, 6, 1, 3, 1, 6, 1, 3, 1, 6, 1, 3, 1, 6, 1, 3, 1, 6),\n",
       "  (4, 1, 1, 4, 1, 1, 4, 1, 1, 4, 1, 1, 4, 1, 1),\n",
       "  (1, 6, 5, 1, 6, 5, 1, 6, 5, 1, 6, 5, 1, 6, 5),\n",
       "  (3, 2, 1, 3, 2, 1, 3, 2, 1, 3, 2, 1, 3, 2, 1)))"
      ]
     },
     "execution_count": 13,
     "metadata": {},
     "output_type": "execute_result"
    }
   ],
   "source": [
    "def unfold(rows, hints, mult=5):\n",
    "    rows = tuple([\"?\".join([row,] * mult) for row in rows])\n",
    "    hints = tuple([tuple(check * mult) for check in hints])\n",
    "    return rows, hints\n",
    "\n",
    "unfold(*parse(testdata))\n"
   ]
  },
  {
   "cell_type": "code",
   "execution_count": 14,
   "metadata": {},
   "outputs": [],
   "source": [
    "import functools\n"
   ]
  },
  {
   "cell_type": "code",
   "execution_count": 15,
   "metadata": {},
   "outputs": [],
   "source": [
    "@functools.lru_cache(maxsize=None)\n",
    "def get_valid_arrangements(springs: str, hints: tuple[int], cont_count: int=0):\n",
    "    \"\"\"Recursively count valid arrangements. Heavily relies on caching.\n",
    "\n",
    "    Args:\n",
    "        springs (str): String of springs (\".\", \"#\", \"?\").\n",
    "        hints (list): List of hints (int).\n",
    "        cont_count (int): Number of contiguous broken springs.\n",
    "    \"\"\"\n",
    "\n",
    "    if not springs:\n",
    "        # No springs left, check if we have any hints left\n",
    "        if len(hints) == 1 and hints[0] == cont_count:\n",
    "            # Last hint is satisfied -> valid\n",
    "            return 1\n",
    "        elif len(hints) == 0 and cont_count == 0:\n",
    "            # End reached and no hints left -> valid\n",
    "            return 1\n",
    "        else:\n",
    "            # End reached but hints left -> invalid\n",
    "            return 0\n",
    "\n",
    "    spring, new_springs = springs[0], springs[1:]\n",
    "    hint, new_hints = (hints[0], hints[1:]) if hints else (0, tuple())\n",
    "\n",
    "    if spring == \"?\":\n",
    "        # Try both options, keeping the current hint and counter.\n",
    "        # Add their results.\n",
    "        return (get_valid_arrangements(\".\" + new_springs, hints, cont_count)\n",
    "                + get_valid_arrangements(\"#\" + new_springs, hints, cont_count))\n",
    "\n",
    "    elif spring == \"#\":\n",
    "        if cont_count > hint:\n",
    "            # Found more contiguous broken springs than allowed -> invalid\n",
    "            return 0\n",
    "        else:\n",
    "            # Increase the counter and recurse with the same hints\n",
    "            return get_valid_arrangements(new_springs, hints, cont_count + 1)\n",
    "\n",
    "    elif spring == \".\":\n",
    "        if cont_count == 0:\n",
    "            # No contiguous broken springs, just passing through.\n",
    "            # Keep the current hints and counter (which is 0 anyway).\n",
    "            return get_valid_arrangements(new_springs, hints, cont_count)\n",
    "        elif cont_count == hint:\n",
    "            # All contiguous broken springs of the current hint are satisfied.\n",
    "            # Continue with the next hint and reset the counter.\n",
    "            return get_valid_arrangements(new_springs, new_hints, 0)\n",
    "        else:\n",
    "            # Contiguous broken springs interrupted -> invalid\n",
    "            return 0\n"
   ]
  },
  {
   "cell_type": "code",
   "execution_count": 16,
   "metadata": {},
   "outputs": [
    {
     "name": "stdout",
     "output_type": "stream",
     "text": [
      "???.###????.###????.###????.###????.### (1, 1, 3, 1, 1, 3, 1, 1, 3, 1, 1, 3, 1, 1, 3) -> 1\n",
      ".??..??...?##.?.??..??...?##.?.??..??...?##.?.??..??...?##.?.??..??...?##. (1, 1, 3, 1, 1, 3, 1, 1, 3, 1, 1, 3, 1, 1, 3) -> 16384\n",
      "?#?#?#?#?#?#?#???#?#?#?#?#?#?#???#?#?#?#?#?#?#???#?#?#?#?#?#?#???#?#?#?#?#?#?#? (1, 3, 1, 6, 1, 3, 1, 6, 1, 3, 1, 6, 1, 3, 1, 6, 1, 3, 1, 6) -> 1\n",
      "????.#...#...?????.#...#...?????.#...#...?????.#...#...?????.#...#... (4, 1, 1, 4, 1, 1, 4, 1, 1, 4, 1, 1, 4, 1, 1) -> 16\n",
      "????.######..#####.?????.######..#####.?????.######..#####.?????.######..#####.?????.######..#####. (1, 6, 5, 1, 6, 5, 1, 6, 5, 1, 6, 5, 1, 6, 5) -> 2500\n",
      "?###??????????###??????????###??????????###??????????###???????? (3, 2, 1, 3, 2, 1, 3, 2, 1, 3, 2, 1, 3, 2, 1) -> 506250\n",
      "Part II: 525152\n",
      "CacheInfo(hits=114, misses=2519, maxsize=None, currsize=2519)\n"
     ]
    }
   ],
   "source": [
    "get_valid_arrangements.cache_clear()\n",
    "\n",
    "total = 0\n",
    "for row, check in zip(*unfold(*parse(testdata))):\n",
    "    num_valid = get_valid_arrangements(row, check)\n",
    "    print(f\"{row:<30} {check} -> {num_valid}\")\n",
    "    total += num_valid\n",
    "\n",
    "print(f\"Part II: {total}\")\n",
    "\n",
    "print(get_valid_arrangements.cache_info())\n"
   ]
  },
  {
   "cell_type": "code",
   "execution_count": 17,
   "metadata": {},
   "outputs": [
    {
     "name": "stdout",
     "output_type": "stream",
     "text": [
      "Part II: 83317216247365\n",
      "CacheInfo(hits=127435, misses=2092498, maxsize=None, currsize=2092498)\n"
     ]
    }
   ],
   "source": [
    "get_valid_arrangements.cache_clear()\n",
    "\n",
    "total = 0\n",
    "for row, check in zip(*unfold(*parse(data))):\n",
    "    num_valid = get_valid_arrangements(row, check)\n",
    "    total += num_valid\n",
    "\n",
    "print(f\"Part II: {total}\")\n",
    "\n",
    "print(get_valid_arrangements.cache_info())\n"
   ]
  }
 ],
 "metadata": {
  "kernelspec": {
   "display_name": "mlbook",
   "language": "python",
   "name": "python3"
  },
  "language_info": {
   "codemirror_mode": {
    "name": "ipython",
    "version": 3
   },
   "file_extension": ".py",
   "mimetype": "text/x-python",
   "name": "python",
   "nbconvert_exporter": "python",
   "pygments_lexer": "ipython3",
   "version": "3.9.13"
  }
 },
 "nbformat": 4,
 "nbformat_minor": 2
}
