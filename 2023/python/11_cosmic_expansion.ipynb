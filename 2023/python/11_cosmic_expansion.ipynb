{
 "cells": [
  {
   "cell_type": "code",
   "execution_count": 1,
   "metadata": {},
   "outputs": [],
   "source": [
    "import numpy as np\n",
    "from pathlib import Path\n",
    "from matplotlib import pyplot as plt"
   ]
  },
  {
   "cell_type": "code",
   "execution_count": 2,
   "metadata": {},
   "outputs": [],
   "source": [
    "with Path(\"../11.in\").open() as file:\n",
    "    data = file.read().strip().splitlines()\n"
   ]
  },
  {
   "cell_type": "code",
   "execution_count": 3,
   "metadata": {},
   "outputs": [],
   "source": [
    "testdata = \"\"\"\\\n",
    "...#......\n",
    ".......#..\n",
    "#.........\n",
    "..........\n",
    "......#...\n",
    ".#........\n",
    ".........#\n",
    "..........\n",
    ".......#..\n",
    "#...#.....\"\"\".splitlines()"
   ]
  },
  {
   "cell_type": "code",
   "execution_count": 4,
   "metadata": {},
   "outputs": [
    {
     "data": {
      "text/plain": [
       "<matplotlib.image.AxesImage at 0x7f4f28757ee0>"
      ]
     },
     "execution_count": 4,
     "metadata": {},
     "output_type": "execute_result"
    },
    {
     "data": {
      "image/png": "[encoded data removed]",
      "text/plain": [
       "<Figure size 640x480 with 1 Axes>"
      ]
     },
     "metadata": {},
     "output_type": "display_data"
    }
   ],
   "source": [
    "def parse(data):\n",
    "    return np.array([[int(c == \"#\") for c in line] for line in data])\n",
    "\n",
    "\n",
    "image = parse(testdata)\n",
    "plt.imshow(image)"
   ]
  },
  {
   "cell_type": "markdown",
   "metadata": {},
   "source": [
    "## Part I - Expansion by `1`"
   ]
  },
  {
   "cell_type": "code",
   "execution_count": 5,
   "metadata": {},
   "outputs": [],
   "source": [
    "def get_galaxies_after_expansion(image, expansions=2):\n",
    "    cols_to_expand = np.argwhere(np.all(image == 0, axis=0)).flatten()\n",
    "    rows_to_expand = np.argwhere(np.all(image == 0, axis=1)).flatten()\n",
    "    # print(f\"Cols to expand: {cols_to_expand}\")\n",
    "    # print(f\"Rows to expand: {rows_to_expand}\")\n",
    "\n",
    "    galaxy_positions = np.argwhere(image == 1)\n",
    "    # print(f\"Galaxy Positions:\\n{galaxy_positions}\")\n",
    "\n",
    "    expanded_positions = []\n",
    "\n",
    "    for y, x in galaxy_positions:\n",
    "        if y < min(rows_to_expand):\n",
    "            ny = y\n",
    "        else:\n",
    "            # count the number of rows to expand\n",
    "            to_expand = np.count_nonzero(y > rows_to_expand)\n",
    "            ny = y + (expansions - 1) * to_expand\n",
    "        if x < min(cols_to_expand):\n",
    "            nx = x\n",
    "        else:\n",
    "            # count the number of cols to expand\n",
    "            to_expand = np.count_nonzero(x > cols_to_expand)\n",
    "            nx = x + (expansions - 1) * to_expand\n",
    "\n",
    "        expanded_positions.append((ny, nx))\n",
    "\n",
    "    expanded_positions = np.array(expanded_positions)\n",
    "    # print(f\"Expanded Positions:\\n{expanded_positions}\")\n",
    "\n",
    "    return expanded_positions\n"
   ]
  },
  {
   "cell_type": "code",
   "execution_count": 6,
   "metadata": {},
   "outputs": [],
   "source": [
    "def get_pairwise_distance(galaxies):\n",
    "    # Since we cannot go diagonally, the distance can be calculated as\n",
    "    # the sum of the vertical and horizontal distance.\n",
    "    distances = []\n",
    "    for i, (y1, x1) in enumerate(galaxies, start=1):\n",
    "        for j, (y2, x2) in enumerate(galaxies, start=1):\n",
    "            if j <= i:\n",
    "                continue\n",
    "            d = abs(y1 - y2) + abs(x1 - x2)\n",
    "            distances.append((i, j, d))\n",
    "    return distances\n",
    "\n",
    "pairwise_distances = get_pairwise_distance(get_galaxies_after_expansion(image))"
   ]
  },
  {
   "cell_type": "code",
   "execution_count": 7,
   "metadata": {},
   "outputs": [],
   "source": [
    "def solve1(data):\n",
    "    image = parse(data)\n",
    "    galaxies = get_galaxies_after_expansion(image)\n",
    "    distances = get_pairwise_distance(galaxies)\n",
    "    total_distance = sum(d for _, _, d in distances)\n",
    "    return total_distance\n",
    "\n",
    "assert solve1(testdata) == 374"
   ]
  },
  {
   "cell_type": "code",
   "execution_count": 8,
   "metadata": {},
   "outputs": [
    {
     "data": {
      "text/plain": [
       "9599070"
      ]
     },
     "execution_count": 8,
     "metadata": {},
     "output_type": "execute_result"
    }
   ],
   "source": [
    "solve1(data)"
   ]
  },
  {
   "cell_type": "markdown",
   "metadata": {},
   "source": [
    "## Part II - Expansion by `1_000_000`"
   ]
  },
  {
   "cell_type": "code",
   "execution_count": 9,
   "metadata": {},
   "outputs": [],
   "source": [
    "def solve2(data, expansions=1_000_000):\n",
    "    image = parse(data)\n",
    "    galaxies = get_galaxies_after_expansion(image, expansions=expansions)\n",
    "    distances = get_pairwise_distance(galaxies)\n",
    "    total_distance = sum(d for _, _, d in distances)\n",
    "    return total_distance\n",
    "\n",
    "assert solve2(testdata, expansions=10) == 1030\n",
    "assert solve2(testdata, expansions=100) == 8410\n"
   ]
  },
  {
   "cell_type": "code",
   "execution_count": 10,
   "metadata": {},
   "outputs": [
    {
     "data": {
      "text/plain": [
       "842645913794"
      ]
     },
     "execution_count": 10,
     "metadata": {},
     "output_type": "execute_result"
    }
   ],
   "source": [
    "solve2(data, expansions=1_000_000)"
   ]
  }
 ],
 "metadata": {
  "kernelspec": {
   "display_name": "Python 3",
   "language": "python",
   "name": "python3"
  },
  "language_info": {
   "codemirror_mode": {
    "name": "ipython",
    "version": 3
   },
   "file_extension": ".py",
   "mimetype": "text/x-python",
   "name": "python",
   "nbconvert_exporter": "python",
   "pygments_lexer": "ipython3",
   "version": "3.9.13"
  }
 },
 "nbformat": 4,
 "nbformat_minor": 2
}
