{
 "cells": [
  {
   "cell_type": "code",
   "execution_count": 55,
   "metadata": {},
   "outputs": [],
   "source": [
    "import numpy as np\n",
    "from pathlib import Path\n",
    "import functools\n"
   ]
  },
  {
   "cell_type": "code",
   "execution_count": 42,
   "metadata": {},
   "outputs": [],
   "source": [
    "with Path(\"../14.in\").open() as f:\n",
    "    data = f.read().splitlines()\n",
    "data = np.array([list(row) for row in data])\n"
   ]
  },
  {
   "cell_type": "code",
   "execution_count": 43,
   "metadata": {},
   "outputs": [],
   "source": [
    "# \"O\" is a movable rock\n",
    "# \"#\" is a stationary rock\n",
    "# \".\" is free space\n",
    "\n",
    "testdata = \"\"\"\\\n",
    "O....#....\n",
    "O.OO#....#\n",
    ".....##...\n",
    "OO.#O....O\n",
    ".O.....O#.\n",
    "O.#..O.#.#\n",
    "..O..#O..O\n",
    ".......O..\n",
    "#....###..\n",
    "#OO..#....\"\"\".splitlines()\n",
    "testdata = np.array([list(row) for row in testdata])\n"
   ]
  },
  {
   "cell_type": "code",
   "execution_count": 57,
   "metadata": {},
   "outputs": [
    {
     "name": "stdout",
     "output_type": "stream",
     "text": [
      "Part 1: 136\n"
     ]
    }
   ],
   "source": [
    "direction_to_rotations = {\n",
    "    \"north\": 0,\n",
    "    \"east\": 3,\n",
    "    \"south\": 2,\n",
    "    \"west\": 1\n",
    "}\n",
    "\n",
    "\n",
    "def tilt_dish(dish, direction=\"north\"):\n",
    "    rotations = direction_to_rotations[direction]\n",
    "    rotated_dish = np.rot90(dish, k=rotations)\n",
    "\n",
    "    for ci in range(rotated_dish.shape[1]):\n",
    "        last_free = -1\n",
    "        for ri in range(rotated_dish.shape[0]):\n",
    "            curr = rotated_dish[ri, ci]\n",
    "            if curr == \".\":\n",
    "                if last_free == -1:\n",
    "                    last_free = ri\n",
    "            elif curr == \"#\":\n",
    "                last_free = -1\n",
    "            elif curr == \"O\":\n",
    "                if last_free != -1:\n",
    "                    rotated_dish[last_free, ci] = \"O\"\n",
    "                    rotated_dish[ri, ci] = \".\"\n",
    "                    last_free += 1\n",
    "\n",
    "    modified_dish = np.rot90(rotated_dish, k=-rotations)\n",
    "    return modified_dish\n",
    "\n",
    "\n",
    "def calculate_load(dish, direction=\"north\"):\n",
    "    rotations = direction_to_rotations[direction]\n",
    "    rotated_dish = np.rot90(dish, k=rotations)\n",
    "    total_load = 0\n",
    "\n",
    "    rocks_per_row = np.sum(rotated_dish == \"O\", axis=1)\n",
    "    total_load = np.sum(rocks_per_row * np.arange(1, rotated_dish.shape[1]+1)[::-1])\n",
    "\n",
    "    return total_load\n",
    "\n",
    "\n",
    "def solve1(dish):\n",
    "    modified_dish = tilt_dish(dish.copy(), direction=\"north\")\n",
    "    total_load = calculate_load(modified_dish, direction=\"north\")\n",
    "    print(f\"Part 1: {total_load}\")\n",
    "    return total_load\n",
    "\n",
    "assert solve1(testdata) == 136\n"
   ]
  },
  {
   "cell_type": "code",
   "execution_count": 45,
   "metadata": {},
   "outputs": [
    {
     "name": "stdout",
     "output_type": "stream",
     "text": [
      "Part 1: 109755\n"
     ]
    },
    {
     "data": {
      "text/plain": [
       "109755"
      ]
     },
     "execution_count": 45,
     "metadata": {},
     "output_type": "execute_result"
    }
   ],
   "source": [
    "solve1(data)\n"
   ]
  },
  {
   "cell_type": "code",
   "execution_count": 62,
   "metadata": {},
   "outputs": [
    {
     "name": "stdout",
     "output_type": "stream",
     "text": [
      "Cycle found at 16 to 20!\n",
      "Part 2: 115\n"
     ]
    },
    {
     "data": {
      "text/plain": [
       "115"
      ]
     },
     "execution_count": 62,
     "metadata": {},
     "output_type": "execute_result"
    }
   ],
   "source": [
    "def solve2(dish, cycles=1_000_000_000):\n",
    "    current_dish = dish.copy()\n",
    "    cycle = [\"north\", \"west\", \"south\", \"east\"]\n",
    "\n",
    "    cache_data = {}\n",
    "    cache_idx = {}\n",
    "    for i in range(cycles):\n",
    "        direction = cycle[i%4]\n",
    "        key = (current_dish.data.tobytes(), direction)\n",
    "        modified_dish = tilt_dish(current_dish, direction=direction)\n",
    "        if key in cache_data:\n",
    "            j = cache_idx[key]\n",
    "            print(f\"Cycle found at {j} to {i}!\")\n",
    "            break\n",
    "        cache_data[key] = modified_dish\n",
    "        cache_idx[key] = i\n",
    "\n",
    "    total_load = calculate_load(modified_dish, direction=\"north\")\n",
    "    print(f\"Part 2: {total_load}\")\n",
    "    return total_load\n",
    "\n",
    "solve2(testdata, cycles=1_000)\n",
    "# I don't think this should be brute-forced ...\n",
    "# Old Mac:  0.3 sec for 1_000\n",
    "#          2:43 min for 1_000_000\n",
    "#           ~45 min for 1_000_000_000 ??\n",
    "# And thats just the testdata ...\n"
   ]
  },
  {
   "cell_type": "code",
   "execution_count": null,
   "metadata": {},
   "outputs": [],
   "source": []
  }
 ],
 "metadata": {
  "kernelspec": {
   "display_name": "base",
   "language": "python",
   "name": "python3"
  },
  "language_info": {
   "codemirror_mode": {
    "name": "ipython",
    "version": 3
   },
   "file_extension": ".py",
   "mimetype": "text/x-python",
   "name": "python",
   "nbconvert_exporter": "python",
   "pygments_lexer": "ipython3",
   "version": "3.10.6"
  }
 },
 "nbformat": 4,
 "nbformat_minor": 2
}
