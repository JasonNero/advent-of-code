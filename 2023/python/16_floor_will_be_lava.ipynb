{
 "cells": [
  {
   "cell_type": "code",
   "execution_count": 1,
   "metadata": {},
   "outputs": [],
   "source": [
    "import numpy as np\n",
    "from pathlib import Path"
   ]
  },
  {
   "cell_type": "code",
   "execution_count": 2,
   "metadata": {},
   "outputs": [],
   "source": [
    "with Path(\"../16.in\").open() as f:\n",
    "    data = f.read().strip().splitlines()\n",
    "    data = np.array([list(line) for line in data])\n",
    "\n",
    "with Path(\"../16_test.in\").open() as f:\n",
    "    testdata = f.read().strip().splitlines()\n",
    "    testdata = np.array([list(line) for line in testdata])\n"
   ]
  },
  {
   "cell_type": "code",
   "execution_count": 3,
   "metadata": {},
   "outputs": [],
   "source": [
    "def get_evaluated_directions(data, ray):\n",
    "    # Check the current tile\n",
    "    y, x, dy, dx = ray\n",
    "    tile = data[y, x]\n",
    "\n",
    "    if tile == \".\":\n",
    "        # Continue in the same direction\n",
    "        return [(dy, dx)]\n",
    "\n",
    "    elif tile == \"|\":\n",
    "        if dy != 0:\n",
    "            # Continue in the same direction\n",
    "            return [(dy, dx)]\n",
    "        else:\n",
    "            # Change direction\n",
    "            return [(1, 0), (-1, 0)]\n",
    "\n",
    "    elif tile == \"-\":\n",
    "        if dx != 0:\n",
    "            # Continue in the same direction\n",
    "            return [(dy, dx)]\n",
    "        else:\n",
    "            # Change direction\n",
    "            return [(0, 1), (0, -1)]\n",
    "\n",
    "    elif tile == \"/\":\n",
    "        if dx != 0:\n",
    "            # Change direction\n",
    "            return [(-dx, 0)]\n",
    "        else:\n",
    "            # Change direction\n",
    "            return [(0, -dy)]\n",
    "\n",
    "    elif tile == \"\\\\\":\n",
    "        if dx != 0:\n",
    "            # Change direction\n",
    "            return [(dx, 0)]\n",
    "        else:\n",
    "            # Change direction\n",
    "            return [(0, dy)]\n"
   ]
  },
  {
   "cell_type": "code",
   "execution_count": 4,
   "metadata": {},
   "outputs": [],
   "source": [
    "def get_visited(data, rays):\n",
    "    visited = {*rays}\n",
    "\n",
    "    while rays:\n",
    "        y, x, dy, dx = rays.pop()\n",
    "\n",
    "        # Move in that direction\n",
    "        x += dx\n",
    "        y += dy\n",
    "\n",
    "        new_ray = (y, x, dy, dx)\n",
    "\n",
    "        if not (0 <= x < data.shape[1] and 0 <= y < data.shape[0]):\n",
    "            # Out of bounds\n",
    "            continue\n",
    "        elif new_ray in visited:\n",
    "            # Already visited\n",
    "            continue\n",
    "\n",
    "        visited.add(new_ray)\n",
    "\n",
    "        # Check the current tile\n",
    "        evaluated_directions = get_evaluated_directions(data, new_ray)\n",
    "        for dy, dx in evaluated_directions:\n",
    "            rays.append((y, x, dy, dx))\n",
    "\n",
    "    return visited\n"
   ]
  },
  {
   "cell_type": "code",
   "execution_count": 8,
   "metadata": {},
   "outputs": [],
   "source": [
    "def get_starting_ray(data):\n",
    "    y, x, dy, dx = 0, 0, 0, 1\n",
    "    directions = get_evaluated_directions(data, (y, x, dy, dx))\n",
    "    return (y, x, *directions[0])\n"
   ]
  },
  {
   "cell_type": "code",
   "execution_count": 9,
   "metadata": {},
   "outputs": [],
   "source": [
    "def solve1(data):\n",
    "    ray = get_starting_ray(data)\n",
    "    visited = get_visited(data, [ray])\n",
    "    num_energized = len(set([ray[:2] for ray in visited]))\n",
    "    return num_energized"
   ]
  },
  {
   "cell_type": "code",
   "execution_count": 10,
   "metadata": {},
   "outputs": [],
   "source": [
    "assert solve1(testdata) == 46"
   ]
  },
  {
   "cell_type": "code",
   "execution_count": 11,
   "metadata": {},
   "outputs": [
    {
     "data": {
      "text/plain": [
       "7074"
      ]
     },
     "execution_count": 11,
     "metadata": {},
     "output_type": "execute_result"
    }
   ],
   "source": [
    "solve1(data)"
   ]
  },
  {
   "cell_type": "markdown",
   "metadata": {},
   "source": [
    "## Part II"
   ]
  },
  {
   "cell_type": "code",
   "execution_count": 12,
   "metadata": {},
   "outputs": [],
   "source": [
    "def get_initial_rays(data):\n",
    "    starting_rays = []\n",
    "\n",
    "    # Initialize rays from the edge points\n",
    "    for y in range(data.shape[0]):\n",
    "        starting_rays.append((y, 0, 0, 1))\n",
    "        starting_rays.append((y, data.shape[1] -1, 0, -1))\n",
    "    for x in range(data.shape[1]):\n",
    "        starting_rays.append((0, x, 1, 0))\n",
    "        starting_rays.append((data.shape[0] - 1, x, -1, 0))\n",
    "\n",
    "    # Update each ray direction(s) according to the tile it is on\n",
    "    for i, ray in enumerate(starting_rays):\n",
    "        new_dirs = get_evaluated_directions(data, ray)\n",
    "        if len(new_dirs) > 1:\n",
    "            # Split the ray into two\n",
    "            starting_rays[i] = (ray[0], ray[1], *new_dirs[0])\n",
    "            starting_rays.append((ray[0], ray[1], *new_dirs[1]))\n",
    "        else:\n",
    "            # Update the direction\n",
    "            starting_rays[i] = (ray[0], ray[1], *new_dirs[0])\n",
    "\n",
    "    return starting_rays\n"
   ]
  },
  {
   "cell_type": "code",
   "execution_count": 13,
   "metadata": {},
   "outputs": [
    {
     "name": "stdout",
     "output_type": "stream",
     "text": [
      "(0, 3, 1, 0) -> 51\n"
     ]
    }
   ],
   "source": [
    "def solve2(data):\n",
    "    initial_rays = get_initial_rays(data)\n",
    "    max_energized = 0\n",
    "    max_ray = None\n",
    "\n",
    "    for ray in initial_rays:\n",
    "        visited = get_visited(data, [ray])\n",
    "        num_energized = len(set([ray[:2] for ray in visited]))\n",
    "        if num_energized > max_energized:\n",
    "            max_energized = num_energized\n",
    "            max_ray = ray\n",
    "\n",
    "    print(f\"{max_ray} -> {max_energized}\")\n",
    "    return max_energized\n",
    "\n",
    "assert solve2(testdata) == 51"
   ]
  },
  {
   "cell_type": "code",
   "execution_count": 14,
   "metadata": {},
   "outputs": [
    {
     "name": "stdout",
     "output_type": "stream",
     "text": [
      "(0, 9, 1, 0) -> 7530\n"
     ]
    },
    {
     "data": {
      "text/plain": [
       "7530"
      ]
     },
     "execution_count": 14,
     "metadata": {},
     "output_type": "execute_result"
    }
   ],
   "source": [
    "solve2(data)"
   ]
  }
 ],
 "metadata": {
  "kernelspec": {
   "display_name": "base",
   "language": "python",
   "name": "python3"
  },
  "language_info": {
   "codemirror_mode": {
    "name": "ipython",
    "version": 3
   },
   "file_extension": ".py",
   "mimetype": "text/x-python",
   "name": "python",
   "nbconvert_exporter": "python",
   "pygments_lexer": "ipython3",
   "version": "3.10.6"
  }
 },
 "nbformat": 4,
 "nbformat_minor": 2
}
